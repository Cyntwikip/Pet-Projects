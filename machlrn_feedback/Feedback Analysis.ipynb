{
 "cells": [
  {
   "cell_type": "markdown",
   "metadata": {},
   "source": [
    "## Machine Learning Course Feedback Analysis\n",
    "\n",
    "*Prepared by:*  \n",
    "**Jude Michael Teves**  \n",
    "Faculty, Software Technology Department  \n",
    "College of Computer Studies - De La Salle University"
   ]
  },
  {
   "cell_type": "markdown",
   "metadata": {},
   "source": [
    "The term has just ended and I just got feedback from my students, who are mostly senior undergraduate Computer Science students, in the Machine Learning course I'm teaching. It was definitely a challenging course to teach as the field of Machine Learning is rapidly evolving and it has many prerequisites such as calculus, linear algebra, statistics, and programming, among others. In addition, I attempted to teach this course without skipping the nitty-gritty mathematics and actual implementation of some of the core algorithms we use today. Practical aspects and advanced techniques in Machine Learning  were taught as a response to how they conducted their homework and projects as a 1-term course would not be enough to discuss the intricacies of many of the techniques that we use. I believe it is one way of differentiating this with most resources nowadays so that the students won't think this is something they could have simply 'Googled'. Anyway, I think this a good time to reflect on what happened throughout this course, and what better way to do this than using Machine Learning on the feedback I have received? Machine Learning-ception XD."
   ]
  },
  {
   "cell_type": "markdown",
   "metadata": {},
   "source": [
    "## Preliminaries"
   ]
  },
  {
   "cell_type": "markdown",
   "metadata": {},
   "source": [
    "### Import Packages\n",
    "\n",
    "<!-- Version requirements:\n",
    "- seaborn >= 0.11 -->"
   ]
  },
  {
   "cell_type": "code",
   "execution_count": 1,
   "metadata": {},
   "outputs": [],
   "source": [
    "import numpy as np\n",
    "import pandas as pd \n",
    "import matplotlib.pyplot as plt \n",
    "\n",
    "import seaborn as sns\n",
    "\n",
    "from itertools import chain\n",
    "\n",
    "%matplotlib inline\n",
    "\n",
    "sns.set_style('darkgrid')"
   ]
  },
  {
   "cell_type": "code",
   "execution_count": 2,
   "metadata": {},
   "outputs": [
    {
     "name": "stdout",
     "output_type": "stream",
     "text": [
      "0.10.0\n"
     ]
    }
   ],
   "source": [
    "print(sns.__version__)"
   ]
  },
  {
   "cell_type": "code",
   "execution_count": 3,
   "metadata": {},
   "outputs": [],
   "source": [
    "FILENAME = \"Course Evaluation.csv\""
   ]
  },
  {
   "cell_type": "markdown",
   "metadata": {},
   "source": [
    "### Read Dataset\n",
    "\n",
    "We rename the columns first as they are too long and convert the ratings that are currently in text form into 1-5 scale for easing processing later. Note that for the following columns: 'course_rating', 'course_learning', 'instructor_knowledge', 'skill_start', 'skill_end', 'effort', and 'learning_contribution', the ratings are as follows:\n",
    "- Excellent - 5\n",
    "- Very good - 4\n",
    "- Satisfactory - 3\n",
    "- Fair - 2\n",
    "- Poor - 1\n",
    "\n",
    "And for the following columns: 'effective_lecturer', 'clear_presentations', 'stimulated_interest', 'effective_time', 'helpful', 'useful_feedback', 'clear_objectives', 'organized_content', 'appropriate_workload', and 'allow_participation', the ratings are as follows:\n",
    "- Strongly agree - 5\n",
    "- Agree - 4\n",
    "- Neutral - 3\n",
    "- Disagree - 2\n",
    "- Strongly Disagree - 1\n",
    "\n",
    "Both are actually rating systems found in Google Form's evaluation template, which I simply copied and modified by a bit for this evaluation.\n",
    "\n",
    "`Additional Info: out of the 36 students, 28 have given their feedback`"
   ]
  },
  {
   "cell_type": "code",
   "execution_count": 4,
   "metadata": {},
   "outputs": [
    {
     "data": {
      "text/html": [
       "<div>\n",
       "<style scoped>\n",
       "    .dataframe tbody tr th:only-of-type {\n",
       "        vertical-align: middle;\n",
       "    }\n",
       "\n",
       "    .dataframe tbody tr th {\n",
       "        vertical-align: top;\n",
       "    }\n",
       "\n",
       "    .dataframe thead th {\n",
       "        text-align: right;\n",
       "    }\n",
       "</style>\n",
       "<table border=\"1\" class=\"dataframe\">\n",
       "  <thead>\n",
       "    <tr style=\"text-align: right;\">\n",
       "      <th></th>\n",
       "      <th>timestamp</th>\n",
       "      <th>course_rating</th>\n",
       "      <th>course_learning</th>\n",
       "      <th>instructor_knowledge</th>\n",
       "      <th>skill_start</th>\n",
       "      <th>skill_end</th>\n",
       "      <th>effort</th>\n",
       "      <th>learning_contribution</th>\n",
       "      <th>effective_lecturer</th>\n",
       "      <th>clear_presentations</th>\n",
       "      <th>...</th>\n",
       "      <th>effective_time</th>\n",
       "      <th>helpful</th>\n",
       "      <th>useful_feedback</th>\n",
       "      <th>clear_objectives</th>\n",
       "      <th>organized_content</th>\n",
       "      <th>appropriate_workload</th>\n",
       "      <th>allow_participation</th>\n",
       "      <th>useful_aspects</th>\n",
       "      <th>wishlist</th>\n",
       "      <th>final_message</th>\n",
       "    </tr>\n",
       "  </thead>\n",
       "  <tbody>\n",
       "    <tr>\n",
       "      <th>0</th>\n",
       "      <td>2021/02/09 7:26:23 PM GMT+8</td>\n",
       "      <td>5</td>\n",
       "      <td>4</td>\n",
       "      <td>5</td>\n",
       "      <td>1</td>\n",
       "      <td>4</td>\n",
       "      <td>3</td>\n",
       "      <td>4</td>\n",
       "      <td>5</td>\n",
       "      <td>5</td>\n",
       "      <td>...</td>\n",
       "      <td>4</td>\n",
       "      <td>5</td>\n",
       "      <td>5</td>\n",
       "      <td>4</td>\n",
       "      <td>4</td>\n",
       "      <td>5</td>\n",
       "      <td>4</td>\n",
       "      <td>Learning about machine learning such as the pr...</td>\n",
       "      <td>None</td>\n",
       "      <td>Thank you for the term sir!</td>\n",
       "    </tr>\n",
       "    <tr>\n",
       "      <th>1</th>\n",
       "      <td>2021/02/09 7:26:30 PM GMT+8</td>\n",
       "      <td>4</td>\n",
       "      <td>4</td>\n",
       "      <td>4</td>\n",
       "      <td>2</td>\n",
       "      <td>3</td>\n",
       "      <td>3</td>\n",
       "      <td>4</td>\n",
       "      <td>5</td>\n",
       "      <td>4</td>\n",
       "      <td>...</td>\n",
       "      <td>5</td>\n",
       "      <td>5</td>\n",
       "      <td>5</td>\n",
       "      <td>4</td>\n",
       "      <td>4</td>\n",
       "      <td>5</td>\n",
       "      <td>5</td>\n",
       "      <td>Probably the fact that it cleared things up ab...</td>\n",
       "      <td>Probably have more time dedicated to activitie...</td>\n",
       "      <td>Thank you sir for being patient with us and do...</td>\n",
       "    </tr>\n",
       "    <tr>\n",
       "      <th>2</th>\n",
       "      <td>2021/02/09 7:28:02 PM GMT+8</td>\n",
       "      <td>4</td>\n",
       "      <td>5</td>\n",
       "      <td>5</td>\n",
       "      <td>2</td>\n",
       "      <td>3</td>\n",
       "      <td>2</td>\n",
       "      <td>3</td>\n",
       "      <td>4</td>\n",
       "      <td>5</td>\n",
       "      <td>...</td>\n",
       "      <td>3</td>\n",
       "      <td>5</td>\n",
       "      <td>5</td>\n",
       "      <td>5</td>\n",
       "      <td>5</td>\n",
       "      <td>4</td>\n",
       "      <td>5</td>\n",
       "      <td>It was really helpful to dive into the objecti...</td>\n",
       "      <td>A heads up on what previous lessons could be a...</td>\n",
       "      <td>Sir would there be any way for us to contact y...</td>\n",
       "    </tr>\n",
       "    <tr>\n",
       "      <th>3</th>\n",
       "      <td>2021/02/09 7:28:56 PM GMT+8</td>\n",
       "      <td>4</td>\n",
       "      <td>4</td>\n",
       "      <td>4</td>\n",
       "      <td>2</td>\n",
       "      <td>3</td>\n",
       "      <td>3</td>\n",
       "      <td>4</td>\n",
       "      <td>4</td>\n",
       "      <td>4</td>\n",
       "      <td>...</td>\n",
       "      <td>4</td>\n",
       "      <td>4</td>\n",
       "      <td>4</td>\n",
       "      <td>4</td>\n",
       "      <td>4</td>\n",
       "      <td>4</td>\n",
       "      <td>4</td>\n",
       "      <td>home works</td>\n",
       "      <td>NaN</td>\n",
       "      <td>thank you for the term</td>\n",
       "    </tr>\n",
       "    <tr>\n",
       "      <th>4</th>\n",
       "      <td>2021/02/09 7:29:42 PM GMT+8</td>\n",
       "      <td>4</td>\n",
       "      <td>5</td>\n",
       "      <td>4</td>\n",
       "      <td>1</td>\n",
       "      <td>3</td>\n",
       "      <td>4</td>\n",
       "      <td>4</td>\n",
       "      <td>4</td>\n",
       "      <td>4</td>\n",
       "      <td>...</td>\n",
       "      <td>4</td>\n",
       "      <td>5</td>\n",
       "      <td>4</td>\n",
       "      <td>4</td>\n",
       "      <td>3</td>\n",
       "      <td>4</td>\n",
       "      <td>4</td>\n",
       "      <td>Learning on how the machine learning pipeline ...</td>\n",
       "      <td>NaN</td>\n",
       "      <td>Thank you sir for teaching us the entire term!...</td>\n",
       "    </tr>\n",
       "  </tbody>\n",
       "</table>\n",
       "<p>5 rows × 21 columns</p>\n",
       "</div>"
      ],
      "text/plain": [
       "                     timestamp  course_rating  course_learning  \\\n",
       "0  2021/02/09 7:26:23 PM GMT+8              5                4   \n",
       "1  2021/02/09 7:26:30 PM GMT+8              4                4   \n",
       "2  2021/02/09 7:28:02 PM GMT+8              4                5   \n",
       "3  2021/02/09 7:28:56 PM GMT+8              4                4   \n",
       "4  2021/02/09 7:29:42 PM GMT+8              4                5   \n",
       "\n",
       "   instructor_knowledge  skill_start  skill_end  effort  \\\n",
       "0                     5            1          4       3   \n",
       "1                     4            2          3       3   \n",
       "2                     5            2          3       2   \n",
       "3                     4            2          3       3   \n",
       "4                     4            1          3       4   \n",
       "\n",
       "   learning_contribution  effective_lecturer  clear_presentations  ...  \\\n",
       "0                      4                   5                    5  ...   \n",
       "1                      4                   5                    4  ...   \n",
       "2                      3                   4                    5  ...   \n",
       "3                      4                   4                    4  ...   \n",
       "4                      4                   4                    4  ...   \n",
       "\n",
       "   effective_time  helpful  useful_feedback  clear_objectives  \\\n",
       "0               4        5                5                 4   \n",
       "1               5        5                5                 4   \n",
       "2               3        5                5                 5   \n",
       "3               4        4                4                 4   \n",
       "4               4        5                4                 4   \n",
       "\n",
       "   organized_content  appropriate_workload  allow_participation  \\\n",
       "0                  4                     5                    4   \n",
       "1                  4                     5                    5   \n",
       "2                  5                     4                    5   \n",
       "3                  4                     4                    4   \n",
       "4                  3                     4                    4   \n",
       "\n",
       "                                      useful_aspects  \\\n",
       "0  Learning about machine learning such as the pr...   \n",
       "1  Probably the fact that it cleared things up ab...   \n",
       "2  It was really helpful to dive into the objecti...   \n",
       "3                                         home works   \n",
       "4  Learning on how the machine learning pipeline ...   \n",
       "\n",
       "                                            wishlist  \\\n",
       "0                                               None   \n",
       "1  Probably have more time dedicated to activitie...   \n",
       "2  A heads up on what previous lessons could be a...   \n",
       "3                                                NaN   \n",
       "4                                                NaN   \n",
       "\n",
       "                                       final_message  \n",
       "0                        Thank you for the term sir!  \n",
       "1  Thank you sir for being patient with us and do...  \n",
       "2  Sir would there be any way for us to contact y...  \n",
       "3                             thank you for the term  \n",
       "4  Thank you sir for teaching us the entire term!...  \n",
       "\n",
       "[5 rows x 21 columns]"
      ]
     },
     "execution_count": 4,
     "metadata": {},
     "output_type": "execute_result"
    }
   ],
   "source": [
    "df = pd.read_csv(FILENAME)\n",
    "# df.columns = ['timestamp', 'course_rating', 'course_learning', 'instructor_knowledge', 'skill_start', 'skill_end', 'effort', 'learning_contribution',\n",
    "#               'effective_lecturer', 'clear_presentations', 'stimulated_interest', 'effective_time', 'helpful', 'useful_feedback', 'clear_objectives', \n",
    "#                 'organized_content', 'appropriate_workload', 'allow_participation', 'useful_aspects', 'wishlist', 'final_message']\n",
    "\n",
    "df.rename(columns = {\"Timestamp\": \"timestamp\", \n",
    "           \"How would you rate the course?\": \"course_rating\",\n",
    "           \"Did you learn many things in this course?\": \"course_learning\",\n",
    "           \"Rate the instructor's knowledge in this field\": \"instructor_knowledge\",\n",
    "           \"Contribution to learning [Level of skill/knowledge at start of course]\": \"skill_start\",\n",
    "           \"Contribution to learning [Level of skill/knowledge at end of course]\": \"skill_end\",\n",
    "           \"Contribution to learning [Level of skill/knowledge required to complete the course]\": \"effort\",\n",
    "           \"Contribution to learning [Contribution of course to your skill/knowledge]\": \"learning_contribution\",\n",
    "           \"Skill and responsiveness of the instructor [Instructor was an effective lecturer/demonstrator]\": \"effective_lecturer\",\n",
    "           \"Skill and responsiveness of the instructor [Presentations were clear and organized]\": \"clear_presentations\",\n",
    "           \"Skill and responsiveness of the instructor [Instructor stimulated student interest]\": \"stimulated_interest\",\n",
    "           \"Skill and responsiveness of the instructor [Instructor effectively used time during class periods]\": \"effective_time\",\n",
    "           \"Skill and responsiveness of the instructor [Instructor was available and helpful]\": \"helpful\",\n",
    "           \"Skill and responsiveness of the instructor [Grading was prompt and had useful feedback]\": \"useful_feedback\",\n",
    "           \"Course content [Learning objectives were clear]\": \"clear_objectives\",\n",
    "           \"Course content [Course content was organized and well planned]\": \"organized_content\",\n",
    "           \"Course content [Course workload was appropriate]\": \"appropriate_workload\",\n",
    "           \"Course content [Course organized to allow all students to participate fully]\": \"allow_participation\",\n",
    "           \"What aspects of this course were most useful or valuable?\" :\"useful_aspects\",\n",
    "           \"How would you improve this course (Wishlist)? \": \"wishlist\",\n",
    "           \"Any final message to me?\": \"final_message\"}, inplace=True)\n",
    "\n",
    "cols = ['course_rating', 'course_learning', 'instructor_knowledge', 'skill_start', 'skill_end', 'effort', 'learning_contribution']\n",
    "df[cols] = df[cols].replace({'Excellent': 5,\n",
    "                             'Very good': 4,\n",
    "                             'Satisfactory': 3,\n",
    "                             'Fair': 2,\n",
    "                             'Poor': 1})\n",
    "\n",
    "cols = ['effective_lecturer', 'clear_presentations', 'stimulated_interest', 'effective_time', 'helpful', 'useful_feedback', \n",
    "        'clear_objectives', 'organized_content', 'appropriate_workload', 'allow_participation']\n",
    "df[cols] = df[cols].replace({'Strongly agree': 5,\n",
    "                             'Agree': 4,\n",
    "                             'Neutral': 3,\n",
    "                             'Disagree': 2,\n",
    "                             'Strongly disagree': 1})\n",
    "\n",
    "df.head()"
   ]
  },
  {
   "cell_type": "markdown",
   "metadata": {},
   "source": [
    "## Exploratory Data Analysis"
   ]
  },
  {
   "cell_type": "markdown",
   "metadata": {},
   "source": [
    "### High-level course ratings, Instructor knowledge, and Learning contribution ratings"
   ]
  },
  {
   "cell_type": "markdown",
   "metadata": {},
   "source": [
    "Here we show some descriptive statistics on those columns."
   ]
  },
  {
   "cell_type": "code",
   "execution_count": 5,
   "metadata": {},
   "outputs": [
    {
     "data": {
      "text/html": [
       "<div>\n",
       "<style scoped>\n",
       "    .dataframe tbody tr th:only-of-type {\n",
       "        vertical-align: middle;\n",
       "    }\n",
       "\n",
       "    .dataframe tbody tr th {\n",
       "        vertical-align: top;\n",
       "    }\n",
       "\n",
       "    .dataframe thead th {\n",
       "        text-align: right;\n",
       "    }\n",
       "</style>\n",
       "<table border=\"1\" class=\"dataframe\">\n",
       "  <thead>\n",
       "    <tr style=\"text-align: right;\">\n",
       "      <th></th>\n",
       "      <th>course_rating</th>\n",
       "      <th>course_learning</th>\n",
       "      <th>instructor_knowledge</th>\n",
       "    </tr>\n",
       "  </thead>\n",
       "  <tbody>\n",
       "    <tr>\n",
       "      <th>count</th>\n",
       "      <td>28.000000</td>\n",
       "      <td>28.000000</td>\n",
       "      <td>28.000000</td>\n",
       "    </tr>\n",
       "    <tr>\n",
       "      <th>mean</th>\n",
       "      <td>4.285714</td>\n",
       "      <td>4.571429</td>\n",
       "      <td>4.857143</td>\n",
       "    </tr>\n",
       "    <tr>\n",
       "      <th>std</th>\n",
       "      <td>0.534522</td>\n",
       "      <td>0.503953</td>\n",
       "      <td>0.356348</td>\n",
       "    </tr>\n",
       "  </tbody>\n",
       "</table>\n",
       "</div>"
      ],
      "text/plain": [
       "       course_rating  course_learning  instructor_knowledge\n",
       "count      28.000000        28.000000             28.000000\n",
       "mean        4.285714         4.571429              4.857143\n",
       "std         0.534522         0.503953              0.356348"
      ]
     },
     "execution_count": 5,
     "metadata": {},
     "output_type": "execute_result"
    }
   ],
   "source": [
    "cols = ['course_rating', 'course_learning', 'instructor_knowledge']\n",
    "df[cols].describe().loc[['count', 'mean', 'std']]"
   ]
  },
  {
   "cell_type": "code",
   "execution_count": 6,
   "metadata": {},
   "outputs": [
    {
     "data": {
      "text/html": [
       "<div>\n",
       "<style scoped>\n",
       "    .dataframe tbody tr th:only-of-type {\n",
       "        vertical-align: middle;\n",
       "    }\n",
       "\n",
       "    .dataframe tbody tr th {\n",
       "        vertical-align: top;\n",
       "    }\n",
       "\n",
       "    .dataframe thead th {\n",
       "        text-align: right;\n",
       "    }\n",
       "</style>\n",
       "<table border=\"1\" class=\"dataframe\">\n",
       "  <thead>\n",
       "    <tr style=\"text-align: right;\">\n",
       "      <th></th>\n",
       "      <th>skill_start</th>\n",
       "      <th>skill_end</th>\n",
       "      <th>effort</th>\n",
       "      <th>learning_contribution</th>\n",
       "    </tr>\n",
       "  </thead>\n",
       "  <tbody>\n",
       "    <tr>\n",
       "      <th>count</th>\n",
       "      <td>28.000000</td>\n",
       "      <td>28.000000</td>\n",
       "      <td>28.000000</td>\n",
       "      <td>28.000000</td>\n",
       "    </tr>\n",
       "    <tr>\n",
       "      <th>mean</th>\n",
       "      <td>2.285714</td>\n",
       "      <td>3.714286</td>\n",
       "      <td>3.714286</td>\n",
       "      <td>4.142857</td>\n",
       "    </tr>\n",
       "    <tr>\n",
       "      <th>std</th>\n",
       "      <td>1.272418</td>\n",
       "      <td>0.854493</td>\n",
       "      <td>0.762896</td>\n",
       "      <td>0.755929</td>\n",
       "    </tr>\n",
       "  </tbody>\n",
       "</table>\n",
       "</div>"
      ],
      "text/plain": [
       "       skill_start  skill_end     effort  learning_contribution\n",
       "count    28.000000  28.000000  28.000000              28.000000\n",
       "mean      2.285714   3.714286   3.714286               4.142857\n",
       "std       1.272418   0.854493   0.762896               0.755929"
      ]
     },
     "execution_count": 6,
     "metadata": {},
     "output_type": "execute_result"
    }
   ],
   "source": [
    "cols = ['skill_start', 'skill_end', 'effort', 'learning_contribution']\n",
    "df[cols].describe().loc[['count', 'mean', 'std']]"
   ]
  },
  {
   "cell_type": "code",
   "execution_count": 7,
   "metadata": {},
   "outputs": [
    {
     "data": {
      "image/png": "[encoded data removed]",
      "text/plain": [
       "<Figure size 800x600 with 4 Axes>"
      ]
     },
     "metadata": {},
     "output_type": "display_data"
    }
   ],
   "source": [
    "nrows, ncols = (2, 2)\n",
    "fig, ax = plt.subplots(nrows, ncols, figsize=(8, 6), dpi=100)\n",
    "\n",
    "cols = ['course_rating', 'course_learning', 'instructor_knowledge', 'learning_contribution']\n",
    "\n",
    "for curr_ax, col in zip(list(chain(*ax)), cols):\n",
    "    sns.distplot(df[col], kde=False, ax=curr_ax)\n",
    "    curr_ax.set_xlim(1, 5)\n",
    "    curr_ax.set_ylabel('count')\n",
    "    curr_ax.set_title(f\"Average rating: {df[col].mean():.2f}\")\n",
    "\n",
    "figure_title = 'Machine Learning Course Rating\\n(5 - Excellent, 4 - Very good, 3 - Satisfactory, 2 - Fair, 1 - Poor)'\n",
    "plt.suptitle(figure_title, y=1.06)\n",
    "plt.tight_layout()\n",
    "plt.show()\n"
   ]
  },
  {
   "cell_type": "markdown",
   "metadata": {},
   "source": [
    "As can be seen in the graphs above, students generally have great feedback for this course. The highest here is the `instructor_knowledge` feature."
   ]
  },
  {
   "cell_type": "markdown",
   "metadata": {},
   "source": [
    "### Perceived improvement in skill throughout the term\n",
    "\n",
    "In hindsight, I realized that the default questions I got from Google Forms for `Contribution to learning [Level of skill/knowledge at start of course` and `Contribution to learning [Level of skill/knowledge at end of course]` are ambiguous. Some might interpret the former to be the students' skill level prior to starting the course, some might interpret it as the learnings that they got from me in the first few sessions of this course. I was initially thinking of the former. I realized the ambiguity when I saw some feedback having `Excellent` marks on both items. To give context, the class has little to no ML background prior to this course. Thus, the results of statistical test below will be a more conservative estimate of the perceived improvement of the students.\n",
    "\n",
    "Let's first look at the change in average perceived skill."
   ]
  },
  {
   "cell_type": "code",
   "execution_count": 8,
   "metadata": {},
   "outputs": [
    {
     "data": {
      "text/html": [
       "<div>\n",
       "<style scoped>\n",
       "    .dataframe tbody tr th:only-of-type {\n",
       "        vertical-align: middle;\n",
       "    }\n",
       "\n",
       "    .dataframe tbody tr th {\n",
       "        vertical-align: top;\n",
       "    }\n",
       "\n",
       "    .dataframe thead th {\n",
       "        text-align: right;\n",
       "    }\n",
       "</style>\n",
       "<table border=\"1\" class=\"dataframe\">\n",
       "  <thead>\n",
       "    <tr style=\"text-align: right;\">\n",
       "      <th></th>\n",
       "      <th>skill_start</th>\n",
       "      <th>skill_end</th>\n",
       "    </tr>\n",
       "  </thead>\n",
       "  <tbody>\n",
       "    <tr>\n",
       "      <th>count</th>\n",
       "      <td>28.000000</td>\n",
       "      <td>28.000000</td>\n",
       "    </tr>\n",
       "    <tr>\n",
       "      <th>mean</th>\n",
       "      <td>2.285714</td>\n",
       "      <td>3.714286</td>\n",
       "    </tr>\n",
       "    <tr>\n",
       "      <th>std</th>\n",
       "      <td>1.272418</td>\n",
       "      <td>0.854493</td>\n",
       "    </tr>\n",
       "  </tbody>\n",
       "</table>\n",
       "</div>"
      ],
      "text/plain": [
       "       skill_start  skill_end\n",
       "count    28.000000  28.000000\n",
       "mean      2.285714   3.714286\n",
       "std       1.272418   0.854493"
      ]
     },
     "execution_count": 8,
     "metadata": {},
     "output_type": "execute_result"
    }
   ],
   "source": [
    "cols = ['skill_start', 'skill_end']\n",
    "df[cols].describe().loc[['count', 'mean', 'std']]"
   ]
  },
  {
   "cell_type": "markdown",
   "metadata": {},
   "source": [
    "Note that the rating system for the features of interest here are the following:\n",
    "- Excellent - 5\n",
    "- Very good - 4\n",
    "- Satisfactory - 3\n",
    "- Fair - 2\n",
    "- Poor - 1\n",
    "\n",
    "It seems like there is a noticeable increase in skill, but let's compare if they are truly statistically significant. We will be using Wilcoxon signed-ranked test as it is non-parametric, which is suited for ordinal data, and because our data comes from the same group. Our hypothesis is that there is an increase in skill. Let's set our alpha value to 0.05 ($\\alpha = 0.05$). We then reject the null hypothesis (no change) if the p-value we get is lower than that."
   ]
  },
  {
   "cell_type": "code",
   "execution_count": 9,
   "metadata": {},
   "outputs": [
    {
     "data": {
      "text/plain": [
       "WilcoxonResult(statistic=6.0, pvalue=1.6267401626169193e-05)"
      ]
     },
     "execution_count": 9,
     "metadata": {},
     "output_type": "execute_result"
    }
   ],
   "source": [
    "from scipy.stats import wilcoxon\n",
    "\n",
    "wilcoxon(df['skill_start'], df['skill_end'])"
   ]
  },
  {
   "cell_type": "code",
   "execution_count": 10,
   "metadata": {},
   "outputs": [
    {
     "name": "stdout",
     "output_type": "stream",
     "text": [
      "Alternative hypothesis: There is a noticeable change in the distribution.\n"
     ]
    }
   ],
   "source": [
    "alpha = 0.05\n",
    "test_statistic, p = wilcoxon(df['skill_start'], df['skill_end'])\n",
    "\n",
    "if p > alpha:\n",
    "    print(\"Null hypothesis: No change in the distribution.\")\n",
    "else:\n",
    "    print(\"Alternative hypothesis: There is a noticeable change in the distribution.\")"
   ]
  },
  {
   "cell_type": "markdown",
   "metadata": {},
   "source": [
    "We got 2.29 for the initial skill level and 3.71 for the final skill level. As the statistical test shows, the students' perceived skill did improve throughout the term. The final skill level should not be confused with the 4.14 in the `learning_contribution` as a student may have learned a lot but they might still feel that they have much to learn, which is something that I expect."
   ]
  },
  {
   "cell_type": "markdown",
   "metadata": {},
   "source": [
    "### Instructor-specific ratings\n",
    "\n",
    "For the following features, we use a different ranking system compared to the ones before.\n",
    "- Strongly agree - 5\n",
    "- Agree - 4\n",
    "- Neutral - 3\n",
    "- Disagree - 2\n",
    "- Strongly Disagree - 1\n"
   ]
  },
  {
   "cell_type": "code",
   "execution_count": 11,
   "metadata": {},
   "outputs": [
    {
     "data": {
      "text/html": [
       "<div>\n",
       "<style scoped>\n",
       "    .dataframe tbody tr th:only-of-type {\n",
       "        vertical-align: middle;\n",
       "    }\n",
       "\n",
       "    .dataframe tbody tr th {\n",
       "        vertical-align: top;\n",
       "    }\n",
       "\n",
       "    .dataframe thead th {\n",
       "        text-align: right;\n",
       "    }\n",
       "</style>\n",
       "<table border=\"1\" class=\"dataframe\">\n",
       "  <thead>\n",
       "    <tr style=\"text-align: right;\">\n",
       "      <th></th>\n",
       "      <th>effective_lecturer</th>\n",
       "      <th>clear_presentations</th>\n",
       "      <th>stimulated_interest</th>\n",
       "      <th>effective_time</th>\n",
       "      <th>helpful</th>\n",
       "      <th>useful_feedback</th>\n",
       "      <th>clear_objectives</th>\n",
       "      <th>organized_content</th>\n",
       "      <th>appropriate_workload</th>\n",
       "      <th>allow_participation</th>\n",
       "    </tr>\n",
       "  </thead>\n",
       "  <tbody>\n",
       "    <tr>\n",
       "      <th>count</th>\n",
       "      <td>28.000000</td>\n",
       "      <td>28.000000</td>\n",
       "      <td>28.000000</td>\n",
       "      <td>28.000000</td>\n",
       "      <td>28.000000</td>\n",
       "      <td>28.000000</td>\n",
       "      <td>28.000000</td>\n",
       "      <td>28.000000</td>\n",
       "      <td>28.000000</td>\n",
       "      <td>28.000000</td>\n",
       "    </tr>\n",
       "    <tr>\n",
       "      <th>mean</th>\n",
       "      <td>4.357143</td>\n",
       "      <td>4.321429</td>\n",
       "      <td>4.107143</td>\n",
       "      <td>4.428571</td>\n",
       "      <td>4.857143</td>\n",
       "      <td>4.607143</td>\n",
       "      <td>4.392857</td>\n",
       "      <td>4.428571</td>\n",
       "      <td>4.607143</td>\n",
       "      <td>4.428571</td>\n",
       "    </tr>\n",
       "    <tr>\n",
       "      <th>std</th>\n",
       "      <td>0.678467</td>\n",
       "      <td>0.669636</td>\n",
       "      <td>0.831745</td>\n",
       "      <td>0.690066</td>\n",
       "      <td>0.356348</td>\n",
       "      <td>0.566947</td>\n",
       "      <td>0.685257</td>\n",
       "      <td>0.572750</td>\n",
       "      <td>0.497347</td>\n",
       "      <td>0.634126</td>\n",
       "    </tr>\n",
       "  </tbody>\n",
       "</table>\n",
       "</div>"
      ],
      "text/plain": [
       "       effective_lecturer  clear_presentations  stimulated_interest  \\\n",
       "count           28.000000            28.000000            28.000000   \n",
       "mean             4.357143             4.321429             4.107143   \n",
       "std              0.678467             0.669636             0.831745   \n",
       "\n",
       "       effective_time    helpful  useful_feedback  clear_objectives  \\\n",
       "count       28.000000  28.000000        28.000000         28.000000   \n",
       "mean         4.428571   4.857143         4.607143          4.392857   \n",
       "std          0.690066   0.356348         0.566947          0.685257   \n",
       "\n",
       "       organized_content  appropriate_workload  allow_participation  \n",
       "count          28.000000             28.000000            28.000000  \n",
       "mean            4.428571              4.607143             4.428571  \n",
       "std             0.572750              0.497347             0.634126  "
      ]
     },
     "execution_count": 11,
     "metadata": {},
     "output_type": "execute_result"
    }
   ],
   "source": [
    "cols = ['effective_lecturer', 'clear_presentations', 'stimulated_interest', 'effective_time', 'helpful', 'useful_feedback', \n",
    "        'clear_objectives', 'organized_content', 'appropriate_workload', 'allow_participation']\n",
    "df[cols].describe().loc[['count', 'mean', 'std']]"
   ]
  },
  {
   "cell_type": "code",
   "execution_count": 12,
   "metadata": {},
   "outputs": [
    {
     "data": {
      "image/png": "[encoded data removed]",
      "text/plain": [
       "<Figure size 1600x600 with 10 Axes>"
      ]
     },
     "metadata": {},
     "output_type": "display_data"
    }
   ],
   "source": [
    "nrows, ncols = (2, 5)\n",
    "fig, ax = plt.subplots(nrows, ncols, figsize=(16, 6), dpi=100)\n",
    "\n",
    "cols = ['effective_lecturer', 'clear_presentations', 'stimulated_interest', 'effective_time', 'helpful', 'useful_feedback', \n",
    "        'clear_objectives', 'organized_content', 'appropriate_workload', 'allow_participation']\n",
    "\n",
    "for curr_ax, col in zip(list(chain(*ax)), cols):\n",
    "    sns.distplot(df[col], kde=False, ax=curr_ax)\n",
    "    curr_ax.set_xlim(1, 5)\n",
    "    curr_ax.set_ylabel('count')\n",
    "    curr_ax.set_title(f\"Average rating: {df[col].mean():.2f}\")\n",
    "\n",
    "figure_title = 'Machine Learning Instructor Rating\\n(Strongly agree - 5, Agree - 4, Neutral - 3, Disagree - 2, Strongly Disagree - 1)'\n",
    "plt.suptitle(figure_title, y=1.06)\n",
    "plt.tight_layout()\n",
    "plt.show()"
   ]
  },
  {
   "cell_type": "markdown",
   "metadata": {},
   "source": [
    "Similar with the other ratings above, the students have good ratings here. The highest here are `helpful`, `useful_feedback`, and `appropriate_workload` features."
   ]
  },
  {
   "cell_type": "markdown",
   "metadata": {},
   "source": [
    "## Topic Modeling on the students' comments\n",
    "\n",
    "In this section, we will be clustering the students' responses to different questions. The methodology for the clustering below is inspired by this article: https://www.machinelearningplus.com/nlp/topic-modeling-gensim-python/\n",
    "\n",
    "\n",
    "Run the following in the command line since this is one of the dependencies of spacy functions we will be using later.\n",
    "```\n",
    "python -m spacy download en_core_web_sm\n",
    "```"
   ]
  },
  {
   "cell_type": "code",
   "execution_count": 13,
   "metadata": {},
   "outputs": [],
   "source": [
    "import re, nltk, spacy, string"
   ]
  },
  {
   "cell_type": "code",
   "execution_count": 14,
   "metadata": {},
   "outputs": [],
   "source": [
    "from gensim.models.coherencemodel import CoherenceModel\n",
    "from gensim.models.ldamodel import LdaModel\n",
    "from gensim.corpora.dictionary import Dictionary\n",
    "import pyLDAvis.gensim\n",
    "import pyLDAvis\n",
    "\n",
    "import gensim\n",
    "import gensim.corpora as corpora\n",
    "from gensim.utils import simple_preprocess\n",
    "\n",
    "# NLTK Stop words\n",
    "from nltk.corpus import stopwords\n",
    "stop_words = stopwords.words('english')"
   ]
  },
  {
   "cell_type": "code",
   "execution_count": 15,
   "metadata": {},
   "outputs": [
    {
     "data": {
      "text/html": [
       "<div>\n",
       "<style scoped>\n",
       "    .dataframe tbody tr th:only-of-type {\n",
       "        vertical-align: middle;\n",
       "    }\n",
       "\n",
       "    .dataframe tbody tr th {\n",
       "        vertical-align: top;\n",
       "    }\n",
       "\n",
       "    .dataframe thead th {\n",
       "        text-align: right;\n",
       "    }\n",
       "</style>\n",
       "<table border=\"1\" class=\"dataframe\">\n",
       "  <thead>\n",
       "    <tr style=\"text-align: right;\">\n",
       "      <th></th>\n",
       "      <th>useful_aspects</th>\n",
       "      <th>wishlist</th>\n",
       "      <th>final_message</th>\n",
       "    </tr>\n",
       "  </thead>\n",
       "  <tbody>\n",
       "    <tr>\n",
       "      <th>0</th>\n",
       "      <td>Learning about machine learning such as the pr...</td>\n",
       "      <td>None</td>\n",
       "      <td>Thank you for the term sir!</td>\n",
       "    </tr>\n",
       "    <tr>\n",
       "      <th>1</th>\n",
       "      <td>Probably the fact that it cleared things up ab...</td>\n",
       "      <td>Probably have more time dedicated to activitie...</td>\n",
       "      <td>Thank you sir for being patient with us and do...</td>\n",
       "    </tr>\n",
       "    <tr>\n",
       "      <th>2</th>\n",
       "      <td>It was really helpful to dive into the objecti...</td>\n",
       "      <td>A heads up on what previous lessons could be a...</td>\n",
       "      <td>Sir would there be any way for us to contact y...</td>\n",
       "    </tr>\n",
       "    <tr>\n",
       "      <th>3</th>\n",
       "      <td>home works</td>\n",
       "      <td>NaN</td>\n",
       "      <td>thank you for the term</td>\n",
       "    </tr>\n",
       "    <tr>\n",
       "      <th>4</th>\n",
       "      <td>Learning on how the machine learning pipeline ...</td>\n",
       "      <td>NaN</td>\n",
       "      <td>Thank you sir for teaching us the entire term!...</td>\n",
       "    </tr>\n",
       "    <tr>\n",
       "      <th>5</th>\n",
       "      <td>Learning how to do proper machine learning tec...</td>\n",
       "      <td>NaN</td>\n",
       "      <td>Thank you sir for the wonderful term. Sorry if...</td>\n",
       "    </tr>\n",
       "    <tr>\n",
       "      <th>6</th>\n",
       "      <td>NaN</td>\n",
       "      <td>NaN</td>\n",
       "      <td>NaN</td>\n",
       "    </tr>\n",
       "    <tr>\n",
       "      <th>7</th>\n",
       "      <td>NaN</td>\n",
       "      <td>NaN</td>\n",
       "      <td>Thank you Sir for your patience with us and ma...</td>\n",
       "    </tr>\n",
       "    <tr>\n",
       "      <th>8</th>\n",
       "      <td>cooperative work</td>\n",
       "      <td>NaN</td>\n",
       "      <td>Thank you for this term po sir!</td>\n",
       "    </tr>\n",
       "    <tr>\n",
       "      <th>9</th>\n",
       "      <td>I think the most valuable aspect of the course...</td>\n",
       "      <td>If I were to name a few things that can be imp...</td>\n",
       "      <td>Hi, Sir!! Thank you very much for being our pr...</td>\n",
       "    </tr>\n",
       "  </tbody>\n",
       "</table>\n",
       "</div>"
      ],
      "text/plain": [
       "                                      useful_aspects  \\\n",
       "0  Learning about machine learning such as the pr...   \n",
       "1  Probably the fact that it cleared things up ab...   \n",
       "2  It was really helpful to dive into the objecti...   \n",
       "3                                         home works   \n",
       "4  Learning on how the machine learning pipeline ...   \n",
       "5  Learning how to do proper machine learning tec...   \n",
       "6                                                NaN   \n",
       "7                                                NaN   \n",
       "8                                   cooperative work   \n",
       "9  I think the most valuable aspect of the course...   \n",
       "\n",
       "                                            wishlist  \\\n",
       "0                                               None   \n",
       "1  Probably have more time dedicated to activitie...   \n",
       "2  A heads up on what previous lessons could be a...   \n",
       "3                                                NaN   \n",
       "4                                                NaN   \n",
       "5                                                NaN   \n",
       "6                                                NaN   \n",
       "7                                                NaN   \n",
       "8                                                NaN   \n",
       "9  If I were to name a few things that can be imp...   \n",
       "\n",
       "                                       final_message  \n",
       "0                        Thank you for the term sir!  \n",
       "1  Thank you sir for being patient with us and do...  \n",
       "2  Sir would there be any way for us to contact y...  \n",
       "3                             thank you for the term  \n",
       "4  Thank you sir for teaching us the entire term!...  \n",
       "5  Thank you sir for the wonderful term. Sorry if...  \n",
       "6                                                NaN  \n",
       "7  Thank you Sir for your patience with us and ma...  \n",
       "8                    Thank you for this term po sir!  \n",
       "9  Hi, Sir!! Thank you very much for being our pr...  "
      ]
     },
     "execution_count": 15,
     "metadata": {},
     "output_type": "execute_result"
    }
   ],
   "source": [
    "df_comments = df[['useful_aspects', 'wishlist', 'final_message']]\n",
    "df_comments.head(10)"
   ]
  },
  {
   "cell_type": "markdown",
   "metadata": {},
   "source": [
    "### Preprocessing\n",
    "\n",
    "#### Text Cleaning and Normalization\n",
    "\n",
    "Before we do the actual modeling, we first need to preprocess the data. Since this is a text data, we have to clean it first and also perform normalization, which in this case is lemmatization."
   ]
  },
  {
   "cell_type": "code",
   "execution_count": 16,
   "metadata": {},
   "outputs": [],
   "source": [
    "def clean_text(text:str) -> str:\n",
    "    '''Make text lowercase, remove text in square brackets, remove punctuation and remove words containing numbers.'''\n",
    "    text = text.lower()\n",
    "    text = re.sub(r'\\[.*?\\]', '', text)\n",
    "    text = re.sub(r'[%s]' % re.escape(string.punctuation), '', text)\n",
    "    text = re.sub(r'\\w*\\d\\w*', '', text)\n",
    "    return text\n",
    "\n",
    "# nlp = spacy.load('en')\n",
    "nlp = spacy.load('en_core_web_sm')\n",
    "def lemmatizer(text:str) -> str:        \n",
    "    sent = []\n",
    "    doc = nlp(text)\n",
    "    for word in doc:\n",
    "        sent.append(word.lemma_)\n",
    "    return \" \".join(sent)\n",
    "\n",
    "def remove_stopwords(texts:list) -> list:\n",
    "    return [[word for word in simple_preprocess(str(doc)) if word not in stop_words] for doc in texts]\n",
    "\n",
    "def lemmatization(texts:list, allowed_postags=['NOUN', 'ADJ', 'VERB', 'ADV']):\n",
    "    \"\"\"https://spacy.io/api/annotation\"\"\"\n",
    "    texts_out = []\n",
    "    for sent in texts:\n",
    "        doc = nlp(\" \".join(sent)) \n",
    "        texts_out.append([token.lemma_ for token in doc if token.pos_ in allowed_postags])\n",
    "    return texts_out"
   ]
  },
  {
   "cell_type": "markdown",
   "metadata": {},
   "source": [
    "#### Vectorization\n",
    "\n",
    "We apply Bag-of-words (BoW) representation to our text data to turn it into a format understandable by machine learning models.\n",
    "\n",
    "Here are the functions for creating our BoW table and the dictionary for topic modeling."
   ]
  },
  {
   "cell_type": "code",
   "execution_count": 17,
   "metadata": {},
   "outputs": [],
   "source": [
    "def sent_to_words(sentences:list):\n",
    "    for sentence in sentences:\n",
    "        yield(gensim.utils.simple_preprocess(str(sentence), deacc=True))  # deacc=True removes punctuations\n",
    "        \n",
    "def tokenize(docs:list) -> tuple:\n",
    "    # Tokenization\n",
    "    comments_tokenized = list(sent_to_words(docs))\n",
    "\n",
    "    # Remove Stop Words\n",
    "    comments_tokenized = remove_stopwords(comments_tokenized)\n",
    "\n",
    "    # Create Dictionary\n",
    "    id2word = corpora.Dictionary(comments_tokenized)\n",
    "\n",
    "    # Term Document Frequency\n",
    "    bow = [id2word.doc2bow(text) for text in comments_tokenized]\n",
    "    \n",
    "    return comments_tokenized, id2word, bow"
   ]
  },
  {
   "cell_type": "code",
   "execution_count": 18,
   "metadata": {},
   "outputs": [],
   "source": [
    "def clean_and_normalize_text(comments:list) -> list:\n",
    "    comments = pd.Series(comments).apply(lambda x: clean_text(x))\n",
    "    comments = comments.apply(lambda x: lemmatizer(x))\n",
    "    # handle spacy's PRON\n",
    "    comments = comments.str.replace('-PRON-', '') \n",
    "        \n",
    "    return comments.tolist()"
   ]
  },
  {
   "cell_type": "markdown",
   "metadata": {},
   "source": [
    "### Topic Modeling\n",
    "\n",
    "In the following sections, we will be using Latent Dirichlet Allocation (LDA) for topic modeling. We could configure so many hyperparameters but for now, we will only be playing around with the number of clusters hyperparameter.\n",
    "\n",
    "#### Finding optimal number of clusters\n",
    "\n",
    "Functions for finding optimal number of clusters."
   ]
  },
  {
   "cell_type": "code",
   "execution_count": 19,
   "metadata": {},
   "outputs": [],
   "source": [
    "from tqdm import tqdm\n",
    "\n",
    "def get_coherence(lda_model:gensim.models.ldamodel.LdaModel, texts:list, dictionary:gensim.corpora.dictionary.Dictionary):\n",
    "    coherence_model_lda = CoherenceModel(model=lda_model, texts=texts, dictionary=dictionary, coherence='c_v')\n",
    "    coherence_lda = coherence_model_lda.get_coherence()\n",
    "    return coherence_lda\n",
    "\n",
    "def build_lda_model(num_topics:int, corpus:list, id2word:gensim.corpora.dictionary.Dictionary):\n",
    "    return gensim.models.ldamodel.LdaModel(corpus=corpus,\n",
    "                                                   id2word=id2word,\n",
    "                                                   num_topics=num_topics, \n",
    "                                                   random_state=100,\n",
    "                                                   update_every=1,\n",
    "                                                   chunksize=100,\n",
    "                                                   passes=10,\n",
    "                                                   alpha='auto',\n",
    "                                                   per_word_topics=True)\n",
    "\n",
    "def find_k(texts:list, id2word:gensim.corpora.dictionary.Dictionary, bow:list, max_k:int=10) -> pd.DataFrame:\n",
    "    list_n = []\n",
    "    list_score = []\n",
    "    for num_topics in tqdm(range(2, max_k)):\n",
    "        # Build LDA model\n",
    "        lda_model = build_lda_model(num_topics, bow, id2word)\n",
    "\n",
    "        score = get_coherence(lda_model, texts, id2word)\n",
    "        list_n += [num_topics]\n",
    "        list_score += [score]\n",
    "        \n",
    "    d = np.array([list_n, list_score]).T\n",
    "    return pd.DataFrame(d, columns=['n_topics', 'score'])\n",
    "\n",
    "def plot_coherence(df:pd.DataFrame):\n",
    "    fig, ax = plt.subplots(1,1, figsize=(8,4), dpi=100)\n",
    "    df.plot(x='n_topics', y='score', ax=ax)\n",
    "    plt.show()"
   ]
  },
  {
   "cell_type": "markdown",
   "metadata": {},
   "source": [
    "#### Build model with optimal k\n",
    "\n",
    "After determining the best k, we choose that model configuration."
   ]
  },
  {
   "cell_type": "code",
   "execution_count": 20,
   "metadata": {},
   "outputs": [],
   "source": [
    "def build_optimal_lda(optimal_k:int, texts:list, id2word:gensim.corpora.dictionary.Dictionary, bow:list):\n",
    "    lda_model = build_lda_model(optimal_k, bow, id2word)\n",
    "    score = get_coherence(lda_model, texts, id2word)\n",
    "    print(f'Coherence Score: {score}')\n",
    "\n",
    "    # Visualize the topics\n",
    "    pyLDAvis.enable_notebook()\n",
    "    vis = pyLDAvis.gensim.prepare(lda_model, bow, id2word, mds='tsne', sort_topics=False)\n",
    "    display(vis)\n",
    "    # pyLDAvis.save_html(vis, f'{LDA_SAVE_FILE}.html') \n",
    "    return lda_model"
   ]
  },
  {
   "cell_type": "markdown",
   "metadata": {},
   "source": [
    "#### Get most representative comments\n",
    "\n",
    "We also get the most representative comments per cluster."
   ]
  },
  {
   "cell_type": "code",
   "execution_count": 46,
   "metadata": {},
   "outputs": [],
   "source": [
    "def format_topics_sentences(ldamodel, bow, texts):\n",
    "    # Init output\n",
    "    sent_topics_df = pd.DataFrame()\n",
    "\n",
    "    # Get main topic in each document\n",
    "    for i, row in enumerate(ldamodel[bow]):\n",
    "        row = row[0] # fix\n",
    "        row = sorted(row, key=lambda x: (x[1]), reverse=True)\n",
    "        # Get the Dominant topic, Perc Contribution and Keywords for each document\n",
    "        for j, (topic_num, prop_topic) in enumerate(row):\n",
    "            if j == 0:  # => dominant topic\n",
    "                wp = ldamodel.show_topic(topic_num)\n",
    "                topic_keywords = \", \".join([word for word, prop in wp])\n",
    "                sent_topics_df = sent_topics_df.append(pd.Series([int(topic_num), round(prop_topic,4), topic_keywords]), ignore_index=True)\n",
    "            else:\n",
    "                break\n",
    "    sent_topics_df.columns = ['Dominant_Topic', 'Perc_Contribution', 'Topic_Keywords']\n",
    "\n",
    "    # Add original text to the end of the output\n",
    "    contents = pd.Series(texts)\n",
    "    sent_topics_df = pd.concat([sent_topics_df, contents], axis=1)\n",
    "    return(sent_topics_df)\n",
    "\n",
    "def print_representative_documents(sent_topics_sorted, texts:list):\n",
    "    for topic_no, cluster in sent_topics_sorted.groupby('Topic_Num'):\n",
    "        print('\\n----------')\n",
    "        print(f'TOPIC {topic_no + 1}')\n",
    "        print(f\"Keywords: {cluster.head(1)['Keywords'].tolist()}\\n\")\n",
    "        for index in cluster['Document_No']:\n",
    "            print(f\"Text {index}: {texts[index]}\")\n",
    "            # print(f\"Text {index} Keywords: {cluster[cluster['Document_No']==index]['Keywords'].tolist()}\")\n",
    "\n",
    "            \n",
    "def get_most_representative_documents(comments:list, comments_tokenized:list, lda_model:gensim.models.ldamodel.LdaModel, bow:list) -> pd.DataFrame:\n",
    "    df_representative_comments = pd.DataFrame(columns=['topic_num','comments'])\n",
    "    df_topic_sents_keywords = format_topics_sentences(lda_model, bow, comments_tokenized)\n",
    "    \n",
    "    # Format\n",
    "    df_dominant_topic = df_topic_sents_keywords.reset_index()\n",
    "    df_dominant_topic.columns = ['Document_No', 'Dominant_Topic', 'Topic_Perc_Contrib', 'Keywords', 'Text']\n",
    "\n",
    "    # Group top 5 sentences under each topic\n",
    "    sent_topics_sorted = pd.DataFrame()\n",
    "    sent_topics_grpd = df_topic_sents_keywords.groupby('Dominant_Topic')\n",
    "    \n",
    "    ## Display keywords per cluster\n",
    "    #display(sent_topics_grpd.head(1)['Topic_Keywords'].tolist())\n",
    "\n",
    "    for i, grp in sent_topics_grpd:\n",
    "        grp = grp.reset_index()\n",
    "        sent_topics_sorted = pd.concat([sent_topics_sorted, grp.sort_values(['Perc_Contribution'], ascending=[0]).head(5)], axis=0)\n",
    "\n",
    "    # Reset Index    \n",
    "    sent_topics_sorted.reset_index(drop=True, inplace=True)\n",
    "\n",
    "    # Format\n",
    "    sent_topics_sorted.columns = ['Document_No', 'Topic_Num', \"Topic_Perc_Contrib\", \"Keywords\", \"Text\"]\n",
    "    \n",
    "    print_representative_documents(sent_topics_sorted, comments)\n",
    "\n",
    "    for topic_no, cluster in sent_topics_sorted.groupby('Topic_Num'):\n",
    "        topic_no = topic_no + 1\n",
    "        for index in cluster['Document_No']:\n",
    "            row = [topic_no, f'Comment {index}: {comments[index]}']\n",
    "            df_representative_comments.loc[df_representative_comments.shape[0]] = row\n",
    "            \n",
    "    return df_representative_comments"
   ]
  },
  {
   "cell_type": "markdown",
   "metadata": {},
   "source": [
    "### Comment Clusters"
   ]
  },
  {
   "cell_type": "markdown",
   "metadata": {},
   "source": [
    "#### Useful aspects of this ML course"
   ]
  },
  {
   "cell_type": "code",
   "execution_count": 22,
   "metadata": {},
   "outputs": [],
   "source": [
    "comments = df_comments['useful_aspects'].dropna().reset_index(drop=True)\n",
    "comments_cleaned = clean_and_normalize_text(comments)\n",
    "comments_tokenized, id2word, bow = tokenize(comments_cleaned)"
   ]
  },
  {
   "cell_type": "code",
   "execution_count": 23,
   "metadata": {},
   "outputs": [
    {
     "name": "stderr",
     "output_type": "stream",
     "text": [
      "100%|████████████████████████████████████████████████████████████████████████████████████| 8/8 [02:14<00:00, 16.85s/it]\n"
     ]
    },
    {
     "data": {
      "text/html": [
       "<div>\n",
       "<style scoped>\n",
       "    .dataframe tbody tr th:only-of-type {\n",
       "        vertical-align: middle;\n",
       "    }\n",
       "\n",
       "    .dataframe tbody tr th {\n",
       "        vertical-align: top;\n",
       "    }\n",
       "\n",
       "    .dataframe thead th {\n",
       "        text-align: right;\n",
       "    }\n",
       "</style>\n",
       "<table border=\"1\" class=\"dataframe\">\n",
       "  <thead>\n",
       "    <tr style=\"text-align: right;\">\n",
       "      <th></th>\n",
       "      <th>n_topics</th>\n",
       "      <th>score</th>\n",
       "    </tr>\n",
       "  </thead>\n",
       "  <tbody>\n",
       "    <tr>\n",
       "      <th>0</th>\n",
       "      <td>2.0</td>\n",
       "      <td>0.362839</td>\n",
       "    </tr>\n",
       "    <tr>\n",
       "      <th>1</th>\n",
       "      <td>3.0</td>\n",
       "      <td>0.340898</td>\n",
       "    </tr>\n",
       "    <tr>\n",
       "      <th>2</th>\n",
       "      <td>4.0</td>\n",
       "      <td>0.337932</td>\n",
       "    </tr>\n",
       "    <tr>\n",
       "      <th>3</th>\n",
       "      <td>5.0</td>\n",
       "      <td>0.364591</td>\n",
       "    </tr>\n",
       "    <tr>\n",
       "      <th>4</th>\n",
       "      <td>6.0</td>\n",
       "      <td>0.392087</td>\n",
       "    </tr>\n",
       "    <tr>\n",
       "      <th>5</th>\n",
       "      <td>7.0</td>\n",
       "      <td>0.378213</td>\n",
       "    </tr>\n",
       "    <tr>\n",
       "      <th>6</th>\n",
       "      <td>8.0</td>\n",
       "      <td>0.437677</td>\n",
       "    </tr>\n",
       "    <tr>\n",
       "      <th>7</th>\n",
       "      <td>9.0</td>\n",
       "      <td>0.413152</td>\n",
       "    </tr>\n",
       "  </tbody>\n",
       "</table>\n",
       "</div>"
      ],
      "text/plain": [
       "   n_topics     score\n",
       "0       2.0  0.362839\n",
       "1       3.0  0.340898\n",
       "2       4.0  0.337932\n",
       "3       5.0  0.364591\n",
       "4       6.0  0.392087\n",
       "5       7.0  0.378213\n",
       "6       8.0  0.437677\n",
       "7       9.0  0.413152"
      ]
     },
     "execution_count": 23,
     "metadata": {},
     "output_type": "execute_result"
    }
   ],
   "source": [
    "df_lda_clusters = find_k(comments_tokenized, id2word, bow)\n",
    "df_lda_clusters"
   ]
  },
  {
   "cell_type": "code",
   "execution_count": 24,
   "metadata": {},
   "outputs": [
    {
     "data": {
      "image/png": "[encoded data removed]",
      "text/plain": [
       "<Figure size 800x400 with 1 Axes>"
      ]
     },
     "metadata": {},
     "output_type": "display_data"
    }
   ],
   "source": [
    "plot_coherence(df_lda_clusters)"
   ]
  },
  {
   "cell_type": "markdown",
   "metadata": {},
   "source": [
    "It is quite tricky to choose a good cluster value based on the plot above, but we got a noticeable increase in coherence score when `n_topics = 8.` When I tried that, I got a cluster which contains almost nothing, so we will use `n_topics = 6` instead."
   ]
  },
  {
   "cell_type": "code",
   "execution_count": 47,
   "metadata": {},
   "outputs": [
    {
     "name": "stdout",
     "output_type": "stream",
     "text": [
      "Coherence Score: 0.39208696460514897\n"
     ]
    },
    {
     "data": {
      "text/html": [
       "\n",
       "<link rel=\"stylesheet\" type=\"text/css\" href=\"https://cdn.rawgit.com/bmabey/pyLDAvis/files/ldavis.v1.0.0.css\">\n",
       "\n",
       "\n",
       "<div id=\"ldavis_el1165227287855057362807883390\"></div>\n",
       "<script type=\"text/javascript\">\n",
       "\n",
       "var ldavis_el1165227287855057362807883390_data = {\"mdsDat\": {\"x\": [1.4650187492370605, 54.85479736328125, 32.212928771972656, 5.111096382141113, 26.350170135498047, 38.10981750488281], \"y\": [-47.625064849853516, -36.4767951965332, -61.44457244873047, -14.110331535339355, -33.37470245361328, -7.222781181335449], \"topics\": [1, 2, 3, 4, 5, 6], \"cluster\": [1, 1, 1, 1, 1, 1], \"Freq\": [16.444669723510742, 28.61931610107422, 17.355514526367188, 16.49932098388672, 9.491439819335938, 11.589735984802246]}, \"tinfo\": {\"Term\": [\"problem\", \"learn\", \"help\", \"use\", \"technique\", \"project\", \"lot\", \"see\", \"concept\", \"make\", \"also\", \"different\", \"useful\", \"apply\", \"algorithm\", \"implement\", \"try\", \"give\", \"code\", \"like\", \"complex\", \"class\", \"real\", \"various\", \"able\", \"course\", \"study\", \"good\", \"pipeline\", \"even\", \"project\", \"class\", \"something\", \"hope\", \"future\", \"final\", \"consultation\", \"join\", \"basic\", \"cnn\", \"supplement\", \"performance\", \"create\", \"imaging\", \"mlrelate\", \"standard\", \"response\", \"reference\", \"narrow\", \"fact\", \"one\", \"use\", \"thesis\", \"help\", \"pipeline\", \"good\", \"notebook\", \"clear\", \"teach\", \"really\", \"give\", \"student\", \"field\", \"think\", \"useful\", \"machine\", \"work\", \"since\", \"would\", \"process\", \"technique\", \"get\", \"datum\", \"valuable\", \"course\", \"preprocess\", \"proper\", \"classify\", \"sample\", \"especially\", \"expose\", \"python\", \"cooperative\", \"result\", \"regression\", \"linear\", \"scratch\", \"knn\", \"pique\", \"complicated\", \"another\", \"solid\", \"interest\", \"introductory\", \"set\", \"move\", \"professional\", \"cement\", \"skill\", \"plenty\", \"daunting\", \"huge\", \"properly\", \"foundation\", \"give\", \"able\", \"would\", \"helpful\", \"think\", \"field\", \"well\", \"definitely\", \"learning\", \"machine\", \"since\", \"learn\", \"topic\", \"different\", \"technique\", \"aspect\", \"thesis\", \"notebook\", \"study\", \"modeling\", \"practice\", \"put\", \"start\", \"end\", \"important\", \"collab\", \"trend\", \"less\", \"behind\", \"exercise\", \"intimidating\", \"technology\", \"high\", \"serve\", \"level\", \"self\", \"progress\", \"encourage\", \"also\", \"lesson\", \"process\", \"material\", \"student\", \"understanding\", \"different\", \"seem\", \"technique\", \"able\", \"learn\", \"useful\", \"ml\", \"learning\", \"machine\", \"definitely\", \"aspect\", \"make\", \"try\", \"notebook\", \"algorithm\", \"problem\", \"real\", \"various\", \"world\", \"type\", \"life\", \"mathematic\", \"easy\", \"san\", \"dive\", \"objective\", \"syllabus\", \"fault\", \"methodology\", \"range\", \"solution\", \"entail\", \"unsolvable\", \"rather\", \"complex\", \"algorithm\", \"apply\", \"even\", \"really\", \"teach\", \"broad\", \"simple\", \"although\", \"use\", \"topic\", \"learn\", \"machine\", \"different\", \"learning\", \"ml\", \"make\", \"implement\", \"process\", \"helpful\", \"understand\", \"lot\", \"see\", \"appreciate\", \"example\", \"lecture\", \"experience\", \"force\", \"library\", \"without\", \"look\", \"allow\", \"usefulness\", \"help\", \"code\", \"like\", \"good\", \"pipeline\", \"even\", \"actually\", \"implement\", \"try\", \"also\", \"work\", \"technique\", \"apply\", \"understand\", \"problem\", \"learning\", \"home\", \"difference\", \"machine\", \"learn\", \"feel\", \"take\", \"donts\", \"discuss\", \"descent\", \"gradient\", \"perspective\", \"someone\", \"dos\", \"ask\", \"ai\", \"difference\", \"home\", \"concept\", \"make\", \"like\", \"code\", \"clear\", \"material\", \"explain\", \"big\", \"first\", \"implement\", \"try\", \"useful\", \"find\", \"foundation\", \"properly\", \"work\", \"algorithm\", \"machine\", \"learn\", \"understand\", \"since\", \"ml\", \"learning\"], \"Freq\": [4.0, 14.0, 3.0, 3.0, 5.0, 2.0, 1.0, 1.0, 2.0, 3.0, 2.0, 5.0, 4.0, 3.0, 3.0, 2.0, 2.0, 4.0, 1.0, 1.0, 2.0, 1.0, 1.0, 1.0, 4.0, 5.0, 2.0, 1.0, 1.0, 1.0, 2.104214668273926, 1.4397236108779907, 0.775231659412384, 0.7752312421798706, 0.7752309441566467, 0.7752309441566467, 0.7752305865287781, 0.7752305865287781, 0.7752301692962646, 0.7752299904823303, 0.7752301096916199, 0.7752299904823303, 0.7752289772033691, 0.7752288579940796, 0.7752287983894348, 0.7752282023429871, 0.7752276659011841, 0.7752274870872498, 0.774315357208252, 0.7742641568183899, 0.7740827798843384, 2.1042144298553467, 1.4397203922271729, 1.4397202730178833, 0.7752330303192139, 0.7752297520637512, 1.4338473081588745, 0.7740187644958496, 0.7752285003662109, 0.7740291953086853, 1.4353352785110474, 0.7752314209938049, 0.7765468955039978, 0.7760667204856873, 0.7758353352546692, 0.7754563093185425, 0.7752569913864136, 0.7752347588539124, 0.7752314209938049, 0.7752313017845154, 0.7752315998077393, 0.7752312421798706, 1.683685064315796, 1.677768588066101, 3.2270162105560303, 0.9065911173820496, 0.906590461730957, 0.9065874814987183, 0.9065830111503601, 0.9065828323364258, 0.9065817594528198, 0.9065812826156616, 0.906555712223053, 0.9059045910835266, 0.9057895541191101, 0.9057431817054749, 0.9057157039642334, 0.9055559039115906, 0.9042567610740662, 0.9041575789451599, 0.9041024446487427, 0.9040731191635132, 0.9040614366531372, 0.9040471911430359, 0.9039407968521118, 0.9039255976676941, 0.9038721919059753, 0.9038408398628235, 0.9037124514579773, 0.9036182761192322, 0.9035924673080444, 0.9036046862602234, 1.6836880445480347, 1.6777616739273071, 2.4522688388824463, 2.4554860591888428, 1.6828004121780396, 1.6836791038513184, 1.6785269975662231, 1.6781085729599, 1.6799837350845337, 1.6776583194732666, 3.230910539627075, 4.006856918334961, 1.6824296712875366, 4.015876293182373, 1.6854698657989502, 1.6824158430099487, 1.6825300455093384, 0.9077668786048889, 0.9065924286842346, 0.9065906405448914, 1.4681754112243652, 0.7935336828231812, 0.7935319542884827, 0.793526828289032, 0.7915711998939514, 0.7913282513618469, 0.7914831638336182, 0.791133463382721, 0.7913133502006531, 0.7912805676460266, 0.7912779450416565, 0.7909046411514282, 0.7910899519920349, 0.7910327315330505, 0.7910125255584717, 0.7906821966171265, 0.7906782627105713, 0.7903119921684265, 0.7903716564178467, 0.7898910045623779, 1.4686098098754883, 1.4686988592147827, 1.4696499109268188, 0.7909961342811584, 0.7912377119064331, 0.7907618284225464, 2.1462175846099854, 0.7907015681266785, 2.1496574878692627, 1.4716973304748535, 4.180384159088135, 1.4676071405410767, 1.4690526723861694, 1.4690272808074951, 1.4681953191757202, 0.793533980846405, 0.7917544841766357, 0.791313111782074, 0.791194498538971, 0.7910955548286438, 0.791091799736023, 3.433628797531128, 1.4441462755203247, 1.4387222528457642, 0.7776130437850952, 0.7776123285293579, 0.7776083946228027, 0.7764880657196045, 0.7764081358909607, 0.7761655449867249, 0.7759369015693665, 0.7759134769439697, 0.7758878469467163, 0.7757170796394348, 0.7754512429237366, 0.7750613689422607, 0.7745457291603088, 0.7742262482643127, 0.7740408778190613, 0.7739479541778564, 1.438963532447815, 1.4442644119262695, 1.444514274597168, 0.7741514444351196, 0.7772884964942932, 0.7764807939529419, 0.7765283584594727, 0.7760045528411865, 0.7766745090484619, 1.444136619567871, 1.4401092529296875, 4.111668109893799, 2.1141021251678467, 1.4472330808639526, 0.7820216417312622, 0.7806853652000427, 0.7782934904098511, 0.7776145339012146, 0.7776145339012146, 0.776303768157959, 0.7759989500045776, 1.1644212007522583, 1.1644184589385986, 0.6269937753677368, 0.626993715763092, 0.6269936561584473, 0.6269935965538025, 0.6269934773445129, 0.6269934177398682, 0.6269927024841309, 0.6269916296005249, 0.6269910335540771, 0.6269906759262085, 1.1644247770309448, 0.6269943714141846, 0.6269909143447876, 0.6269940137863159, 0.626990795135498, 0.6269941329956055, 0.6269935965538025, 0.6269949078559875, 0.6284283399581909, 0.6285642981529236, 0.6270113587379456, 1.1644268035888672, 0.6283655762672424, 0.62995445728302, 0.6269931793212891, 0.6317157745361328, 0.08957622945308685, 0.089572474360466, 0.6340672969818115, 0.6349380612373352, 0.6827629804611206, 0.6827617883682251, 0.6827617883682251, 0.6827619075775146, 0.6827619075775146, 0.6827616691589355, 0.6827613115310669, 0.6827614307403564, 0.6827609539031982, 0.6827609539031982, 0.6827608346939087, 0.6827605962753296, 0.6827380657196045, 1.2679919004440308, 1.267994999885559, 0.6827637553215027, 0.6827622056007385, 0.6827614307403564, 0.6833292245864868, 0.682762086391449, 0.6827593445777893, 0.6827620267868042, 0.6827617883682251, 0.683219850063324, 1.2686355113983154, 0.6835057735443115, 0.6827613115310669, 0.6827622652053833, 0.6827279329299927, 0.6827607154846191, 1.2679932117462158, 1.2687909603118896, 0.684548556804657, 0.6837092041969299, 0.6834024786949158, 0.6832941174507141], \"Total\": [4.0, 14.0, 3.0, 3.0, 5.0, 2.0, 1.0, 1.0, 2.0, 3.0, 2.0, 5.0, 4.0, 3.0, 3.0, 2.0, 2.0, 4.0, 1.0, 1.0, 2.0, 1.0, 1.0, 1.0, 4.0, 5.0, 2.0, 1.0, 1.0, 1.0, 2.6453075408935547, 1.9808119535446167, 1.3163154125213623, 1.3163154125213623, 1.3163152933120728, 1.3163152933120728, 1.3163152933120728, 1.3163152933120728, 1.316314935684204, 1.3163150548934937, 1.3163151741027832, 1.3163152933120728, 1.3163152933120728, 1.3163152933120728, 1.3163151741027832, 1.316314935684204, 1.3163150548934937, 1.3163151741027832, 1.3163180351257324, 1.316318154335022, 1.3163187503814697, 3.9783735275268555, 2.7578890323638916, 3.05566668510437, 1.8537403345108032, 1.853739619255066, 3.436896800994873, 1.9015454053878784, 1.982622504234314, 1.9825495481491089, 4.309241771697998, 1.9960511922836304, 2.869170665740967, 2.8691961765289307, 4.62269401550293, 10.266671180725098, 3.2160329818725586, 3.455406665802002, 2.870271682739258, 3.3423547744750977, 5.985529899597168, 2.0932114124298096, 2.206005573272705, 2.204508066177368, 5.0227742195129395, 1.4289077520370483, 1.4289076328277588, 1.428907036781311, 1.428905725479126, 1.4289056062698364, 1.4289056062698364, 1.4289052486419678, 1.4288980960845947, 1.4287381172180176, 1.428709864616394, 1.4286984205245972, 1.4286916255950928, 1.428652048110962, 1.428323745727539, 1.4282885789871216, 1.4282808303833008, 1.4282845258712769, 1.4282828569412231, 1.4282734394073486, 1.4282481670379639, 1.4282660484313965, 1.428235650062561, 1.4282134771347046, 1.4282268285751343, 1.4281471967697144, 1.428119421005249, 1.4281517267227173, 2.791232109069824, 2.7897109985351562, 4.309241771697998, 4.342069625854492, 2.870271682739258, 2.87227725982666, 2.8691961765289307, 2.869170665740967, 2.8847053050994873, 2.8846969604492188, 7.57193660736084, 10.266671180725098, 3.455406665802002, 14.323346138000488, 4.203202724456787, 5.578380584716797, 5.985529899597168, 2.77512526512146, 2.7578890323638916, 3.436896800994873, 2.0111207962036133, 1.332007646560669, 1.332007646560669, 1.3320070505142212, 1.3315949440002441, 1.331544280052185, 1.3319668769836426, 1.3315576314926147, 1.3319634199142456, 1.3319627046585083, 1.3319625854492188, 1.331502914428711, 1.3319588899612427, 1.3319576978683472, 1.3319573402404785, 1.3314663171768188, 1.3319504261016846, 1.3313912153244019, 1.3319443464279175, 1.331288456916809, 2.549070119857788, 2.7881157398223877, 3.3423547744750977, 1.916746973991394, 1.9960511922836304, 1.9964369535446167, 5.578380584716797, 2.1081888675689697, 5.985529899597168, 4.342069625854492, 14.323346138000488, 4.62269401550293, 4.704916000366211, 7.57193660736084, 10.266671180725098, 2.8846969604492188, 2.77512526512146, 3.1686601638793945, 2.4542038440704346, 3.436896800994873, 3.2498090267181396, 4.523614883422852, 1.9848965406417847, 1.98579740524292, 1.3183578252792358, 1.3183578252792358, 1.318357229232788, 1.3181395530700684, 1.3181241750717163, 1.3180772066116333, 1.3180326223373413, 1.3180280923843384, 1.3180233240127563, 1.3179901838302612, 1.3179386854171753, 1.318780779838562, 1.31886625289917, 1.3189191818237305, 1.318949818611145, 1.318965196609497, 2.6505203247070312, 3.2498090267181396, 3.2986512184143066, 1.8563557863235474, 1.9825495481491089, 1.982622504234314, 1.983271598815918, 1.9833585023880005, 2.0944676399230957, 3.9783735275268555, 4.203202724456787, 14.323346138000488, 10.266671180725098, 5.578380584716797, 7.57193660736084, 4.704916000366211, 3.1686601638793945, 2.4410085678100586, 3.3423547744750977, 2.87227725982666, 3.897045373916626, 1.7266855239868164, 1.7266861200332642, 1.1892542839050293, 1.1892544031143188, 1.1892544031143188, 1.1892545223236084, 1.1892545223236084, 1.189254641532898, 1.1892545223236084, 1.1892547607421875, 1.189254879951477, 1.1892549991607666, 3.05566668510437, 1.7744808197021484, 1.7744815349578857, 1.853739619255066, 1.8537403345108032, 1.8563557863235474, 1.966155767440796, 2.4410085678100586, 2.4542038440704346, 2.549070119857788, 3.2160329818725586, 5.985529899597168, 3.2986512184143066, 3.897045373916626, 4.523614883422852, 7.57193660736084, 1.237058401107788, 1.2370567321777344, 10.266671180725098, 14.323346138000488, 1.2370567321777344, 1.2370567321777344, 1.2370567321777344, 1.2370567321777344, 1.237056851387024, 1.237056851387024, 1.2370567321777344, 1.2370569705963135, 1.2370567321777344, 1.2370567321777344, 1.237056851387024, 1.2370567321777344, 1.237058401107788, 2.5986130237579346, 3.1686601638793945, 1.7744815349578857, 1.7744808197021484, 1.9015454053878784, 1.916746973991394, 2.013258457183838, 2.013449192047119, 2.0135419368743896, 2.4410085678100586, 2.4542038440704346, 4.62269401550293, 2.6929190158843994, 2.7897109985351562, 2.791232109069824, 3.2160329818725586, 3.2498090267181396, 10.266671180725098, 14.323346138000488, 3.897045373916626, 3.455406665802002, 4.704916000366211, 7.57193660736084], \"Category\": [\"Default\", \"Default\", \"Default\", \"Default\", \"Default\", \"Default\", \"Default\", \"Default\", \"Default\", \"Default\", \"Default\", \"Default\", \"Default\", \"Default\", \"Default\", \"Default\", \"Default\", \"Default\", \"Default\", \"Default\", \"Default\", \"Default\", \"Default\", \"Default\", \"Default\", \"Default\", \"Default\", \"Default\", \"Default\", \"Default\", \"Topic1\", \"Topic1\", \"Topic1\", \"Topic1\", \"Topic1\", \"Topic1\", \"Topic1\", \"Topic1\", \"Topic1\", \"Topic1\", \"Topic1\", \"Topic1\", \"Topic1\", \"Topic1\", \"Topic1\", \"Topic1\", \"Topic1\", \"Topic1\", \"Topic1\", \"Topic1\", \"Topic1\", \"Topic1\", \"Topic1\", \"Topic1\", \"Topic1\", \"Topic1\", \"Topic1\", \"Topic1\", \"Topic1\", \"Topic1\", \"Topic1\", \"Topic1\", \"Topic1\", \"Topic1\", \"Topic1\", \"Topic1\", \"Topic1\", \"Topic1\", \"Topic1\", \"Topic1\", \"Topic1\", \"Topic1\", \"Topic2\", \"Topic2\", \"Topic2\", \"Topic2\", \"Topic2\", \"Topic2\", \"Topic2\", \"Topic2\", \"Topic2\", \"Topic2\", \"Topic2\", \"Topic2\", \"Topic2\", \"Topic2\", \"Topic2\", \"Topic2\", \"Topic2\", \"Topic2\", \"Topic2\", \"Topic2\", \"Topic2\", \"Topic2\", \"Topic2\", \"Topic2\", \"Topic2\", \"Topic2\", \"Topic2\", \"Topic2\", \"Topic2\", \"Topic2\", \"Topic2\", \"Topic2\", \"Topic2\", \"Topic2\", \"Topic2\", \"Topic2\", \"Topic2\", \"Topic2\", \"Topic2\", \"Topic2\", \"Topic2\", \"Topic2\", \"Topic2\", \"Topic2\", \"Topic2\", \"Topic2\", \"Topic2\", \"Topic2\", \"Topic2\", \"Topic2\", \"Topic3\", \"Topic3\", \"Topic3\", \"Topic3\", \"Topic3\", \"Topic3\", \"Topic3\", \"Topic3\", \"Topic3\", \"Topic3\", \"Topic3\", \"Topic3\", \"Topic3\", \"Topic3\", \"Topic3\", \"Topic3\", \"Topic3\", \"Topic3\", \"Topic3\", \"Topic3\", \"Topic3\", \"Topic3\", \"Topic3\", \"Topic3\", \"Topic3\", \"Topic3\", \"Topic3\", \"Topic3\", \"Topic3\", \"Topic3\", \"Topic3\", \"Topic3\", \"Topic3\", \"Topic3\", \"Topic3\", \"Topic3\", \"Topic3\", \"Topic3\", \"Topic3\", \"Topic3\", \"Topic3\", \"Topic4\", \"Topic4\", \"Topic4\", \"Topic4\", \"Topic4\", \"Topic4\", \"Topic4\", \"Topic4\", \"Topic4\", \"Topic4\", \"Topic4\", \"Topic4\", \"Topic4\", \"Topic4\", \"Topic4\", \"Topic4\", \"Topic4\", \"Topic4\", \"Topic4\", \"Topic4\", \"Topic4\", \"Topic4\", \"Topic4\", \"Topic4\", \"Topic4\", \"Topic4\", \"Topic4\", \"Topic4\", \"Topic4\", \"Topic4\", \"Topic4\", \"Topic4\", \"Topic4\", \"Topic4\", \"Topic4\", \"Topic4\", \"Topic4\", \"Topic4\", \"Topic4\", \"Topic4\", \"Topic5\", \"Topic5\", \"Topic5\", \"Topic5\", \"Topic5\", \"Topic5\", \"Topic5\", \"Topic5\", \"Topic5\", \"Topic5\", \"Topic5\", \"Topic5\", \"Topic5\", \"Topic5\", \"Topic5\", \"Topic5\", \"Topic5\", \"Topic5\", \"Topic5\", \"Topic5\", \"Topic5\", \"Topic5\", \"Topic5\", \"Topic5\", \"Topic5\", \"Topic5\", \"Topic5\", \"Topic5\", \"Topic5\", \"Topic5\", \"Topic5\", \"Topic5\", \"Topic6\", \"Topic6\", \"Topic6\", \"Topic6\", \"Topic6\", \"Topic6\", \"Topic6\", \"Topic6\", \"Topic6\", \"Topic6\", \"Topic6\", \"Topic6\", \"Topic6\", \"Topic6\", \"Topic6\", \"Topic6\", \"Topic6\", \"Topic6\", \"Topic6\", \"Topic6\", \"Topic6\", \"Topic6\", \"Topic6\", \"Topic6\", \"Topic6\", \"Topic6\", \"Topic6\", \"Topic6\", \"Topic6\", \"Topic6\", \"Topic6\", \"Topic6\", \"Topic6\", \"Topic6\", \"Topic6\", \"Topic6\"], \"logprob\": [30.0, 29.0, 28.0, 27.0, 26.0, 25.0, 24.0, 23.0, 22.0, 21.0, 20.0, 19.0, 18.0, 17.0, 16.0, 15.0, 14.0, 13.0, 12.0, 11.0, 10.0, 9.0, 8.0, 7.0, 6.0, 5.0, 4.0, 3.0, 2.0, 1.0, -3.3452999591827393, -3.7248001098632812, -4.343800067901611, -4.343800067901611, -4.343800067901611, -4.343800067901611, -4.343800067901611, -4.343800067901611, -4.343800067901611, -4.343800067901611, -4.343800067901611, -4.343800067901611, -4.343800067901611, -4.343800067901611, -4.343800067901611, -4.343800067901611, -4.343800067901611, -4.343800067901611, -4.34499979019165, -4.345099925994873, -4.345300197601318, -3.3452999591827393, -3.7248001098632812, -3.7248001098632812, -4.343800067901611, -4.343800067901611, -3.7288999557495117, -4.345399856567383, -4.343800067901611, -4.345399856567383, -3.727799892425537, -4.343800067901611, -4.342100143432617, -4.342800140380859, -4.3429999351501465, -4.343500137329102, -4.343800067901611, -4.343800067901611, -4.343800067901611, -4.343800067901611, -4.343800067901611, -4.343800067901611, -4.122300148010254, -4.125800132751465, -3.4718000888824463, -4.741399765014648, -4.741399765014648, -4.741399765014648, -4.741399765014648, -4.741399765014648, -4.741399765014648, -4.741399765014648, -4.741399765014648, -4.742099761962891, -4.742300033569336, -4.742300033569336, -4.742300033569336, -4.742499828338623, -4.74399995803833, -4.744100093841553, -4.744100093841553, -4.744200229644775, -4.744200229644775, -4.744200229644775, -4.74429988861084, -4.74429988861084, -4.7444000244140625, -4.7444000244140625, -4.74459981918335, -4.744699954986572, -4.744699954986572, -4.744699954986572, -4.122300148010254, -4.125899791717529, -3.746299982070923, -3.744999885559082, -4.122900009155273, -4.122300148010254, -4.125400066375732, -4.1255998611450195, -4.124499797821045, -4.125899791717529, -3.470599889755249, -3.2553000450134277, -4.1230998039245605, -3.2530999183654785, -4.121300220489502, -4.1230998039245605, -4.123000144958496, -4.740099906921387, -4.741399765014648, -4.741399765014648, -3.7590999603271484, -4.3744001388549805, -4.3744001388549805, -4.3744001388549805, -4.3769001960754395, -4.377200126647949, -4.376999855041504, -4.377399921417236, -4.377200126647949, -4.377200126647949, -4.377200126647949, -4.377699851989746, -4.377500057220459, -4.377600193023682, -4.377600193023682, -4.377999782562256, -4.377999782562256, -4.378499984741211, -4.378399848937988, -4.379000186920166, -3.7588000297546387, -3.7588000297546387, -3.7581000328063965, -4.377600193023682, -4.377299785614014, -4.377900123596191, -3.3794000148773193, -4.377999782562256, -3.3777999877929688, -3.756700038909912, -2.7126998901367188, -3.759500026702881, -3.758500099182129, -3.758500099182129, -3.7590999603271484, -4.3744001388549805, -4.3765997886657715, -4.377200126647949, -4.377399921417236, -4.377500057220459, -4.377500057220459, -2.8589000701904297, -3.7249999046325684, -3.728800058364868, -4.344099998474121, -4.344099998474121, -4.344099998474121, -4.3454999923706055, -4.345600128173828, -4.345900058746338, -4.346199989318848, -4.34630012512207, -4.34630012512207, -4.346499919891357, -4.34689998626709, -4.347400188446045, -4.3480000495910645, -4.348400115966797, -4.348700046539307, -4.348800182342529, -3.728600025177002, -3.7249999046325684, -3.7248001098632812, -4.348499774932861, -4.3445000648498535, -4.3454999923706055, -4.3454999923706055, -4.346099853515625, -4.345300197601318, -3.7249999046325684, -3.727799892425537, -2.6786999702453613, -3.343899965286255, -3.722899913787842, -4.338399887084961, -4.340099811553955, -4.343200206756592, -4.344099998474121, -4.344099998474121, -4.345799922943115, -4.346199989318848, -3.387399911880493, -3.387399911880493, -4.006400108337402, -4.006400108337402, -4.006400108337402, -4.006400108337402, -4.006400108337402, -4.006400108337402, -4.006400108337402, -4.006400108337402, -4.006400108337402, -4.006400108337402, -3.387399911880493, -4.006400108337402, -4.006400108337402, -4.006400108337402, -4.006400108337402, -4.006400108337402, -4.006400108337402, -4.006400108337402, -4.004199981689453, -4.003900051116943, -4.006400108337402, -3.387399911880493, -4.004300117492676, -4.001699924468994, -4.006400108337402, -3.9988999366760254, -5.952300071716309, -5.952300071716309, -3.9951999187469482, -3.9939000606536865, -4.120999813079834, -4.120999813079834, -4.120999813079834, -4.120999813079834, -4.120999813079834, -4.120999813079834, -4.120999813079834, -4.120999813079834, -4.120999813079834, -4.120999813079834, -4.120999813079834, -4.120999813079834, -4.120999813079834, -3.5018999576568604, -3.5018999576568604, -4.120999813079834, -4.120999813079834, -4.120999813079834, -4.120100021362305, -4.120999813079834, -4.120999813079834, -4.120999813079834, -4.120999813079834, -4.120299816131592, -3.5013999938964844, -4.119900226593018, -4.120999813079834, -4.120999813079834, -4.120999813079834, -4.120999813079834, -3.5018999576568604, -3.501300096511841, -4.118299961090088, -4.11959981918335, -4.119999885559082, -4.120200157165527], \"loglift\": [30.0, 29.0, 28.0, 27.0, 26.0, 25.0, 24.0, 23.0, 22.0, 21.0, 20.0, 19.0, 18.0, 17.0, 16.0, 15.0, 14.0, 13.0, 12.0, 11.0, 10.0, 9.0, 8.0, 7.0, 6.0, 5.0, 4.0, 3.0, 2.0, 1.0, 1.576300024986267, 1.4860999584197998, 1.2756999731063843, 1.2756999731063843, 1.2756999731063843, 1.2756999731063843, 1.2756999731063843, 1.2756999731063843, 1.2756999731063843, 1.2756999731063843, 1.2756999731063843, 1.2756999731063843, 1.2756999731063843, 1.2756999731063843, 1.2756999731063843, 1.2756999731063843, 1.2756999731063843, 1.2756999731063843, 1.2746000289916992, 1.2745000123977661, 1.2742999792099, 1.1682000160217285, 1.1552000045776367, 1.0526000261306763, 0.9333999752998352, 0.9333999752998352, 0.9309999942779541, 0.9063000082969666, 0.8661999702453613, 0.8646000027656555, 0.7057999968528748, 0.8593999743461609, 0.498199999332428, 0.4975999891757965, 0.020400000736117363, -0.777999997138977, 0.3824999928474426, 0.31060001254081726, 0.49619999527931213, 0.34389999508857727, -0.23880000412464142, 0.8119000196456909, 0.98089998960495, 0.9779999852180481, 0.8087000250816345, 0.7961000204086304, 0.7961000204086304, 0.7961000204086304, 0.7961000204086304, 0.7961000204086304, 0.7961000204086304, 0.7961000204086304, 0.7961000204086304, 0.7954999804496765, 0.7954000234603882, 0.7953000068664551, 0.7953000068664551, 0.795199990272522, 0.7939000129699707, 0.7939000129699707, 0.7937999963760376, 0.7937999963760376, 0.7937999963760376, 0.7936999797821045, 0.7936000227928162, 0.7936000227928162, 0.7936000227928162, 0.7936000227928162, 0.79339998960495, 0.79339998960495, 0.79339998960495, 0.7932999730110168, 0.7455999851226807, 0.7426000237464905, 0.6873000264167786, 0.6811000108718872, 0.7171000242233276, 0.7170000076293945, 0.7149999737739563, 0.7146999835968018, 0.7103999853134155, 0.7091000080108643, 0.399399995803833, 0.3102000057697296, 0.5314000248908997, -0.020500000566244125, 0.33730000257492065, 0.052400000393390656, -0.017999999225139618, 0.13359999656677246, 0.13860000669956207, -0.08150000125169754, 1.4365999698638916, 1.233299970626831, 1.233299970626831, 1.233299970626831, 1.2310999631881714, 1.2309000492095947, 1.2308000326156616, 1.2305999994277954, 1.2304999828338623, 1.2304999828338623, 1.2304999828338623, 1.2303999662399292, 1.230299949645996, 1.2302000522613525, 1.2302000522613525, 1.2301000356674194, 1.2297999858856201, 1.229699969291687, 1.2294000387191772, 1.2293000221252441, 1.1998000144958496, 1.1102999448776245, 0.9296000003814697, 0.8661999702453613, 0.8259000182151794, 0.8251000046730042, 0.7961000204086304, 0.7706000208854675, 0.7271999716758728, 0.6693000197410583, 0.5198000073432922, 0.6039000153541565, 0.5873000025749207, 0.11140000075101852, -0.19359999895095825, 0.46059998869895935, 0.49709999561309814, 0.36390000581741333, 0.6191999912261963, 0.2824000120162964, 0.3382999897003174, 1.5262000560760498, 1.4838000535964966, 1.479599952697754, 1.273900032043457, 1.273900032043457, 1.273900032043457, 1.2726999521255493, 1.2726000547409058, 1.2723000049591064, 1.2719999551773071, 1.2719999551773071, 1.2719999551773071, 1.2718000411987305, 1.2714999914169312, 1.270300030708313, 1.2696000337600708, 1.2690999507904053, 1.2689000368118286, 1.2688000202178955, 1.190999984741211, 0.9908999800682068, 0.9761000275611877, 0.9272000193595886, 0.8654999732971191, 0.8644000291824341, 0.8641999959945679, 0.8634999990463257, 0.8098000288009644, 0.7885000109672546, 0.7307000160217285, 0.5537999868392944, 0.2215999960899353, 0.45260000228881836, -0.4684999883174896, 0.00570000009611249, 0.3978999853134155, 0.6578999757766724, 0.34369999170303345, 0.4934999942779541, 0.18799999356269836, 1.960800051689148, 1.960800051689148, 1.7145999670028687, 1.7145999670028687, 1.7145999670028687, 1.7145999670028687, 1.7145999670028687, 1.7145999670028687, 1.7145999670028687, 1.7145999670028687, 1.7145999670028687, 1.7145999670028687, 1.3899999856948853, 1.3144999742507935, 1.3143999576568604, 1.270799994468689, 1.270799994468689, 1.2692999839782715, 1.211899995803833, 0.9955999851226807, 0.9923999905586243, 0.9546999931335449, 0.7197999954223633, 0.7177000045776367, 0.6966000199317932, 0.5325000286102295, 0.37860000133514404, -0.1289999932050705, -0.27059999108314514, -0.27070000767707825, -0.42969998717308044, -0.7613000273704529, 1.5607000589370728, 1.5607000589370728, 1.5607000589370728, 1.5607000589370728, 1.5607000589370728, 1.5607000589370728, 1.5607000589370728, 1.5607000589370728, 1.5607000589370728, 1.5607000589370728, 1.5607000589370728, 1.5607000589370728, 1.5607000589370728, 1.4375, 1.2391999959945679, 1.1999000310897827, 1.1999000310897827, 1.1308000087738037, 1.1236000061035156, 1.073699951171875, 1.0736000537872314, 1.0735000371932983, 0.8809999823570251, 0.8762999773025513, 0.8619999885559082, 0.7839000225067139, 0.7475000023841858, 0.746999979019165, 0.6051999926567078, 0.5947999954223633, 0.06360000371932983, -0.2687999904155731, 0.415800005197525, 0.5349000096321106, 0.22579999268054962, -0.2502000033855438]}, \"token.table\": {\"Topic\": [2, 3, 2, 5, 6, 3, 4, 6, 5, 3, 5, 2, 4, 2, 2, 4, 5, 5, 6, 2, 3, 4, 1, 3, 2, 6, 1, 4, 2, 1, 2, 1, 6, 1, 5, 6, 3, 1, 4, 2, 2, 6, 1, 2, 2, 3, 6, 1, 2, 2, 2, 3, 6, 6, 2, 3, 4, 6, 4, 6, 6, 4, 3, 3, 4, 2, 4, 5, 5, 3, 5, 2, 6, 2, 1, 4, 6, 1, 2, 1, 2, 3, 6, 2, 6, 5, 2, 6, 1, 1, 2, 1, 2, 1, 5, 6, 1, 5, 2, 4, 3, 6, 1, 2, 1, 4, 5, 6, 3, 2, 3, 2, 1, 2, 2, 3, 4, 5, 6, 1, 2, 3, 4, 5, 6, 5, 3, 2, 3, 3, 5, 4, 5, 6, 2, 5, 5, 1, 2, 3, 4, 5, 6, 3, 4, 6, 3, 6, 4, 4, 1, 2, 3, 4, 6, 1, 3, 2, 1, 1, 2, 3, 4, 1, 1, 6, 1, 5, 2, 2, 3, 2, 4, 5, 1, 3, 4, 2, 3, 1, 2, 2, 6, 3, 2, 4, 4, 4, 1, 4, 1, 2, 1, 2, 2, 4, 2, 5, 2, 3, 3, 3, 2, 1, 4, 1, 2, 6, 2, 2, 4, 6, 1, 1, 3, 1, 3, 3, 1, 4, 6, 1, 4, 1, 2, 3, 5, 3, 1, 2, 1, 2, 1, 2, 4, 3, 3, 5, 6, 4, 2, 3, 4, 5, 6, 1, 3, 4, 1, 4, 1, 2, 3, 6, 5, 2, 4, 2, 3, 5, 1, 2, 5, 6, 4, 1, 2], \"Freq\": [0.4606098532676697, 0.23030492663383484, 0.5086066722869873, 0.5086066722869873, 0.8083702921867371, 0.3077103793621063, 0.3077103793621063, 0.3077103793621063, 0.8408626317977905, 0.39229992032051086, 0.39229992032051086, 0.4774482846260071, 0.4774482846260071, 0.7001424431800842, 0.30315420031547546, 0.30315420031547546, 0.30315420031547546, 0.840863049030304, 0.8083703517913818, 0.3603440821170807, 0.3603440821170807, 0.3603440821170807, 0.7596966028213501, 0.7507718205451965, 0.49666017293930054, 0.49666017293930054, 0.5042173862457275, 0.5042173862457275, 0.7001754641532898, 0.5048434734344482, 0.6998355984687805, 0.5258880257606506, 0.5258880257606506, 0.7596965432167053, 0.5635451078414917, 0.5635451078414917, 0.751000165939331, 0.3772844076156616, 0.3772844076156616, 0.7001386284828186, 0.3848206698894501, 0.3848206698894501, 0.7596964240074158, 0.6998399496078491, 0.5972794890403748, 0.19909316301345825, 0.19909316301345825, 0.7596964240074158, 0.9066160321235657, 0.7002215385437012, 0.693313717842102, 0.346656858921051, 0.8083702921867371, 0.8083703517913818, 0.3585270047187805, 0.3585270047187805, 0.17926350235939026, 0.8083703517913818, 0.7587065696716309, 0.8083703517913818, 0.8083703517913818, 0.7586538791656494, 0.7511520385742188, 0.7510076761245728, 0.7581965923309326, 0.6998363137245178, 0.5386898517608643, 0.5386898517608643, 0.8408629894256592, 0.7510310411453247, 0.8408628702163696, 0.4967072010040283, 0.4967072010040283, 0.6998363137245178, 0.7596947550773621, 0.7587310075759888, 0.8083703517913818, 0.3485327661037445, 0.697065532207489, 0.7596964240074158, 0.3713442385196686, 0.3713442385196686, 0.3713442385196686, 0.4966372847557068, 0.4966372847557068, 0.8408628702163696, 0.7169201374053955, 0.35846006870269775, 0.7596964240074158, 0.47773483395576477, 0.47773483395576477, 0.23205938935279846, 0.4641187787055969, 0.5394501090049744, 0.5394501090049744, 0.8083702921867371, 0.327260822057724, 0.327260822057724, 0.6963115930557251, 0.34815579652786255, 0.7507748007774353, 0.8083692789077759, 0.759696364402771, 0.7002057433128357, 0.7596964240074158, 0.4096667170524597, 0.4096667170524597, 0.4096667170524597, 0.7507694363594055, 0.700141429901123, 0.7507739067077637, 0.7001460194587708, 0.7596964240074158, 0.699960470199585, 0.279264360666275, 0.279264360666275, 0.279264360666275, 0.06981609016656876, 0.06981609016656876, 0.13206660747528076, 0.3961998224258423, 0.13206660747528076, 0.13206660747528076, 0.13206660747528076, 0.13206660747528076, 0.8408629894256592, 0.7507717609405518, 0.3586651682853699, 0.3586651682853699, 0.7507786750793457, 0.8408628106117249, 0.7585197687149048, 0.5635448694229126, 0.5635448694229126, 0.6999377608299255, 0.8408627510070801, 0.5791442394256592, 0.09740255773067474, 0.389610230922699, 0.09740255773067474, 0.1948051154613495, 0.09740255773067474, 0.09740255773067474, 0.3155907988548279, 0.3155907988548279, 0.3155907988548279, 0.5217172503471375, 0.5217172503471375, 0.7586449980735779, 0.7587606310844421, 0.21254365146160126, 0.21254365146160126, 0.21254365146160126, 0.21254365146160126, 0.21254365146160126, 0.7596964836120605, 0.7507464289665222, 0.700149655342102, 0.7596948146820068, 0.2909601330757141, 0.2909601330757141, 0.2909601330757141, 0.758709192276001, 0.7596943974494934, 0.7596964240074158, 0.8083703517913818, 0.5394498705863953, 0.5394498705863953, 0.7001214027404785, 0.7002079486846924, 0.7507464289665222, 0.6998352408409119, 0.6631864309310913, 0.22106213867664337, 0.2991902530193329, 0.2991902530193329, 0.2991902530193329, 0.7001645565032959, 0.7507821321487427, 0.7560557723045349, 0.6998353004455566, 0.7165294289588928, 0.3582647144794464, 0.7507467865943909, 0.6998364925384521, 0.7582761645317078, 0.7581701278686523, 0.503804624080658, 0.5044010281562805, 0.5044010281562805, 0.7596964836120605, 0.6999321579933167, 0.7596965432167053, 0.6999183297157288, 0.699836254119873, 0.7586808800697327, 0.699941098690033, 0.5791440606117249, 0.4743407964706421, 0.4743407964706421, 0.7510940432548523, 0.751051664352417, 0.700158417224884, 0.5041952729225159, 0.5041952729225159, 0.2894015312194824, 0.5788030624389648, 0.2894015312194824, 0.7001689076423645, 0.7001405954360962, 0.7582269906997681, 0.8083702325820923, 0.759696364402771, 0.7596966028213501, 0.7509791254997253, 0.5009891390800476, 0.5009891390800476, 0.49723517894744873, 0.7596964836120605, 0.7587119340896606, 0.8083703517913818, 0.5043824315071106, 0.5043824315071106, 0.16706958413124084, 0.3341391682624817, 0.3341391682624817, 0.16706958413124084, 0.750774621963501, 0.36259618401527405, 0.36259618401527405, 0.3485296666622162, 0.6970593333244324, 0.2379138171672821, 0.4758276343345642, 0.2379138171672821, 0.7507713437080383, 0.4074641168117523, 0.4074641168117523, 0.4074641168117523, 0.7585194110870361, 0.2566046714782715, 0.2566046714782715, 0.2566046714782715, 0.2566046714782715, 0.2566046714782715, 0.5008923411369324, 0.5008923411369324, 0.7581789493560791, 0.5027180314064026, 0.2513590157032013, 0.2163240760564804, 0.2163240760564804, 0.2163240760564804, 0.2163240760564804, 0.8408625721931458, 0.907231867313385, 0.5035760402679443, 0.6933117508888245, 0.34665587544441223, 0.8408628702163696, 0.3109420835971832, 0.3109420835971832, 0.3109420835971832, 0.3109420835971832, 0.7585194110870361, 0.3483990728855133, 0.6967981457710266], \"Term\": [\"able\", \"able\", \"actually\", \"actually\", \"ai\", \"algorithm\", \"algorithm\", \"algorithm\", \"allow\", \"also\", \"also\", \"although\", \"although\", \"another\", \"apply\", \"apply\", \"apply\", \"appreciate\", \"ask\", \"aspect\", \"aspect\", \"aspect\", \"basic\", \"behind\", \"big\", \"big\", \"broad\", \"broad\", \"cement\", \"class\", \"classify\", \"clear\", \"clear\", \"cnn\", \"code\", \"code\", \"collab\", \"complex\", \"complex\", \"complicated\", \"concept\", \"concept\", \"consultation\", \"cooperative\", \"course\", \"course\", \"course\", \"create\", \"datum\", \"daunting\", \"definitely\", \"definitely\", \"descent\", \"difference\", \"different\", \"different\", \"different\", \"discuss\", \"dive\", \"donts\", \"dos\", \"easy\", \"encourage\", \"end\", \"entail\", \"especially\", \"even\", \"even\", \"example\", \"exercise\", \"experience\", \"explain\", \"explain\", \"expose\", \"fact\", \"fault\", \"feel\", \"field\", \"field\", \"final\", \"find\", \"find\", \"find\", \"first\", \"first\", \"force\", \"foundation\", \"foundation\", \"future\", \"get\", \"get\", \"give\", \"give\", \"good\", \"good\", \"gradient\", \"help\", \"help\", \"helpful\", \"helpful\", \"high\", \"home\", \"hope\", \"huge\", \"imaging\", \"implement\", \"implement\", \"implement\", \"important\", \"interest\", \"intimidating\", \"introductory\", \"join\", \"knn\", \"learn\", \"learn\", \"learn\", \"learn\", \"learn\", \"learning\", \"learning\", \"learning\", \"learning\", \"learning\", \"learning\", \"lecture\", \"less\", \"lesson\", \"lesson\", \"level\", \"library\", \"life\", \"like\", \"like\", \"linear\", \"look\", \"lot\", \"machine\", \"machine\", \"machine\", \"machine\", \"machine\", \"machine\", \"make\", \"make\", \"make\", \"material\", \"material\", \"mathematic\", \"methodology\", \"ml\", \"ml\", \"ml\", \"ml\", \"ml\", \"mlrelate\", \"modeling\", \"move\", \"narrow\", \"notebook\", \"notebook\", \"notebook\", \"objective\", \"one\", \"performance\", \"perspective\", \"pipeline\", \"pipeline\", \"pique\", \"plenty\", \"practice\", \"preprocess\", \"problem\", \"problem\", \"process\", \"process\", \"process\", \"professional\", \"progress\", \"project\", \"proper\", \"properly\", \"properly\", \"put\", \"python\", \"range\", \"rather\", \"real\", \"really\", \"really\", \"reference\", \"regression\", \"response\", \"result\", \"sample\", \"san\", \"scratch\", \"see\", \"seem\", \"seem\", \"self\", \"serve\", \"set\", \"simple\", \"simple\", \"since\", \"since\", \"since\", \"skill\", \"solid\", \"solution\", \"someone\", \"something\", \"standard\", \"start\", \"student\", \"student\", \"study\", \"supplement\", \"syllabus\", \"take\", \"teach\", \"teach\", \"technique\", \"technique\", \"technique\", \"technique\", \"technology\", \"thesis\", \"thesis\", \"think\", \"think\", \"topic\", \"topic\", \"topic\", \"trend\", \"try\", \"try\", \"try\", \"type\", \"understand\", \"understand\", \"understand\", \"understand\", \"understand\", \"understanding\", \"understanding\", \"unsolvable\", \"use\", \"use\", \"useful\", \"useful\", \"useful\", \"useful\", \"usefulness\", \"valuable\", \"various\", \"well\", \"well\", \"without\", \"work\", \"work\", \"work\", \"work\", \"world\", \"would\", \"would\"]}, \"R\": 30, \"lambda.step\": 0.01, \"plot.opts\": {\"xlab\": \"PC1\", \"ylab\": \"PC2\"}, \"topic.order\": [1, 2, 3, 4, 5, 6]};\n",
       "\n",
       "function LDAvis_load_lib(url, callback){\n",
       "  var s = document.createElement('script');\n",
       "  s.src = url;\n",
       "  s.async = true;\n",
       "  s.onreadystatechange = s.onload = callback;\n",
       "  s.onerror = function(){console.warn(\"failed to load library \" + url);};\n",
       "  document.getElementsByTagName(\"head\")[0].appendChild(s);\n",
       "}\n",
       "\n",
       "if(typeof(LDAvis) !== \"undefined\"){\n",
       "   // already loaded: just create the visualization\n",
       "   !function(LDAvis){\n",
       "       new LDAvis(\"#\" + \"ldavis_el1165227287855057362807883390\", ldavis_el1165227287855057362807883390_data);\n",
       "   }(LDAvis);\n",
       "}else if(typeof define === \"function\" && define.amd){\n",
       "   // require.js is available: use it to load d3/LDAvis\n",
       "   require.config({paths: {d3: \"https://cdnjs.cloudflare.com/ajax/libs/d3/3.5.5/d3.min\"}});\n",
       "   require([\"d3\"], function(d3){\n",
       "      window.d3 = d3;\n",
       "      LDAvis_load_lib(\"https://cdn.rawgit.com/bmabey/pyLDAvis/files/ldavis.v1.0.0.js\", function(){\n",
       "        new LDAvis(\"#\" + \"ldavis_el1165227287855057362807883390\", ldavis_el1165227287855057362807883390_data);\n",
       "      });\n",
       "    });\n",
       "}else{\n",
       "    // require.js not available: dynamically load d3 & LDAvis\n",
       "    LDAvis_load_lib(\"https://cdnjs.cloudflare.com/ajax/libs/d3/3.5.5/d3.min.js\", function(){\n",
       "         LDAvis_load_lib(\"https://cdn.rawgit.com/bmabey/pyLDAvis/files/ldavis.v1.0.0.js\", function(){\n",
       "                 new LDAvis(\"#\" + \"ldavis_el1165227287855057362807883390\", ldavis_el1165227287855057362807883390_data);\n",
       "            })\n",
       "         });\n",
       "}\n",
       "</script>"
      ],
      "text/plain": [
       "PreparedData(topic_coordinates=               x          y  topics  cluster       Freq\n",
       "topic                                                  \n",
       "0       1.465019 -47.625065       1        1  16.444670\n",
       "1      54.854797 -36.476795       2        1  28.619316\n",
       "2      32.212929 -61.444572       3        1  17.355515\n",
       "3       5.111096 -14.110332       4        1  16.499321\n",
       "4      26.350170 -33.374702       5        1   9.491440\n",
       "5      38.109818  -7.222781       6        1  11.589736, topic_info=           Term       Freq      Total Category  logprob  loglift\n",
       "41      problem   4.000000   4.000000  Default  30.0000  30.0000\n",
       "3         learn  14.000000  14.000000  Default  29.0000  29.0000\n",
       "135        help   3.000000   3.000000  Default  28.0000  28.0000\n",
       "91          use   3.000000   3.000000  Default  27.0000  27.0000\n",
       "51    technique   5.000000   5.000000  Default  26.0000  26.0000\n",
       "..          ...        ...        ...      ...      ...      ...\n",
       "3         learn   1.268791  14.323346   Topic6  -3.5013  -0.2688\n",
       "33   understand   0.684549   3.897045   Topic6  -4.1183   0.4158\n",
       "50        since   0.683709   3.455407   Topic6  -4.1196   0.5349\n",
       "28           ml   0.683402   4.704916   Topic6  -4.1200   0.2258\n",
       "11     learning   0.683294   7.571937   Topic6  -4.1202  -0.2502\n",
       "\n",
       "[271 rows x 6 columns], token_table=      Topic      Freq      Term\n",
       "term                           \n",
       "44        2  0.460610      able\n",
       "44        3  0.230305      able\n",
       "128       2  0.508607  actually\n",
       "128       5  0.508607  actually\n",
       "92        6  0.808370        ai\n",
       "...     ...       ...       ...\n",
       "35        5  0.310942      work\n",
       "35        6  0.310942      work\n",
       "99        4  0.758519     world\n",
       "53        1  0.348399     would\n",
       "53        2  0.696798     would\n",
       "\n",
       "[267 rows x 3 columns], R=30, lambda_step=0.01, plot_opts={'xlab': 'PC1', 'ylab': 'PC2'}, topic_order=[1, 2, 3, 4, 5, 6])"
      ]
     },
     "metadata": {},
     "output_type": "display_data"
    }
   ],
   "source": [
    "optimal_k = 6\n",
    "lda_model = build_optimal_lda(optimal_k, comments_tokenized, id2word, bow)"
   ]
  },
  {
   "cell_type": "code",
   "execution_count": 48,
   "metadata": {},
   "outputs": [
    {
     "name": "stdout",
     "output_type": "stream",
     "text": [
      "\n",
      "----------\n",
      "TOPIC 1.0\n",
      "Keywords: ['project, use, class, thesis, help, give, notebook, field, think, useful']\n",
      "\n",
      "Text 15: I think that the final project consultations helped me the most since I joined the class in hopes of working on something to use in my thesis, which I did get to do.\n",
      "Text 1: Probably the fact that it cleared things up about what machine learning really is and how it's not such a simple and narrow topic, but a broad and complex one at that.\n",
      "Text 12: The most useful would be the notebooks given in class. It can be a good reference in creating a pipeline for future ML-related projects.\n",
      "Text 19: During the projects, standard techniques used in the field are taught as supplement and response to the the students’ performance\n",
      "Text 23: Helped with my basic understanding of ML that can be used for my thesis (imaging processing & CNN)\n",
      "\n",
      "----------\n",
      "TOPIC 2.0\n",
      "Keywords: ['learn, machine, learning, course, able, give, topic, properly, datum, helpful']\n",
      "\n",
      "Text 7: I think the most valuable aspect of the course was that it was able to cement a solid foundation of machine learning. Given how big the field is and how we're moving ever-closer to applying machine learning in many different fields, I think the foundations given by the course will definitely be useful and will be a huge skill set in my professional career. Another thing I found very valuable as well was that the course was able to give importance to machine learning and explain different machine learning concepts that seem very daunting and complicated at first. And although this was only an introductory course, the topics and lessons I learned over the term was definitely plenty and has further piqued my interest in the topic.\n",
      "Text 5: Learning how to do proper machine learning techniques since this would be helpful for our thesis. Learned how to properly pre-process data to be able to properly classify the data\n",
      "Text 22: Most probably learning how to do linear regression and KNN from scratch since you would understand better how those ML techniques actually get their results.\n",
      "Text 16: The sample notebooks were very helpful especially for those that have not been exposed to python.\n",
      "Text 6: cooperative work\n",
      "\n",
      "----------\n",
      "TOPIC 3.0\n",
      "Keywords: ['learn, technique, different, able, process, ml, learning, lesson, also, machine']\n",
      "\n",
      "Text 13: The most useful lesson that I have learned in this course is the high level understanding of the ml techniques, with how the technologies is progressing, it is important to learn the different trends. I was also able to learn the algorithm behind different ml techniques which made machine learning seem less intimidating.\n",
      "Text 11: The collab notebooks served as very useful learning and study material. I also found the exercises to encourage students to self study and try to understand the lessons better.\n",
      "Text 0: Learning about machine learning such as the process from start to end and learning about different aspects in each process.\n",
      "Text 24: Definitely being able to put modeling techniques into practice\n",
      "\n",
      "----------\n",
      "TOPIC 4.0\n",
      "Keywords: ['learn, problem, machine, different, apply, algorithm, real, use, topic, complex']\n",
      "\n",
      "Text 18: For me, it was learning the different aspects of machine learning, that it is not a broad topic but rather a complex topic that entails various solutions to various problems ranging from simple problems to complex and even unsolvable problems.\n",
      "Text 2: It was really helpful to dive into the objective and methodology of each of the ML Algorithms you taught as it made understanding each algorithm easier - sans the mathematics although thats not the fault of the syllabus itself.\n",
      "Text 10: Learning the different processes and types of machine learning and how to implement and apply them to real world problems.\n",
      "Text 21: Using what we learned and applying it in real life problems.\n",
      "Text 8: Learning when or when not to use machine learning. \n",
      "\n",
      "----------\n",
      "TOPIC 5.0\n",
      "Keywords: ['technique, help, lot, see, learn, machine, learning, understand, also, try']\n",
      "\n",
      "Text 14: The lectures with coding examples helped a lot with seeing how to actually apply the techniques. It was also a good experience to be forced to try and implement the techniques without help from libraries to understand how they work and appreciate them even more. \n",
      "Text 4: Learning on how the machine learning pipeline should look like allowed me to see its usefulness in a lot of problems.\n",
      "\n",
      "----------\n",
      "TOPIC 6.0\n",
      "Keywords: ['learn, useful, make, machine, concept, understand, since, find, ml, material']\n",
      "\n",
      "Text 20: I feel like discussing the concepts first before asking us to code them were very useful in understanding how to implement the machine learning algorithm properly.\n",
      "Text 9: What I found most useful is the concept of gradient descent. It made my perspective of AI clearer since its the foundation  of machine learning\n",
      "Text 25: I tried learning ML on my own before taking this course but having someone to explain the material, the dos, don'ts and whys makes a big difference.\n",
      "Text 3: home works\n"
     ]
    }
   ],
   "source": [
    "df_representative_comments = get_most_representative_documents(comments, comments_tokenized, lda_model, bow)"
   ]
  },
  {
   "cell_type": "markdown",
   "metadata": {},
   "source": [
    "Let us also check `n_topics = 2`. Maybe it will yield better clusters."
   ]
  },
  {
   "cell_type": "code",
   "execution_count": 49,
   "metadata": {},
   "outputs": [
    {
     "name": "stdout",
     "output_type": "stream",
     "text": [
      "Coherence Score: 0.36283875604714183\n"
     ]
    },
    {
     "data": {
      "text/html": [
       "\n",
       "<link rel=\"stylesheet\" type=\"text/css\" href=\"https://cdn.rawgit.com/bmabey/pyLDAvis/files/ldavis.v1.0.0.css\">\n",
       "\n",
       "\n",
       "<div id=\"ldavis_el1165227288269262806123113135\"></div>\n",
       "<script type=\"text/javascript\">\n",
       "\n",
       "var ldavis_el1165227288269262806123113135_data = {\"mdsDat\": {\"x\": [-60.31231689453125, 60.31256103515625], \"y\": [141.36962890625, -141.369140625], \"topics\": [1, 2], \"cluster\": [1, 1], \"Freq\": [39.60389709472656, 60.39609909057617]}, \"tinfo\": {\"Term\": [\"use\", \"help\", \"work\", \"different\", \"project\", \"learn\", \"class\", \"good\", \"code\", \"teach\", \"lot\", \"see\", \"pipeline\", \"like\", \"able\", \"topic\", \"make\", \"algorithm\", \"understand\", \"try\", \"thesis\", \"implement\", \"concept\", \"something\", \"final\", \"supplement\", \"hope\", \"performance\", \"join\", \"consultation\", \"help\", \"work\", \"use\", \"project\", \"class\", \"good\", \"code\", \"teach\", \"lot\", \"see\", \"pipeline\", \"like\", \"something\", \"final\", \"supplement\", \"hope\", \"performance\", \"join\", \"consultation\", \"standard\", \"response\", \"basic\", \"lecture\", \"appreciate\", \"cnn\", \"someone\", \"future\", \"take\", \"dos\", \"without\", \"make\", \"algorithm\", \"understand\", \"try\", \"thesis\", \"implement\", \"concept\", \"useful\", \"ml\", \"technique\", \"since\", \"machine\", \"learn\", \"apply\", \"learning\", \"problem\", \"clear\", \"really\", \"different\", \"able\", \"topic\", \"well\", \"lesson\", \"aspect\", \"definitely\", \"complex\", \"various\", \"datum\", \"study\", \"valuable\", \"seem\", \"simple\", \"probably\", \"broad\", \"thing\", \"learn\", \"course\", \"learning\", \"machine\", \"problem\", \"rather\", \"entail\", \"regression\", \"solution\", \"result\", \"unsolvable\", \"knn\", \"linear\", \"give\", \"notebook\", \"process\", \"real\", \"technique\", \"apply\", \"properly\", \"helpful\", \"ml\", \"useful\", \"would\", \"understand\", \"foundation\", \"find\", \"since\", \"think\"], \"Freq\": [3.0, 3.0, 3.0, 5.0, 2.0, 14.0, 1.0, 1.0, 1.0, 1.0, 1.0, 1.0, 1.0, 1.0, 4.0, 4.0, 3.0, 3.0, 3.0, 2.0, 2.0, 2.0, 2.0, 1.0, 1.0, 1.0, 1.0, 1.0, 1.0, 1.0, 2.769263982772827, 2.7572076320648193, 3.253946304321289, 2.154385805130005, 1.5386157035827637, 1.5374493598937988, 1.5349681377410889, 1.5345112085342407, 1.5344979763031006, 1.5338459014892578, 1.532938838005066, 1.5267349481582642, 0.9237512946128845, 0.9237374067306519, 0.9237016439437866, 0.9236969351768494, 0.9236838221549988, 0.9236764907836914, 0.923621416091919, 0.9236202836036682, 0.9235901236534119, 0.923387885093689, 0.9233138561248779, 0.9232596755027771, 0.9232431650161743, 0.923228919506073, 0.9232121706008911, 0.9231453537940979, 0.9231129288673401, 0.9231117963790894, 2.149984121322632, 2.1332333087921143, 2.140864610671997, 1.540550708770752, 1.5396097898483276, 1.5329020023345947, 1.5299718379974365, 2.15195894241333, 2.1473631858825684, 2.163748264312744, 1.5405038595199585, 2.18870210647583, 2.356829881668091, 1.2153668403625488, 1.5062309503555298, 1.032632827758789, 0.9550096392631531, 0.9413920044898987, 5.315654277801514, 3.899153470993042, 3.893763542175293, 2.4826571941375732, 2.4821646213531494, 2.481731414794922, 2.478078603744507, 2.4774668216705322, 1.7744866609573364, 1.774204969406128, 1.7730590105056763, 1.77211594581604, 1.7710322141647339, 1.7633708715438843, 1.7628798484802246, 1.7616443634033203, 1.7606533765792847, 12.199719429016113, 3.904526710510254, 6.077020168304443, 8.131486892700195, 3.781710147857666, 1.065038800239563, 1.0649679899215698, 1.0649513006210327, 1.064889907836914, 1.064886212348938, 1.0648770332336426, 1.064871907234192, 1.0648449659347534, 3.190157651901245, 2.484501361846924, 2.4805779457092285, 1.5426576137542725, 3.898165702819824, 2.1503093242645264, 1.7988742589950562, 1.7904912233352661, 2.4963607788085938, 2.4910616874694824, 1.7778342962265015, 1.7935049533843994, 1.7761918306350708, 1.7754982709884644, 1.7754077911376953, 1.7741477489471436], \"Total\": [3.0, 3.0, 3.0, 5.0, 2.0, 14.0, 1.0, 1.0, 1.0, 1.0, 1.0, 1.0, 1.0, 1.0, 4.0, 4.0, 3.0, 3.0, 3.0, 2.0, 2.0, 2.0, 2.0, 1.0, 1.0, 1.0, 1.0, 1.0, 1.0, 1.0, 3.127863883972168, 3.129707098007202, 3.764009714126587, 2.511627674102783, 1.895527958869934, 1.8957064151763916, 1.8960857391357422, 1.896155595779419, 1.8961576223373413, 1.8962572813034058, 1.8963959217071533, 1.897344946861267, 1.2792903184890747, 1.2792925834655762, 1.2792980670928955, 1.2792986631393433, 1.279300570487976, 1.2793017625808716, 1.2793102264404297, 1.2793102264404297, 1.2793147563934326, 1.2793457508087158, 1.2793571949005127, 1.2793656587600708, 1.2793679237365723, 1.2793701887130737, 1.2793726921081543, 1.2793829441070557, 1.2793879508972168, 1.279388189315796, 3.222625732421875, 3.225191116333008, 3.9343695640563965, 2.605555772781372, 2.6057000160217285, 2.606727123260498, 2.6071760654449463, 4.6430206298828125, 4.643723964691162, 6.061913967132568, 3.3159117698669434, 10.320188522338867, 14.556549072265625, 3.365676164627075, 7.583250999450684, 4.814342975616455, 1.9848265647888184, 1.9869132041931152, 5.634035110473633, 4.213894367218018, 4.213178634643555, 2.7937541007995605, 2.7936887741088867, 2.7936313152313232, 2.7931458950042725, 2.793064832687378, 2.0836942195892334, 2.0836567878723145, 2.0835046768188477, 2.0833795070648193, 2.083235502243042, 2.0822174549102783, 2.0821523666381836, 2.0819883346557617, 2.0818567276000977, 14.556549072265625, 4.8306474685668945, 7.583250999450684, 10.320188522338867, 4.814342975616455, 1.3734657764434814, 1.3734561204910278, 1.373453974723816, 1.373445749282837, 1.3734452724456787, 1.3734440803527832, 1.373443365097046, 1.3734397888183594, 4.11976432800293, 3.4100372791290283, 3.409517526626587, 2.0529069900512695, 6.061913967132568, 3.365676164627075, 2.702970266342163, 2.701857566833496, 4.643723964691162, 4.6430206298828125, 2.7001781463623047, 3.9343695640563965, 2.699960470199585, 2.6998682022094727, 3.3159117698669434, 2.6996889114379883], \"Category\": [\"Default\", \"Default\", \"Default\", \"Default\", \"Default\", \"Default\", \"Default\", \"Default\", \"Default\", \"Default\", \"Default\", \"Default\", \"Default\", \"Default\", \"Default\", \"Default\", \"Default\", \"Default\", \"Default\", \"Default\", \"Default\", \"Default\", \"Default\", \"Default\", \"Default\", \"Default\", \"Default\", \"Default\", \"Default\", \"Default\", \"Topic1\", \"Topic1\", \"Topic1\", \"Topic1\", \"Topic1\", \"Topic1\", \"Topic1\", \"Topic1\", \"Topic1\", \"Topic1\", \"Topic1\", \"Topic1\", \"Topic1\", \"Topic1\", \"Topic1\", \"Topic1\", \"Topic1\", \"Topic1\", \"Topic1\", \"Topic1\", \"Topic1\", \"Topic1\", \"Topic1\", \"Topic1\", \"Topic1\", \"Topic1\", \"Topic1\", \"Topic1\", \"Topic1\", \"Topic1\", \"Topic1\", \"Topic1\", \"Topic1\", \"Topic1\", \"Topic1\", \"Topic1\", \"Topic1\", \"Topic1\", \"Topic1\", \"Topic1\", \"Topic1\", \"Topic1\", \"Topic1\", \"Topic1\", \"Topic1\", \"Topic1\", \"Topic1\", \"Topic1\", \"Topic2\", \"Topic2\", \"Topic2\", \"Topic2\", \"Topic2\", \"Topic2\", \"Topic2\", \"Topic2\", \"Topic2\", \"Topic2\", \"Topic2\", \"Topic2\", \"Topic2\", \"Topic2\", \"Topic2\", \"Topic2\", \"Topic2\", \"Topic2\", \"Topic2\", \"Topic2\", \"Topic2\", \"Topic2\", \"Topic2\", \"Topic2\", \"Topic2\", \"Topic2\", \"Topic2\", \"Topic2\", \"Topic2\", \"Topic2\", \"Topic2\", \"Topic2\", \"Topic2\", \"Topic2\", \"Topic2\", \"Topic2\", \"Topic2\", \"Topic2\", \"Topic2\", \"Topic2\", \"Topic2\", \"Topic2\", \"Topic2\", \"Topic2\", \"Topic2\", \"Topic2\"], \"logprob\": [30.0, 29.0, 28.0, 27.0, 26.0, 25.0, 24.0, 23.0, 22.0, 21.0, 20.0, 19.0, 18.0, 17.0, 16.0, 15.0, 14.0, 13.0, 12.0, 11.0, 10.0, 9.0, 8.0, 7.0, 6.0, 5.0, 4.0, 3.0, 2.0, 1.0, -3.9495999813079834, -3.953900098800659, -3.788300037384033, -4.200699806213379, -4.537300109863281, -4.538000106811523, -4.539700031280518, -4.539899826049805, -4.539999961853027, -4.54040002822876, -4.540999889373779, -4.545000076293945, -5.047500133514404, -5.047500133514404, -5.047500133514404, -5.047500133514404, -5.047500133514404, -5.047599792480469, -5.047599792480469, -5.047599792480469, -5.047599792480469, -5.047900199890137, -5.047900199890137, -5.047999858856201, -5.047999858856201, -5.047999858856201, -5.048099994659424, -5.048099994659424, -5.0482001304626465, -5.0482001304626465, -4.202700138092041, -4.2104997634887695, -4.206999778747559, -4.535999774932861, -4.536600112915039, -4.540999889373779, -4.542900085449219, -4.2017998695373535, -4.20389986038208, -4.196300029754639, -4.536099910736084, -4.184899806976318, -4.110799789428711, -4.773099899291992, -4.558599948883057, -4.935999870300293, -5.014200210571289, -5.028600215911865, -3.7195000648498535, -4.029399871826172, -4.030799865722656, -4.480800151824951, -4.480999946594238, -4.481200218200684, -4.482699871063232, -4.482900142669678, -4.8165998458862305, -4.816800117492676, -4.817500114440918, -4.817999839782715, -4.818600177764893, -4.82289981842041, -4.823200225830078, -4.82390022277832, -4.82450008392334, -2.888700008392334, -4.0279998779296875, -3.585599899291992, -3.2943999767303467, -4.059999942779541, -5.327099800109863, -5.327199935913086, -5.327199935913086, -5.327300071716309, -5.327300071716309, -5.327300071716309, -5.327300071716309, -5.327300071716309, -4.230100154876709, -4.480100154876709, -4.4816999435424805, -4.956699848175049, -4.029699802398682, -4.624499797821045, -4.802999973297119, -4.807700157165527, -4.475299835205078, -4.477399826049805, -4.814799785614014, -4.806000232696533, -4.815700054168701, -4.816100120544434, -4.816100120544434, -4.816800117492676], \"loglift\": [30.0, 29.0, 28.0, 27.0, 26.0, 25.0, 24.0, 23.0, 22.0, 21.0, 20.0, 19.0, 18.0, 17.0, 16.0, 15.0, 14.0, 13.0, 12.0, 11.0, 10.0, 9.0, 8.0, 7.0, 6.0, 5.0, 4.0, 3.0, 2.0, 1.0, 0.8044999837875366, 0.7994999885559082, 0.7806000113487244, 0.7728000283241272, 0.7175999879837036, 0.7167999744415283, 0.7149999737739563, 0.7146000266075134, 0.7146000266075134, 0.7141000032424927, 0.7135000228881836, 0.708899974822998, 0.600600004196167, 0.600600004196167, 0.600600004196167, 0.600600004196167, 0.6004999876022339, 0.6004999876022339, 0.6004999876022339, 0.6004999876022339, 0.6003999710083008, 0.6001999974250793, 0.6000999808311462, 0.6000000238418579, 0.6000000238418579, 0.6000000238418579, 0.6000000238418579, 0.5999000072479248, 0.5999000072479248, 0.5999000072479248, 0.5214999914169312, 0.5128999948501587, 0.31769999861717224, 0.40070000290870667, 0.4000999927520752, 0.3953000009059906, 0.39320001006126404, 0.15729999542236328, 0.1550000011920929, -0.1039000004529953, 0.15960000455379486, -0.6245999932289124, -0.8945000171661377, -0.09229999780654907, -0.6901000142097473, -0.6132000088691711, 0.19470000267028809, 0.179299995303154, 0.44609999656677246, 0.42660000920295715, 0.4253999888896942, 0.3862000107765198, 0.38600000739097595, 0.38589999079704285, 0.3846000134944916, 0.38429999351501465, 0.34360000491142273, 0.3434999883174896, 0.34290000796318054, 0.3424000144004822, 0.3418999910354614, 0.33799999952316284, 0.337799996137619, 0.33719998598098755, 0.3366999924182892, 0.32760000228881836, 0.2913999855518341, 0.28279998898506165, 0.26589998602867126, 0.262800008058548, 0.2498999983072281, 0.2498999983072281, 0.24979999661445618, 0.24979999661445618, 0.24979999661445618, 0.24979999661445618, 0.24979999661445618, 0.24979999661445618, 0.2485000044107437, 0.1876000016927719, 0.18619999289512634, 0.21850000321865082, 0.06270000338554382, 0.05620000138878822, 0.09709999710321426, 0.09279999881982803, -0.11640000343322754, -0.11840000003576279, 0.08630000054836273, -0.28130000829696655, 0.08550000190734863, 0.08510000258684158, -0.12049999833106995, 0.0843999981880188]}, \"token.table\": {\"Topic\": [2, 1, 2, 1, 2, 1, 2, 1, 2, 1, 1, 2, 1, 1, 2, 1, 2, 1, 1, 2, 2, 2, 2, 1, 2, 1, 1, 2, 1, 2, 1, 1, 2, 1, 1, 1, 2, 1, 1, 2, 1, 2, 1, 2, 1, 2, 1, 2, 1, 2, 1, 1, 2, 1, 2, 1, 2, 1, 2, 1, 1, 2, 1, 2, 1, 2, 1, 1, 2, 2, 1, 2, 1, 2, 2, 1, 2, 1, 2, 2, 1, 2, 2, 1, 1, 1, 2, 1, 1, 1, 1, 2, 1, 2, 2, 1, 2, 2, 1, 2, 1, 2, 2, 1, 2, 1, 2, 2, 2, 2, 1, 1, 1, 2], \"Freq\": [0.9492406845092773, 0.620118260383606, 0.310059130191803, 0.29711711406707764, 0.5942342281341553, 0.7816373705863953, 0.7159140706062317, 0.7816495299339294, 0.9606201648712158, 1.055114984512329, 0.503822386264801, 0.503822386264801, 0.7816359996795654, 1.0548045635223389, 0.7160592675209045, 0.7671135067939758, 0.3835567533969879, 0.7816712260246277, 0.20701158046722412, 0.8280463218688965, 0.9598509669303894, 0.7160385251045227, 0.887463390827179, 0.7816237211227417, 0.728090226650238, 0.781682014465332, 0.3703884482383728, 0.7407768964767456, 0.37037578225135803, 0.7407515645027161, 0.7816330790519714, 0.24273233115673065, 0.7281969785690308, 1.0550156831741333, 0.95912104845047, 0.370115727186203, 0.740231454372406, 0.781678318977356, 0.7672456502914429, 0.38362282514572144, 0.7816764116287231, 0.7280970215797424, 0.1373952031135559, 0.8243712186813354, 0.26373913884162903, 0.7912173867225647, 0.7816425561904907, 0.7158993482589722, 1.0541045665740967, 0.7280989289283752, 1.0547646284103394, 0.19379490613937378, 0.7751796245574951, 0.6206119656562805, 0.31030598282814026, 0.4306888282299042, 0.4306888282299042, 0.2932519316673279, 0.5865038633346558, 0.7816771268844604, 1.0546320676803589, 0.9605445265769958, 0.20771266520023346, 0.8308506608009338, 0.2932966351509094, 0.5865932703018188, 0.7962963581085205, 0.3699633777141571, 0.7399267554283142, 0.7280851006507874, 0.4871141314506531, 0.9742282629013062, 0.5032932758331299, 0.5032932758331299, 0.7280913591384888, 0.781668484210968, 0.7280960083007812, 1.0547091960906982, 0.9600450992584229, 0.960514485836029, 0.603152334690094, 0.603152334690094, 0.7280957698822021, 0.7816345691680908, 0.7816833853721619, 0.7816712260246277, 0.9599210619926453, 0.7816786766052246, 0.78162682056427, 1.0547658205032349, 0.32992878556251526, 0.6598575711250305, 0.7675480842590332, 0.3837740421295166, 0.9606809020042419, 0.37041303515434265, 0.7408260703086853, 0.9494019746780396, 0.7675905823707581, 0.38379529118537903, 0.5083406567573547, 0.5083406567573547, 0.728096604347229, 0.7970224022865295, 0.2656741142272949, 0.43075406551361084, 0.43075406551361084, 0.9599786996841431, 0.9598337411880493, 0.7158825993537903, 0.7816236019134521, 0.9585561752319336, 0.37034592032432556, 0.7406918406486511], \"Term\": [\"able\", \"algorithm\", \"algorithm\", \"apply\", \"apply\", \"appreciate\", \"aspect\", \"basic\", \"broad\", \"class\", \"clear\", \"clear\", \"cnn\", \"code\", \"complex\", \"concept\", \"concept\", \"consultation\", \"course\", \"course\", \"datum\", \"definitely\", \"different\", \"dos\", \"entail\", \"final\", \"find\", \"find\", \"foundation\", \"foundation\", \"future\", \"give\", \"give\", \"good\", \"help\", \"helpful\", \"helpful\", \"hope\", \"implement\", \"implement\", \"join\", \"knn\", \"learn\", \"learn\", \"learning\", \"learning\", \"lecture\", \"lesson\", \"like\", \"linear\", \"lot\", \"machine\", \"machine\", \"make\", \"make\", \"ml\", \"ml\", \"notebook\", \"notebook\", \"performance\", \"pipeline\", \"probably\", \"problem\", \"problem\", \"process\", \"process\", \"project\", \"properly\", \"properly\", \"rather\", \"real\", \"real\", \"really\", \"really\", \"regression\", \"response\", \"result\", \"see\", \"seem\", \"simple\", \"since\", \"since\", \"solution\", \"someone\", \"something\", \"standard\", \"study\", \"supplement\", \"take\", \"teach\", \"technique\", \"technique\", \"thesis\", \"thesis\", \"thing\", \"think\", \"think\", \"topic\", \"try\", \"try\", \"understand\", \"understand\", \"unsolvable\", \"use\", \"use\", \"useful\", \"useful\", \"valuable\", \"various\", \"well\", \"without\", \"work\", \"would\", \"would\"]}, \"R\": 30, \"lambda.step\": 0.01, \"plot.opts\": {\"xlab\": \"PC1\", \"ylab\": \"PC2\"}, \"topic.order\": [1, 2]};\n",
       "\n",
       "function LDAvis_load_lib(url, callback){\n",
       "  var s = document.createElement('script');\n",
       "  s.src = url;\n",
       "  s.async = true;\n",
       "  s.onreadystatechange = s.onload = callback;\n",
       "  s.onerror = function(){console.warn(\"failed to load library \" + url);};\n",
       "  document.getElementsByTagName(\"head\")[0].appendChild(s);\n",
       "}\n",
       "\n",
       "if(typeof(LDAvis) !== \"undefined\"){\n",
       "   // already loaded: just create the visualization\n",
       "   !function(LDAvis){\n",
       "       new LDAvis(\"#\" + \"ldavis_el1165227288269262806123113135\", ldavis_el1165227288269262806123113135_data);\n",
       "   }(LDAvis);\n",
       "}else if(typeof define === \"function\" && define.amd){\n",
       "   // require.js is available: use it to load d3/LDAvis\n",
       "   require.config({paths: {d3: \"https://cdnjs.cloudflare.com/ajax/libs/d3/3.5.5/d3.min\"}});\n",
       "   require([\"d3\"], function(d3){\n",
       "      window.d3 = d3;\n",
       "      LDAvis_load_lib(\"https://cdn.rawgit.com/bmabey/pyLDAvis/files/ldavis.v1.0.0.js\", function(){\n",
       "        new LDAvis(\"#\" + \"ldavis_el1165227288269262806123113135\", ldavis_el1165227288269262806123113135_data);\n",
       "      });\n",
       "    });\n",
       "}else{\n",
       "    // require.js not available: dynamically load d3 & LDAvis\n",
       "    LDAvis_load_lib(\"https://cdnjs.cloudflare.com/ajax/libs/d3/3.5.5/d3.min.js\", function(){\n",
       "         LDAvis_load_lib(\"https://cdn.rawgit.com/bmabey/pyLDAvis/files/ldavis.v1.0.0.js\", function(){\n",
       "                 new LDAvis(\"#\" + \"ldavis_el1165227288269262806123113135\", ldavis_el1165227288269262806123113135_data);\n",
       "            })\n",
       "         });\n",
       "}\n",
       "</script>"
      ],
      "text/plain": [
       "PreparedData(topic_coordinates=               x           y  topics  cluster       Freq\n",
       "topic                                                   \n",
       "0     -60.312317  141.369629       1        1  39.603897\n",
       "1      60.312561 -141.369141       2        1  60.396099, topic_info=           Term      Freq     Total Category  logprob  loglift\n",
       "91          use  3.000000  3.000000  Default  30.0000  30.0000\n",
       "135        help  3.000000  3.000000  Default  29.0000  29.0000\n",
       "35         work  3.000000  3.000000  Default  28.0000  28.0000\n",
       "1     different  5.000000  5.000000  Default  27.0000  27.0000\n",
       "116     project  2.000000  2.000000  Default  26.0000  26.0000\n",
       "..          ...       ...       ...      ...      ...      ...\n",
       "33   understand  1.793505  3.934370   Topic2  -4.8060  -0.2813\n",
       "70   foundation  1.776192  2.699960   Topic2  -4.8157   0.0855\n",
       "68         find  1.775498  2.699868   Topic2  -4.8161   0.0851\n",
       "50        since  1.775408  3.315912   Topic2  -4.8161  -0.1205\n",
       "87        think  1.774148  2.699689   Topic2  -4.8168   0.0844\n",
       "\n",
       "[124 rows x 6 columns], token_table=      Topic      Freq       Term\n",
       "term                            \n",
       "44        2  0.949241       able\n",
       "19        1  0.620118  algorithm\n",
       "19        2  0.310059  algorithm\n",
       "56        1  0.297117      apply\n",
       "56        2  0.594234      apply\n",
       "...     ...       ...        ...\n",
       "90        2  0.715883       well\n",
       "138       1  0.781624    without\n",
       "35        1  0.958556       work\n",
       "53        1  0.370346      would\n",
       "53        2  0.740692      would\n",
       "\n",
       "[114 rows x 3 columns], R=30, lambda_step=0.01, plot_opts={'xlab': 'PC1', 'ylab': 'PC2'}, topic_order=[1, 2])"
      ]
     },
     "metadata": {},
     "output_type": "display_data"
    }
   ],
   "source": [
    "optimal_k = 2\n",
    "lda_model = build_optimal_lda(optimal_k, comments_tokenized, id2word, bow)"
   ]
  },
  {
   "cell_type": "code",
   "execution_count": 50,
   "metadata": {},
   "outputs": [
    {
     "name": "stdout",
     "output_type": "stream",
     "text": [
      "\n",
      "----------\n",
      "TOPIC 1.0\n",
      "Keywords: ['use, help, work, learn, machine, technique, project, useful, make, ml']\n",
      "\n",
      "Text 14: The lectures with coding examples helped a lot with seeing how to actually apply the techniques. It was also a good experience to be forced to try and implement the techniques without help from libraries to understand how they work and appreciate them even more. \n",
      "Text 2: It was really helpful to dive into the objective and methodology of each of the ML Algorithms you taught as it made understanding each algorithm easier - sans the mathematics although thats not the fault of the syllabus itself.\n",
      "Text 15: I think that the final project consultations helped me the most since I joined the class in hopes of working on something to use in my thesis, which I did get to do.\n",
      "Text 20: I feel like discussing the concepts first before asking us to code them were very useful in understanding how to implement the machine learning algorithm properly.\n",
      "Text 9: What I found most useful is the concept of gradient descent. It made my perspective of AI clearer since its the foundation  of machine learning\n",
      "\n",
      "----------\n",
      "TOPIC 2.0\n",
      "Keywords: ['learn, machine, learning, different, course, able, technique, topic, problem, give']\n",
      "\n",
      "Text 7: I think the most valuable aspect of the course was that it was able to cement a solid foundation of machine learning. Given how big the field is and how we're moving ever-closer to applying machine learning in many different fields, I think the foundations given by the course will definitely be useful and will be a huge skill set in my professional career. Another thing I found very valuable as well was that the course was able to give importance to machine learning and explain different machine learning concepts that seem very daunting and complicated at first. And although this was only an introductory course, the topics and lessons I learned over the term was definitely plenty and has further piqued my interest in the topic.\n",
      "Text 13: The most useful lesson that I have learned in this course is the high level understanding of the ml techniques, with how the technologies is progressing, it is important to learn the different trends. I was also able to learn the algorithm behind different ml techniques which made machine learning seem less intimidating.\n",
      "Text 18: For me, it was learning the different aspects of machine learning, that it is not a broad topic but rather a complex topic that entails various solutions to various problems ranging from simple problems to complex and even unsolvable problems.\n",
      "Text 11: The collab notebooks served as very useful learning and study material. I also found the exercises to encourage students to self study and try to understand the lessons better.\n",
      "Text 5: Learning how to do proper machine learning techniques since this would be helpful for our thesis. Learned how to properly pre-process data to be able to properly classify the data\n"
     ]
    }
   ],
   "source": [
    "df_representative_comments = get_most_representative_documents(comments, comments_tokenized, lda_model, bow)"
   ]
  },
  {
   "cell_type": "markdown",
   "metadata": {},
   "source": [
    "#### Wishlist"
   ]
  },
  {
   "cell_type": "code",
   "execution_count": 51,
   "metadata": {},
   "outputs": [],
   "source": [
    "comments = df_comments['wishlist'].dropna().reset_index(drop=True)\n",
    "comments_cleaned = clean_and_normalize_text(comments)\n",
    "comments_tokenized, id2word, bow = tokenize(comments_cleaned)"
   ]
  },
  {
   "cell_type": "code",
   "execution_count": 52,
   "metadata": {},
   "outputs": [
    {
     "name": "stderr",
     "output_type": "stream",
     "text": [
      "100%|████████████████████████████████████████████████████████████████████████████████████| 8/8 [02:15<00:00, 16.88s/it]\n"
     ]
    },
    {
     "data": {
      "text/html": [
       "<div>\n",
       "<style scoped>\n",
       "    .dataframe tbody tr th:only-of-type {\n",
       "        vertical-align: middle;\n",
       "    }\n",
       "\n",
       "    .dataframe tbody tr th {\n",
       "        vertical-align: top;\n",
       "    }\n",
       "\n",
       "    .dataframe thead th {\n",
       "        text-align: right;\n",
       "    }\n",
       "</style>\n",
       "<table border=\"1\" class=\"dataframe\">\n",
       "  <thead>\n",
       "    <tr style=\"text-align: right;\">\n",
       "      <th></th>\n",
       "      <th>n_topics</th>\n",
       "      <th>score</th>\n",
       "    </tr>\n",
       "  </thead>\n",
       "  <tbody>\n",
       "    <tr>\n",
       "      <th>0</th>\n",
       "      <td>2.0</td>\n",
       "      <td>0.396922</td>\n",
       "    </tr>\n",
       "    <tr>\n",
       "      <th>1</th>\n",
       "      <td>3.0</td>\n",
       "      <td>0.393300</td>\n",
       "    </tr>\n",
       "    <tr>\n",
       "      <th>2</th>\n",
       "      <td>4.0</td>\n",
       "      <td>0.434892</td>\n",
       "    </tr>\n",
       "    <tr>\n",
       "      <th>3</th>\n",
       "      <td>5.0</td>\n",
       "      <td>0.388644</td>\n",
       "    </tr>\n",
       "    <tr>\n",
       "      <th>4</th>\n",
       "      <td>6.0</td>\n",
       "      <td>0.400181</td>\n",
       "    </tr>\n",
       "    <tr>\n",
       "      <th>5</th>\n",
       "      <td>7.0</td>\n",
       "      <td>0.400535</td>\n",
       "    </tr>\n",
       "    <tr>\n",
       "      <th>6</th>\n",
       "      <td>8.0</td>\n",
       "      <td>0.492626</td>\n",
       "    </tr>\n",
       "    <tr>\n",
       "      <th>7</th>\n",
       "      <td>9.0</td>\n",
       "      <td>0.470522</td>\n",
       "    </tr>\n",
       "  </tbody>\n",
       "</table>\n",
       "</div>"
      ],
      "text/plain": [
       "   n_topics     score\n",
       "0       2.0  0.396922\n",
       "1       3.0  0.393300\n",
       "2       4.0  0.434892\n",
       "3       5.0  0.388644\n",
       "4       6.0  0.400181\n",
       "5       7.0  0.400535\n",
       "6       8.0  0.492626\n",
       "7       9.0  0.470522"
      ]
     },
     "execution_count": 52,
     "metadata": {},
     "output_type": "execute_result"
    }
   ],
   "source": [
    "df_lda_clusters = find_k(comments_tokenized, id2word, bow)\n",
    "df_lda_clusters"
   ]
  },
  {
   "cell_type": "code",
   "execution_count": 53,
   "metadata": {},
   "outputs": [
    {
     "data": {
      "image/png": "[encoded data removed]",
      "text/plain": [
       "<Figure size 800x400 with 1 Axes>"
      ]
     },
     "metadata": {},
     "output_type": "display_data"
    }
   ],
   "source": [
    "plot_coherence(df_lda_clusters)"
   ]
  },
  {
   "cell_type": "markdown",
   "metadata": {},
   "source": [
    "Based on the plot above, we choose `n_topics = 4` as we got a noticeable increase in coherence score while not having a high cluster count."
   ]
  },
  {
   "cell_type": "code",
   "execution_count": 54,
   "metadata": {},
   "outputs": [
    {
     "name": "stdout",
     "output_type": "stream",
     "text": [
      "Coherence Score: 0.43489223700462276\n"
     ]
    },
    {
     "data": {
      "text/html": [
       "\n",
       "<link rel=\"stylesheet\" type=\"text/css\" href=\"https://cdn.rawgit.com/bmabey/pyLDAvis/files/ldavis.v1.0.0.css\">\n",
       "\n",
       "\n",
       "<div id=\"ldavis_el1165227288251053525757598678\"></div>\n",
       "<script type=\"text/javascript\">\n",
       "\n",
       "var ldavis_el1165227288251053525757598678_data = {\"mdsDat\": {\"x\": [269.5624084472656, 1.782994270324707, 220.81143188476562, 50.533992767333984], \"y\": [-124.80339813232422, -295.0796813964844, -343.8321228027344, -76.05093383789062], \"topics\": [1, 2, 3, 4], \"cluster\": [1, 1, 1, 1], \"Freq\": [35.5201530456543, 23.45337677001953, 20.375831604003906, 20.6506404876709]}, \"tinfo\": {\"Term\": [\"know\", \"maybe\", \"code\", \"term\", \"could\", \"enough\", \"exercise\", \"able\", \"kaggle\", \"practice\", \"slide\", \"wish\", \"concept\", \"good\", \"learning\", \"give\", \"use\", \"explanation\", \"student\", \"knn\", \"implement\", \"well\", \"facetoface\", \"think\", \"rundown\", \"kahoot\", \"help\", \"beginning\", \"apply\", \"course\", \"maybe\", \"learning\", \"give\", \"explanation\", \"scheme\", \"grade\", \"application\", \"machine\", \"probably\", \"formula\", \"difference\", \"brief\", \"vs\", \"ex\", \"overview\", \"lenient\", \"jupyter\", \"rapidminer\", \"unfamiliar\", \"fairly\", \"curve\", \"weka\", \"feel\", \"sometimes\", \"clearlenient\", \"high\", \"sure\", \"deduction\", \"possible\", \"guess\", \"notebook\", \"class\", \"technique\", \"use\", \"would\", \"lesson\", \"well\", \"wish\", \"concept\", \"student\", \"activity\", \"time\", \"like\", \"ml\", \"subject\", \"term\", \"could\", \"slide\", \"project\", \"online\", \"example\", \"look\", \"standard\", \"acquaint\", \"contrast\", \"available\", \"quality\", \"say\", \"gradually\", \"slightly\", \"many\", \"pacing\", \"notebookproject\", \"confusing\", \"present\", \"within\", \"hasten\", \"organization\", \"interactive\", \"material\", \"statistic\", \"derivative\", \"optional\", \"head\", \"previous\", \"good\", \"course\", \"like\", \"would\", \"well\", \"class\", \"activity\", \"notebook\", \"think\", \"concept\", \"start\", \"rundown\", \"beginning\", \"slow\", \"ml\", \"know\", \"enough\", \"definitely\", \"none\", \"actually\", \"cause\", \"small\", \"need\", \"much\", \"clear\", \"follow\", \"solve\", \"keep\", \"meeting\", \"ungraded\", \"every\", \"function\", \"manually\", \"big\", \"preface\", \"tailor\", \"learn\", \"enforce\", \"gauge\", \"quiz\", \"rather\", \"yet\", \"engaged\", \"mini\", \"ask\", \"kaggle\", \"well\", \"student\", \"like\", \"use\", \"lesson\", \"name\", \"would\", \"facetoface\", \"implement\", \"code\", \"concept\", \"good\", \"think\", \"apply\", \"activity\", \"exercise\", \"able\", \"code\", \"library\", \"really\", \"also\", \"hehe\", \"early\", \"explore\", \"louder\", \"mic\", \"timeslot\", \"advanced\", \"quick\", \"pipeline\", \"discussion\", \"summary\", \"case\", \"absorb\", \"seatwork\", \"connect\", \"actual\", \"bridge\", \"hard\", \"begin\", \"easy\", \"practice\", \"wish\", \"concept\", \"knn\", \"activity\", \"lesson\", \"help\", \"apply\", \"technique\", \"kaggle\", \"like\", \"well\", \"kahoot\", \"rundown\"], \"Freq\": [2.0, 4.0, 2.0, 2.0, 2.0, 1.0, 1.0, 1.0, 2.0, 2.0, 1.0, 2.0, 4.0, 2.0, 2.0, 2.0, 4.0, 2.0, 3.0, 1.0, 1.0, 5.0, 1.0, 1.0, 1.0, 1.0, 1.0, 1.0, 2.0, 3.0, 3.6505751609802246, 2.2630741596221924, 2.253110647201538, 2.2060983180999756, 1.569891333580017, 1.5698764324188232, 1.569801926612854, 1.5620465278625488, 1.561544418334961, 1.5325028896331787, 0.8721721768379211, 0.8721681833267212, 0.8721669912338257, 0.8721652030944824, 0.8721652030944824, 0.8721631765365601, 0.8721608519554138, 0.8721601963043213, 0.872158408164978, 0.8721573948860168, 0.8721538782119751, 0.8721519112586975, 0.8721494078636169, 0.8721442818641663, 0.872134268283844, 0.872127115726471, 0.8721243739128113, 0.8721200227737427, 0.8721163868904114, 0.8720987439155579, 1.5682759284973145, 1.5671205520629883, 1.5201938152313232, 2.2548916339874268, 2.2349066734313965, 1.524427056312561, 1.5021464824676514, 0.8778043389320374, 0.8801248073577881, 0.8753061294555664, 0.8745778799057007, 0.8733383417129517, 0.8732295632362366, 0.8721710443496704, 0.8721699118614197, 1.9475384950637817, 1.9457261562347412, 1.348304271697998, 0.7490732669830322, 0.7490721344947815, 0.7490711808204651, 0.7490711212158203, 0.7490710020065308, 0.7490708827972412, 0.7490707039833069, 0.749068558216095, 0.7490679621696472, 0.7490676641464233, 0.749067485332489, 0.7490631341934204, 0.7490618228912354, 0.7490618824958801, 0.7490615248680115, 0.7490556836128235, 0.7490546107292175, 0.7490534782409668, 0.7490501403808594, 0.7490373849868774, 0.7490127086639404, 0.7469395995140076, 0.7468910813331604, 0.7468725442886353, 0.7466645240783691, 0.7465403079986572, 0.7463811635971069, 1.3486485481262207, 1.3485002517700195, 1.350598931312561, 1.3486011028289795, 1.348854660987854, 0.7514360547065735, 0.750757098197937, 0.750479519367218, 0.7493396997451782, 0.7492358684539795, 0.7491569519042969, 0.7491507530212402, 0.7490794062614441, 0.7490789890289307, 0.7490782141685486, 1.8201984167099, 1.2602179050445557, 0.7021621465682983, 0.7019131183624268, 0.7006504535675049, 0.700567901134491, 0.7005380392074585, 0.7005153298377991, 0.7005174160003662, 0.7004585266113281, 0.7004477977752686, 0.700384795665741, 0.700379490852356, 0.7003453969955444, 0.7003527879714966, 0.700317919254303, 0.7002836465835571, 0.7002832293510437, 0.7002783417701721, 0.7002396583557129, 0.7001895904541016, 0.7001718878746033, 0.7001327276229858, 0.7001324892044067, 0.7000784873962402, 0.7000653743743896, 0.69999098777771, 0.6999668478965759, 0.6998041868209839, 0.6993570923805237, 1.2598642110824585, 1.8796977996826172, 1.2593668699264526, 1.2596491575241089, 1.2741174697875977, 1.3046972751617432, 0.7364804744720459, 0.7293848991394043, 0.7021775245666504, 0.7009649872779846, 0.7008450031280518, 0.700644850730896, 0.7006420493125916, 0.7005054950714111, 0.7004300951957703, 0.7003944516181946, 1.2768146991729736, 1.274436593055725, 1.839913010597229, 0.7106521129608154, 0.710648775100708, 0.7106479406356812, 0.7106438279151917, 0.7106419205665588, 0.7106380462646484, 0.7106370329856873, 0.7106342911720276, 0.7106310725212097, 0.7106266021728516, 0.7106263637542725, 0.7106240391731262, 0.7106086611747742, 0.7105885148048401, 0.7079521417617798, 0.7079383134841919, 0.7079164385795593, 0.7079060673713684, 0.7078704833984375, 0.7077728509902954, 0.7077659368515015, 0.7076585292816162, 0.7075819969177246, 1.2808449268341064, 1.2737122774124146, 1.8428057432174683, 0.7094883322715759, 1.2775789499282837, 1.2774626016616821, 0.7126426100730896, 0.7131864428520203, 0.7134740948677063, 0.7123246192932129, 0.7121627926826477, 0.7109650373458862, 0.7106817364692688, 0.7105683088302612], \"Total\": [2.0, 4.0, 2.0, 2.0, 2.0, 1.0, 1.0, 1.0, 2.0, 2.0, 1.0, 2.0, 4.0, 2.0, 2.0, 2.0, 4.0, 2.0, 3.0, 1.0, 1.0, 5.0, 1.0, 1.0, 1.0, 1.0, 1.0, 1.0, 2.0, 3.0, 4.093283653259277, 2.6992366313934326, 2.6973071098327637, 2.6881728172302246, 2.0023481845855713, 2.002345323562622, 2.0023326873779297, 2.0008385181427, 2.000812530517578, 1.995091199874878, 1.3045928478240967, 1.304592251777649, 1.3045921325683594, 1.3045916557312012, 1.3045918941497803, 1.3045912981033325, 1.3045909404754639, 1.3045907020568848, 1.3045905828475952, 1.304590106010437, 1.3045896291732788, 1.3045892715454102, 1.3045889139175415, 1.304587960243225, 1.3045861721038818, 1.3045849800109863, 1.30458402633667, 1.3045836687088013, 1.3045824766159058, 1.3045798540115356, 2.601386070251465, 2.6012208461761475, 2.5612499713897705, 4.389795780181885, 5.022615432739258, 4.853281021118164, 5.441664218902588, 2.442732810974121, 4.172811508178711, 3.0279808044433594, 3.6033082008361816, 1.873410940170288, 4.195640563964844, 1.9038589000701904, 1.9036576747894287, 2.404670476913452, 2.4045791625976562, 1.8053951263427734, 1.2061160802841187, 1.2061158418655396, 1.206115961074829, 1.2061158418655396, 1.2061158418655396, 1.20611572265625, 1.2061160802841187, 1.2061160802841187, 1.206115961074829, 1.20611572265625, 1.2061164379119873, 1.2061161994934082, 1.2061158418655396, 1.2061161994934082, 1.2061158418655396, 1.2061166763305664, 1.20611572265625, 1.2061172723770142, 1.2061164379119873, 1.2061160802841187, 1.206116795539856, 1.2060065269470215, 1.2060033082962036, 1.2060027122497559, 1.2059911489486694, 1.205985426902771, 1.2059770822525024, 2.936655044555664, 3.069197177886963, 4.195640563964844, 5.022615432739258, 5.441664218902588, 2.6012208461761475, 3.6033082008361816, 2.601386070251465, 1.768086552619934, 4.172811508178711, 1.8996665477752686, 1.7746719121932983, 1.775230884552002, 1.9038571119308472, 1.9038589000701904, 2.2928826808929443, 1.7309471368789673, 1.1686495542526245, 1.1686677932739258, 1.1688323020935059, 1.1688700914382935, 1.1688579320907593, 1.1688514947891235, 1.1688802242279053, 1.1688873767852783, 1.168907642364502, 1.1688963174819946, 1.1688992977142334, 1.168861985206604, 1.1688919067382812, 1.168894648551941, 1.168856143951416, 1.1688920259475708, 1.168892502784729, 1.1689224243164062, 1.1688734292984009, 1.1689062118530273, 1.1689053773880005, 1.1689269542694092, 1.1689236164093018, 1.1689083576202393, 1.168900489807129, 1.1689636707305908, 1.16901695728302, 1.1690183877944946, 2.2995333671569824, 5.441664218902588, 3.0279808044433594, 4.195640563964844, 4.389795780181885, 4.853281021118164, 1.8578124046325684, 5.022615432739258, 1.7679169178009033, 1.737927794456482, 2.8763785362243652, 4.172811508178711, 2.936655044555664, 1.768086552619934, 2.337070941925049, 3.6033082008361816, 1.7444208860397339, 1.7448673248291016, 2.8763785362243652, 1.175398588180542, 1.1753997802734375, 1.175399661064148, 1.1753991842269897, 1.1754002571105957, 1.175400972366333, 1.175400972366333, 1.1754003763198853, 1.175400972366333, 1.175402283668518, 1.1754021644592285, 1.1754015684127808, 1.1754021644592285, 1.1754035949707031, 1.1759064197540283, 1.1759225130081177, 1.1759368181228638, 1.1759288311004639, 1.175950050354004, 1.1759485006332397, 1.175957441329956, 1.1759681701660156, 1.1759979724884033, 2.3434853553771973, 2.442732810974121, 4.172811508178711, 1.7378997802734375, 3.6033082008361816, 4.853281021118164, 1.774860143661499, 2.337070941925049, 2.5612499713897705, 2.2995333671569824, 4.195640563964844, 5.441664218902588, 1.7746670246124268, 1.7746719121932983], \"Category\": [\"Default\", \"Default\", \"Default\", \"Default\", \"Default\", \"Default\", \"Default\", \"Default\", \"Default\", \"Default\", \"Default\", \"Default\", \"Default\", \"Default\", \"Default\", \"Default\", \"Default\", \"Default\", \"Default\", \"Default\", \"Default\", \"Default\", \"Default\", \"Default\", \"Default\", \"Default\", \"Default\", \"Default\", \"Default\", \"Default\", \"Topic1\", \"Topic1\", \"Topic1\", \"Topic1\", \"Topic1\", \"Topic1\", \"Topic1\", \"Topic1\", \"Topic1\", \"Topic1\", \"Topic1\", \"Topic1\", \"Topic1\", \"Topic1\", \"Topic1\", \"Topic1\", \"Topic1\", \"Topic1\", \"Topic1\", \"Topic1\", \"Topic1\", \"Topic1\", \"Topic1\", \"Topic1\", \"Topic1\", \"Topic1\", \"Topic1\", \"Topic1\", \"Topic1\", \"Topic1\", \"Topic1\", \"Topic1\", \"Topic1\", \"Topic1\", \"Topic1\", \"Topic1\", \"Topic1\", \"Topic1\", \"Topic1\", \"Topic1\", \"Topic1\", \"Topic1\", \"Topic1\", \"Topic1\", \"Topic1\", \"Topic2\", \"Topic2\", \"Topic2\", \"Topic2\", \"Topic2\", \"Topic2\", \"Topic2\", \"Topic2\", \"Topic2\", \"Topic2\", \"Topic2\", \"Topic2\", \"Topic2\", \"Topic2\", \"Topic2\", \"Topic2\", \"Topic2\", \"Topic2\", \"Topic2\", \"Topic2\", \"Topic2\", \"Topic2\", \"Topic2\", \"Topic2\", \"Topic2\", \"Topic2\", \"Topic2\", \"Topic2\", \"Topic2\", \"Topic2\", \"Topic2\", \"Topic2\", \"Topic2\", \"Topic2\", \"Topic2\", \"Topic2\", \"Topic2\", \"Topic2\", \"Topic2\", \"Topic2\", \"Topic2\", \"Topic2\", \"Topic2\", \"Topic2\", \"Topic2\", \"Topic3\", \"Topic3\", \"Topic3\", \"Topic3\", \"Topic3\", \"Topic3\", \"Topic3\", \"Topic3\", \"Topic3\", \"Topic3\", \"Topic3\", \"Topic3\", \"Topic3\", \"Topic3\", \"Topic3\", \"Topic3\", \"Topic3\", \"Topic3\", \"Topic3\", \"Topic3\", \"Topic3\", \"Topic3\", \"Topic3\", \"Topic3\", \"Topic3\", \"Topic3\", \"Topic3\", \"Topic3\", \"Topic3\", \"Topic3\", \"Topic3\", \"Topic3\", \"Topic3\", \"Topic3\", \"Topic3\", \"Topic3\", \"Topic3\", \"Topic3\", \"Topic3\", \"Topic3\", \"Topic3\", \"Topic3\", \"Topic3\", \"Topic3\", \"Topic3\", \"Topic3\", \"Topic4\", \"Topic4\", \"Topic4\", \"Topic4\", \"Topic4\", \"Topic4\", \"Topic4\", \"Topic4\", \"Topic4\", \"Topic4\", \"Topic4\", \"Topic4\", \"Topic4\", \"Topic4\", \"Topic4\", \"Topic4\", \"Topic4\", \"Topic4\", \"Topic4\", \"Topic4\", \"Topic4\", \"Topic4\", \"Topic4\", \"Topic4\", \"Topic4\", \"Topic4\", \"Topic4\", \"Topic4\", \"Topic4\", \"Topic4\", \"Topic4\", \"Topic4\", \"Topic4\", \"Topic4\", \"Topic4\", \"Topic4\", \"Topic4\", \"Topic4\", \"Topic4\", \"Topic4\"], \"logprob\": [30.0, 29.0, 28.0, 27.0, 26.0, 25.0, 24.0, 23.0, 22.0, 21.0, 20.0, 19.0, 18.0, 17.0, 16.0, 15.0, 14.0, 13.0, 12.0, 11.0, 10.0, 9.0, 8.0, 7.0, 6.0, 5.0, 4.0, 3.0, 2.0, 1.0, -3.3083999156951904, -3.786600112915039, -3.7909998893737793, -3.8120999336242676, -4.152299880981445, -4.152299880981445, -4.152299880981445, -4.157299995422363, -4.157599925994873, -4.176400184631348, -4.740099906921387, -4.740099906921387, -4.740099906921387, -4.740099906921387, -4.740099906921387, -4.740099906921387, -4.740099906921387, -4.740099906921387, -4.740099906921387, -4.740099906921387, -4.740099906921387, -4.740099906921387, -4.740099906921387, -4.740099906921387, -4.740099906921387, -4.740099906921387, -4.740099906921387, -4.740099906921387, -4.740099906921387, -4.740099906921387, -4.153299808502197, -4.1539998054504395, -4.1844000816345215, -3.7901999950408936, -3.799099922180176, -4.181700229644775, -4.196400165557861, -4.73360013961792, -4.730999946594238, -4.736499786376953, -4.737299919128418, -4.738699913024902, -4.738800048828125, -4.740099906921387, -4.740099906921387, -3.5216000080108643, -3.522599935531616, -3.889400005340576, -4.477099895477295, -4.477099895477295, -4.477099895477295, -4.477099895477295, -4.477099895477295, -4.477099895477295, -4.477099895477295, -4.477099895477295, -4.477099895477295, -4.477099895477295, -4.477099895477295, -4.477099895477295, -4.477099895477295, -4.477099895477295, -4.477099895477295, -4.477099895477295, -4.477099895477295, -4.477099895477295, -4.477099895477295, -4.477200031280518, -4.477200031280518, -4.480000019073486, -4.480000019073486, -4.480100154876709, -4.480299949645996, -4.480500221252441, -4.4807000160217285, -3.8891000747680664, -3.88919997215271, -3.887700080871582, -3.8891000747680664, -3.8889000415802, -4.473999977111816, -4.474899768829346, -4.475200176239014, -4.476799964904785, -4.476900100708008, -4.4770002365112305, -4.4770002365112305, -4.477099895477295, -4.477099895477295, -4.477099895477295, -3.4486000537872314, -3.816200017929077, -4.401100158691406, -4.401500225067139, -4.403299808502197, -4.40339994430542, -4.40339994430542, -4.403500080108643, -4.403500080108643, -4.403600215911865, -4.403600215911865, -4.40369987487793, -4.40369987487793, -4.40369987487793, -4.40369987487793, -4.403800010681152, -4.403800010681152, -4.403800010681152, -4.403800010681152, -4.403900146484375, -4.403900146484375, -4.4039998054504395, -4.4039998054504395, -4.4039998054504395, -4.404099941253662, -4.404099941253662, -4.404200077056885, -4.404300212860107, -4.4045000076293945, -4.405099868774414, -3.816499948501587, -3.4163999557495117, -3.8169000148773193, -3.816699981689453, -3.805299997329712, -3.781599998474121, -4.353400230407715, -4.363100051879883, -4.401100158691406, -4.4028000831604, -4.4029998779296875, -4.403299808502197, -4.403299808502197, -4.403500080108643, -4.403600215911865, -4.403600215911865, -3.8166000843048096, -3.8183999061584473, -3.451200008392334, -4.402500152587891, -4.402500152587891, -4.402500152587891, -4.402500152587891, -4.402500152587891, -4.402500152587891, -4.402500152587891, -4.402500152587891, -4.402500152587891, -4.402500152587891, -4.402500152587891, -4.402500152587891, -4.402599811553955, -4.402599811553955, -4.406300067901611, -4.406300067901611, -4.406400203704834, -4.406400203704834, -4.406400203704834, -4.406599998474121, -4.406599998474121, -4.406700134277344, -4.406799793243408, -3.8134000301361084, -3.819000005722046, -3.4495999813079834, -4.404099941253662, -3.815999984741211, -3.8160998821258545, -4.399700164794922, -4.398900032043457, -4.398499965667725, -4.400199890136719, -4.400400161743164, -4.402100086212158, -4.402500152587891, -4.402599811553955], \"loglift\": [30.0, 29.0, 28.0, 27.0, 26.0, 25.0, 24.0, 23.0, 22.0, 21.0, 20.0, 19.0, 18.0, 17.0, 16.0, 15.0, 14.0, 13.0, 12.0, 11.0, 10.0, 9.0, 8.0, 7.0, 6.0, 5.0, 4.0, 3.0, 2.0, 1.0, 0.9205999970436096, 0.8587999939918518, 0.8550999760627747, 0.8374000191688538, 0.7918000221252441, 0.791700005531311, 0.791700005531311, 0.7875000238418579, 0.7871999740600586, 0.7713000178337097, 0.6323999762535095, 0.6323999762535095, 0.6323999762535095, 0.6323999762535095, 0.6323999762535095, 0.6323999762535095, 0.6323999762535095, 0.6323999762535095, 0.6323999762535095, 0.6323999762535095, 0.6323999762535095, 0.6323999762535095, 0.6323999762535095, 0.6323999762535095, 0.6323999762535095, 0.6323999762535095, 0.6323999762535095, 0.6323999762535095, 0.6323999762535095, 0.6323000192642212, 0.5289999842643738, 0.5282999873161316, 0.5134000182151794, 0.36890000104904175, 0.22529999911785126, -0.12300000339746475, -0.25209999084472656, 0.011599999852478504, -0.5212000012397766, -0.20600000023841858, -0.3808000087738037, 0.2718999981880188, -0.534500002861023, 0.25440001487731934, 0.25450000166893005, 1.239300012588501, 1.2383999824523926, 1.1582000255584717, 0.973800003528595, 0.973800003528595, 0.973800003528595, 0.973800003528595, 0.973800003528595, 0.973800003528595, 0.973800003528595, 0.973800003528595, 0.973800003528595, 0.973800003528595, 0.973800003528595, 0.973800003528595, 0.973800003528595, 0.973800003528595, 0.973800003528595, 0.973800003528595, 0.973800003528595, 0.973800003528595, 0.973800003528595, 0.973800003528595, 0.973800003528595, 0.9710999727249146, 0.9710000157356262, 0.9710000157356262, 0.9707000255584717, 0.9706000089645386, 0.970300018787384, 0.671999990940094, 0.6276999711990356, 0.3167000114917755, 0.13529999554157257, 0.05530000105500221, 0.20839999616146088, -0.11840000003576279, 0.2071000039577484, 0.59170001745224, -0.2671000063419342, 0.5196999907493591, 0.5877000093460083, 0.5873000025749207, 0.5174000263214111, 0.5174000263214111, 1.3600000143051147, 1.2733999490737915, 1.0814000368118286, 1.0809999704360962, 1.0791000127792358, 1.0788999795913696, 1.0788999795913696, 1.0788999795913696, 1.0787999629974365, 1.0786999464035034, 1.0786999464035034, 1.0786000490188599, 1.0786000490188599, 1.0786000490188599, 1.0786000490188599, 1.0785000324249268, 1.0785000324249268, 1.0785000324249268, 1.0785000324249268, 1.0784000158309937, 1.0784000158309937, 1.0782999992370605, 1.0782999992370605, 1.0781999826431274, 1.0781999826431274, 1.0781999826431274, 1.0780999660491943, 1.0779999494552612, 1.0777000188827515, 1.0771000385284424, 0.9890999794006348, 0.5278000235557556, 0.7135000228881836, 0.38760000467300415, 0.3537999987602234, 0.27709999680519104, 0.6654999852180481, -0.33869999647140503, 0.6674000024795532, 0.6827999949455261, 0.17880000174045563, -0.19349999725818634, 0.15780000388622284, 0.6650000214576721, 0.38589999079704285, -0.0471000000834465, 1.2654000520706177, 1.263200044631958, 1.1305999755859375, 1.0742000341415405, 1.0742000341415405, 1.0742000341415405, 1.0742000341415405, 1.0742000341415405, 1.0742000341415405, 1.0742000341415405, 1.0742000341415405, 1.0742000341415405, 1.0742000341415405, 1.0742000341415405, 1.0742000341415405, 1.0742000341415405, 1.0742000341415405, 1.0700000524520874, 1.0700000524520874, 1.0699000358581543, 1.0699000358581543, 1.0699000358581543, 1.069700002670288, 1.069700002670288, 1.0694999694824219, 1.0693999528884888, 0.9732999801635742, 0.9261999726295471, 0.7601000070571899, 0.6815000176429749, 0.5404999852180481, 0.2425999939441681, 0.664900004863739, 0.390500009059906, 0.2992999851703644, 0.40549999475479126, -0.19609999656677246, -0.4578000009059906, 0.6622999906539917, 0.6621000170707703]}, \"token.table\": {\"Topic\": [4, 4, 2, 1, 2, 3, 4, 4, 3, 4, 4, 1, 2, 3, 4, 3, 2, 4, 2, 4, 3, 4, 1, 4, 3, 1, 2, 3, 1, 3, 4, 1, 2, 3, 4, 2, 4, 2, 2, 1, 2, 4, 1, 1, 3, 2, 1, 4, 4, 4, 3, 3, 3, 3, 1, 2, 4, 1, 4, 2, 3, 1, 1, 3, 1, 3, 3, 1, 2, 3, 4, 1, 2, 1, 4, 2, 2, 4, 2, 4, 1, 3, 4, 2, 1, 3, 4, 2, 4, 3, 3, 4, 3, 3, 1, 1, 1, 2, 3, 4, 4, 1, 2, 3, 4, 2, 4, 1, 3, 2, 2, 1, 3, 4, 3, 1, 2, 3, 1, 3, 3, 3, 1, 2, 2, 2, 2, 2, 1, 2, 4, 1, 2, 4, 3, 2, 2, 1, 2, 2, 4, 3, 1, 3, 4, 2, 4, 2, 1, 4, 2, 2, 1, 2, 3, 3, 1, 2, 1, 2, 2, 1, 2, 3, 1, 2, 4, 1, 3, 1, 4, 2, 2, 3, 1, 4, 4, 1, 3, 1, 3, 4, 1, 1, 1, 2, 3, 4, 1, 4, 2, 1, 2, 3, 4, 3], \"Freq\": [0.5731094479560852, 0.8503961563110352, 0.8291078209877014, 0.2775227427482605, 0.2775227427482605, 0.2775227427482605, 0.2775227427482605, 0.8503762483596802, 0.8555546998977661, 0.8507725596427917, 0.8507744669914246, 0.998835027217865, 0.427886039018631, 0.427886039018631, 0.427886039018631, 0.8554185628890991, 0.8291075825691223, 0.8503631353378296, 0.563306987285614, 0.563306987285614, 0.8555106520652771, 0.8503773808479309, 0.766523003578186, 0.8504077792167664, 0.8555270433425903, 0.7688697576522827, 0.38443487882614136, 0.855514407157898, 0.7665265798568726, 0.3476593792438507, 0.6953187584877014, 0.23964658379554749, 0.23964658379554749, 0.23964658379554749, 0.47929316759109497, 0.8291071653366089, 0.8503916263580322, 0.8291075825691223, 0.8317463994026184, 0.32581809163093567, 0.32581809163093567, 0.32581809163093567, 0.7665245532989502, 0.7665280699729919, 0.8556885123252869, 0.8291855454444885, 0.7665226459503174, 0.8507726192474365, 0.8507739901542664, 0.8503416180610657, 0.8555012345314026, 0.8554585576057434, 0.5777183771133423, 0.8555091023445129, 0.7665233612060547, 0.8291077017784119, 0.5732561349868774, 0.7439997792243958, 0.8507735133171082, 0.565637469291687, 0.565637469291687, 0.7665243148803711, 0.7665249705314636, 0.8554995656013489, 1.0024604797363281, 0.8555372953414917, 0.8554854393005371, 0.74148029088974, 0.34052348136901855, 0.34052348136901855, 0.34052348136901855, 0.9988287091255188, 0.8291073441505432, 0.7665303349494934, 0.8503708839416504, 0.8291073441505432, 0.8291974067687988, 0.8507748246192932, 0.5634246468544006, 0.5634246468544006, 0.7665272951126099, 0.5753979086875916, 0.5753979086875916, 0.8291071057319641, 0.7665237784385681, 0.4348708391189575, 0.4348708391189575, 0.5634859800338745, 0.5634859800338745, 0.8555057048797607, 0.5754071474075317, 0.5754071474075317, 0.8722644448280334, 0.8555006384849548, 0.7409502267837524, 0.7665235996246338, 0.4120923578739166, 0.2060461789369583, 0.2060461789369583, 0.2060461789369583, 0.8507752418518066, 0.23834262788295746, 0.23834262788295746, 0.23834262788295746, 0.23834262788295746, 0.8291077613830566, 0.8507735133171082, 0.9995809197425842, 0.8555110096931458, 0.8291077613830566, 0.8291829228401184, 0.9772105813026428, 0.8555330038070679, 0.8507739305496216, 0.8554195761680603, 0.5252490043640137, 0.5252490043640137, 0.8555196523666382, 0.5382674932479858, 0.5382674932479858, 0.8555406928062439, 0.8556751608848572, 0.7688208818435669, 0.38441044092178345, 0.8291077613830566, 0.8291077613830566, 0.8291934728622437, 0.8291075825691223, 0.7665232419967651, 0.8291075229644775, 0.8507730960845947, 0.7665287852287292, 0.42671483755111694, 0.42671483755111694, 0.8554887771606445, 0.8291078209877014, 0.8292031288146973, 0.9995939135551453, 0.8291075825691223, 0.8291077017784119, 0.8507726192474365, 0.8554878830909729, 0.7665239572525024, 0.8554990887641907, 0.850774347782135, 0.5634844303131104, 0.5634844303131104, 0.8291078209877014, 0.9988272786140442, 0.850385844707489, 0.5538953542709351, 0.8291075229644775, 0.5252494812011719, 0.5252494812011719, 0.8555359840393066, 0.8555078506469727, 0.7665255665779114, 0.8291077613830566, 0.5264081954956055, 0.5264081954956055, 0.8291851282119751, 0.33025309443473816, 0.33025309443473816, 0.33025309443473816, 0.5253045558929443, 0.5253045558929443, 0.8507716059684753, 0.7665278315544128, 0.8555245995521545, 0.7808687090873718, 0.3904343545436859, 0.8317148089408875, 0.5655831694602966, 0.5655831694602966, 0.5337857007980347, 0.5337857007980347, 0.8507735133171082, 0.7665240168571472, 0.8555111289024353, 0.4556020498275757, 0.22780102491378784, 0.22780102491378784, 0.7665231227874756, 0.7665247917175293, 0.3675346076488495, 0.18376730382442474, 0.3675346076488495, 0.18376730382442474, 0.4093775749206543, 0.4093775749206543, 0.8291067481040955, 0.3981989026069641, 0.19909945130348206, 0.19909945130348206, 0.19909945130348206, 0.8555048108100891], \"Term\": [\"able\", \"absorb\", \"acquaint\", \"activity\", \"activity\", \"activity\", \"activity\", \"actual\", \"actually\", \"advanced\", \"also\", \"application\", \"apply\", \"apply\", \"apply\", \"ask\", \"available\", \"begin\", \"beginning\", \"beginning\", \"big\", \"bridge\", \"brief\", \"case\", \"cause\", \"class\", \"class\", \"clear\", \"clearlenient\", \"code\", \"code\", \"concept\", \"concept\", \"concept\", \"concept\", \"confusing\", \"connect\", \"contrast\", \"could\", \"course\", \"course\", \"course\", \"curve\", \"deduction\", \"definitely\", \"derivative\", \"difference\", \"discussion\", \"early\", \"easy\", \"enforce\", \"engaged\", \"enough\", \"every\", \"ex\", \"example\", \"exercise\", \"explanation\", \"explore\", \"facetoface\", \"facetoface\", \"fairly\", \"feel\", \"follow\", \"formula\", \"function\", \"gauge\", \"give\", \"good\", \"good\", \"good\", \"grade\", \"gradually\", \"guess\", \"hard\", \"hasten\", \"head\", \"hehe\", \"help\", \"help\", \"high\", \"implement\", \"implement\", \"interactive\", \"jupyter\", \"kaggle\", \"kaggle\", \"kahoot\", \"kahoot\", \"keep\", \"knn\", \"knn\", \"know\", \"learn\", \"learning\", \"lenient\", \"lesson\", \"lesson\", \"lesson\", \"lesson\", \"library\", \"like\", \"like\", \"like\", \"like\", \"look\", \"louder\", \"machine\", \"manually\", \"many\", \"material\", \"maybe\", \"meeting\", \"mic\", \"mini\", \"ml\", \"ml\", \"much\", \"name\", \"name\", \"need\", \"none\", \"notebook\", \"notebook\", \"notebookproject\", \"online\", \"optional\", \"organization\", \"overview\", \"pacing\", \"pipeline\", \"possible\", \"practice\", \"practice\", \"preface\", \"present\", \"previous\", \"probably\", \"project\", \"quality\", \"quick\", \"quiz\", \"rapidminer\", \"rather\", \"really\", \"rundown\", \"rundown\", \"say\", \"scheme\", \"seatwork\", \"slide\", \"slightly\", \"slow\", \"slow\", \"small\", \"solve\", \"sometimes\", \"standard\", \"start\", \"start\", \"statistic\", \"student\", \"student\", \"student\", \"subject\", \"subject\", \"summary\", \"sure\", \"tailor\", \"technique\", \"technique\", \"term\", \"think\", \"think\", \"time\", \"time\", \"timeslot\", \"unfamiliar\", \"ungraded\", \"use\", \"use\", \"use\", \"vs\", \"weka\", \"well\", \"well\", \"well\", \"well\", \"wish\", \"wish\", \"within\", \"would\", \"would\", \"would\", \"would\", \"yet\"]}, \"R\": 30, \"lambda.step\": 0.01, \"plot.opts\": {\"xlab\": \"PC1\", \"ylab\": \"PC2\"}, \"topic.order\": [1, 2, 3, 4]};\n",
       "\n",
       "function LDAvis_load_lib(url, callback){\n",
       "  var s = document.createElement('script');\n",
       "  s.src = url;\n",
       "  s.async = true;\n",
       "  s.onreadystatechange = s.onload = callback;\n",
       "  s.onerror = function(){console.warn(\"failed to load library \" + url);};\n",
       "  document.getElementsByTagName(\"head\")[0].appendChild(s);\n",
       "}\n",
       "\n",
       "if(typeof(LDAvis) !== \"undefined\"){\n",
       "   // already loaded: just create the visualization\n",
       "   !function(LDAvis){\n",
       "       new LDAvis(\"#\" + \"ldavis_el1165227288251053525757598678\", ldavis_el1165227288251053525757598678_data);\n",
       "   }(LDAvis);\n",
       "}else if(typeof define === \"function\" && define.amd){\n",
       "   // require.js is available: use it to load d3/LDAvis\n",
       "   require.config({paths: {d3: \"https://cdnjs.cloudflare.com/ajax/libs/d3/3.5.5/d3.min\"}});\n",
       "   require([\"d3\"], function(d3){\n",
       "      window.d3 = d3;\n",
       "      LDAvis_load_lib(\"https://cdn.rawgit.com/bmabey/pyLDAvis/files/ldavis.v1.0.0.js\", function(){\n",
       "        new LDAvis(\"#\" + \"ldavis_el1165227288251053525757598678\", ldavis_el1165227288251053525757598678_data);\n",
       "      });\n",
       "    });\n",
       "}else{\n",
       "    // require.js not available: dynamically load d3 & LDAvis\n",
       "    LDAvis_load_lib(\"https://cdnjs.cloudflare.com/ajax/libs/d3/3.5.5/d3.min.js\", function(){\n",
       "         LDAvis_load_lib(\"https://cdn.rawgit.com/bmabey/pyLDAvis/files/ldavis.v1.0.0.js\", function(){\n",
       "                 new LDAvis(\"#\" + \"ldavis_el1165227288251053525757598678\", ldavis_el1165227288251053525757598678_data);\n",
       "            })\n",
       "         });\n",
       "}\n",
       "</script>"
      ],
      "text/plain": [
       "PreparedData(topic_coordinates=                x           y  topics  cluster       Freq\n",
       "topic                                                    \n",
       "0      269.562408 -124.803398       1        1  35.520153\n",
       "1        1.782994 -295.079681       2        1  23.453377\n",
       "2      220.811432 -343.832123       3        1  20.375832\n",
       "3       50.533993  -76.050934       4        1  20.650640, topic_info=        Term      Freq     Total Category  logprob  loglift\n",
       "121     know  2.000000  2.000000  Default  30.0000  30.0000\n",
       "5      maybe  4.000000  4.000000  Default  29.0000  29.0000\n",
       "83      code  2.000000  2.000000  Default  28.0000  28.0000\n",
       "106     term  2.000000  2.000000  Default  27.0000  27.0000\n",
       "14     could  2.000000  2.000000  Default  26.0000  26.0000\n",
       "..       ...       ...       ...      ...      ...      ...\n",
       "119   kaggle  0.712325  2.299533   Topic4  -4.4002   0.4055\n",
       "4       like  0.712163  4.195641   Topic4  -4.4004  -0.1961\n",
       "58      well  0.710965  5.441664   Topic4  -4.4021  -0.4578\n",
       "61    kahoot  0.710682  1.774667   Topic4  -4.4025   0.6623\n",
       "104  rundown  0.710568  1.774672   Topic4  -4.4026   0.6621\n",
       "\n",
       "[206 rows x 6 columns], token_table=      Topic      Freq      Term\n",
       "term                           \n",
       "76        4  0.573109      able\n",
       "77        4  0.850396    absorb\n",
       "93        2  0.829108  acquaint\n",
       "1         1  0.277523  activity\n",
       "1         2  0.277523  activity\n",
       "...     ...       ...       ...\n",
       "59        1  0.398199     would\n",
       "59        2  0.199099     would\n",
       "59        3  0.199099     would\n",
       "59        4  0.199099     would\n",
       "136       3  0.855505       yet\n",
       "\n",
       "[196 rows x 3 columns], R=30, lambda_step=0.01, plot_opts={'xlab': 'PC1', 'ylab': 'PC2'}, topic_order=[1, 2, 3, 4])"
      ]
     },
     "metadata": {},
     "output_type": "display_data"
    }
   ],
   "source": [
    "optimal_k = 4\n",
    "lda_model = build_optimal_lda(optimal_k, comments_tokenized, id2word, bow)"
   ]
  },
  {
   "cell_type": "code",
   "execution_count": 55,
   "metadata": {},
   "outputs": [
    {
     "name": "stdout",
     "output_type": "stream",
     "text": [
      "\n",
      "----------\n",
      "TOPIC 1.0\n",
      "Keywords: ['maybe, learning, use, give, would, explanation, scheme, grade, application, notebook']\n",
      "\n",
      "Text 3: If I were to name a few things that can be improve in the course, it'll probably be the complexity of some of the lessons. Maybe it was because I had no formal background in linear algebra, but there were some lessons where I would get a bit lost into the explanations of some of the formulas different machine learning techniques would use. In the future, maybe it might be better to start of with an a top-down or a layman's explanation of those formulas or techniques to give a better grasp on what's supposed to be happening before giving a more in-depth explanation.\n",
      "Text 12: Maybe give a brief overview of the difference of using ML applications (ex: RapidMiner, Weka) vs using jupyter notebooks.\n",
      "Text 1: Probably have more time dedicated to activities with the class? Maybe something like working on a notebook from scratch as a class then proceed as groupwork/homework\n",
      "Text 7: As this subject can be fairly unfamiliar for students and can have a slow learning curve, I wish that the grading scheme would be more lenient.\n",
      "Text 6: Maybe a more clear/lenient grading scheme because I felt that sometimes deductions were very high.\n",
      "\n",
      "----------\n",
      "TOPIC 2.0\n",
      "Keywords: ['term, could, like, well, good, would, course, slide, class, activity']\n",
      "\n",
      "Text 10: A rundown or example of how a good ML notebook/project looks like (in contrast to the many notebooks available online) so that we would be more acquainted with how the standards should be in terms of good quality projects. \n",
      "Text 2: A heads up on what previous lessons could be applied to the subject (e.g. statistics, derivatives) and optional practice material to help the students refresh their skills.\n",
      "Text 20: I would say the beginning of the course was slightly confusing so I think the pacing of the course could start slow and gradually hasten over the term\n",
      "Text 19: Better organization of the slides in terms of presenting some concepts within the slides.\n",
      "Text 5: More interactive activities like kahoot.\n",
      "\n",
      "----------\n",
      "TOPIC 3.0\n",
      "Keywords: ['well, know, lesson, use, enough, kaggle, like, student, name, would']\n",
      "\n",
      "Text 11: More ungraded activities like kaggle and solving - small enough to keep students engaged but big enough to enforce the concept, better if every meeting to have this\n",
      "\n",
      "Preface to lessons using kaggle or a mini quiz to gauge how much the students actually know or don't know so that the lessons can be better tailored to their needs\n",
      "\n",
      "Rather than asking us to code using functions, when we don't know how to implement yet, i think that learning how to manually apply it is good :D like what we did for knn, cause it's clearer how to follow\n",
      "Text 21: Definitely would've been better if it was face-to-face\n",
      "Text 0: None\n",
      "Text 4: #NAME?\n",
      "\n",
      "----------\n",
      "TOPIC 4.0\n",
      "Keywords: ['concept, code, practice, activity, lesson, exercise, able, wish, technique, apply']\n",
      "\n",
      "Text 9: At the beginning of the course, I had a hard time applying the concept to the actual code and   I was lost on how to begin coding the activity. I wish that there is a bridge on how we will be able to connect the concept to be able to code it. The KNN seatwork was a good exercise for me to practice implementing the lesson in a very easy use case. This helped me absorbed the lesson better. I wish that there would be more of that.\n",
      "Text 18: Exploring more libraries and also having more Kaggle exercises to really practice the concepts.\n",
      "Text 13: Louder mic and earlier timeslot hehe\n",
      "Text 14: More Kahoot like a summary activity for the discussions :)\n",
      "Text 15: Quick rundown of more advanced techniques and pipelines.\n"
     ]
    }
   ],
   "source": [
    "df_representative_comments = get_most_representative_documents(comments, comments_tokenized, lda_model, bow)"
   ]
  },
  {
   "cell_type": "markdown",
   "metadata": {},
   "source": [
    "#### Final Message"
   ]
  },
  {
   "cell_type": "code",
   "execution_count": 56,
   "metadata": {},
   "outputs": [],
   "source": [
    "comments = df_comments['final_message'].dropna().reset_index(drop=True)\n",
    "comments_cleaned = clean_and_normalize_text(comments)\n",
    "comments_tokenized, id2word, bow = tokenize(comments_cleaned)"
   ]
  },
  {
   "cell_type": "code",
   "execution_count": 57,
   "metadata": {},
   "outputs": [
    {
     "name": "stderr",
     "output_type": "stream",
     "text": [
      "100%|████████████████████████████████████████████████████████████████████████████████████| 8/8 [03:15<00:00, 24.40s/it]\n"
     ]
    },
    {
     "data": {
      "text/html": [
       "<div>\n",
       "<style scoped>\n",
       "    .dataframe tbody tr th:only-of-type {\n",
       "        vertical-align: middle;\n",
       "    }\n",
       "\n",
       "    .dataframe tbody tr th {\n",
       "        vertical-align: top;\n",
       "    }\n",
       "\n",
       "    .dataframe thead th {\n",
       "        text-align: right;\n",
       "    }\n",
       "</style>\n",
       "<table border=\"1\" class=\"dataframe\">\n",
       "  <thead>\n",
       "    <tr style=\"text-align: right;\">\n",
       "      <th></th>\n",
       "      <th>n_topics</th>\n",
       "      <th>score</th>\n",
       "    </tr>\n",
       "  </thead>\n",
       "  <tbody>\n",
       "    <tr>\n",
       "      <th>0</th>\n",
       "      <td>2.0</td>\n",
       "      <td>0.599798</td>\n",
       "    </tr>\n",
       "    <tr>\n",
       "      <th>1</th>\n",
       "      <td>3.0</td>\n",
       "      <td>0.504050</td>\n",
       "    </tr>\n",
       "    <tr>\n",
       "      <th>2</th>\n",
       "      <td>4.0</td>\n",
       "      <td>0.501425</td>\n",
       "    </tr>\n",
       "    <tr>\n",
       "      <th>3</th>\n",
       "      <td>5.0</td>\n",
       "      <td>0.528690</td>\n",
       "    </tr>\n",
       "    <tr>\n",
       "      <th>4</th>\n",
       "      <td>6.0</td>\n",
       "      <td>0.601862</td>\n",
       "    </tr>\n",
       "    <tr>\n",
       "      <th>5</th>\n",
       "      <td>7.0</td>\n",
       "      <td>0.465732</td>\n",
       "    </tr>\n",
       "    <tr>\n",
       "      <th>6</th>\n",
       "      <td>8.0</td>\n",
       "      <td>0.403366</td>\n",
       "    </tr>\n",
       "    <tr>\n",
       "      <th>7</th>\n",
       "      <td>9.0</td>\n",
       "      <td>0.454419</td>\n",
       "    </tr>\n",
       "  </tbody>\n",
       "</table>\n",
       "</div>"
      ],
      "text/plain": [
       "   n_topics     score\n",
       "0       2.0  0.599798\n",
       "1       3.0  0.504050\n",
       "2       4.0  0.501425\n",
       "3       5.0  0.528690\n",
       "4       6.0  0.601862\n",
       "5       7.0  0.465732\n",
       "6       8.0  0.403366\n",
       "7       9.0  0.454419"
      ]
     },
     "execution_count": 57,
     "metadata": {},
     "output_type": "execute_result"
    }
   ],
   "source": [
    "df_lda_clusters = find_k(comments_tokenized, id2word, bow)\n",
    "df_lda_clusters"
   ]
  },
  {
   "cell_type": "code",
   "execution_count": 58,
   "metadata": {},
   "outputs": [
    {
     "data": {
      "image/png": "[encoded data removed]",
      "text/plain": [
       "<Figure size 800x400 with 1 Axes>"
      ]
     },
     "metadata": {},
     "output_type": "display_data"
    }
   ],
   "source": [
    "plot_coherence(df_lda_clusters)"
   ]
  },
  {
   "cell_type": "markdown",
   "metadata": {},
   "source": [
    "Based on the plot above, we choose `n_topics = 2.`"
   ]
  },
  {
   "cell_type": "code",
   "execution_count": 59,
   "metadata": {},
   "outputs": [
    {
     "name": "stdout",
     "output_type": "stream",
     "text": [
      "Coherence Score: 0.5997977308416087\n"
     ]
    },
    {
     "data": {
      "text/html": [
       "\n",
       "<link rel=\"stylesheet\" type=\"text/css\" href=\"https://cdn.rawgit.com/bmabey/pyLDAvis/files/ldavis.v1.0.0.css\">\n",
       "\n",
       "\n",
       "<div id=\"ldavis_el1165227288258377687819554113\"></div>\n",
       "<script type=\"text/javascript\">\n",
       "\n",
       "var ldavis_el1165227288258377687819554113_data = {\"mdsDat\": {\"x\": [-60.31231689453125, 60.31256103515625], \"y\": [141.36962890625, -141.369140625], \"topics\": [1, 2], \"cluster\": [1, 1], \"Freq\": [45.75359344482422, 54.24640655517578]}, \"tinfo\": {\"Term\": [\"lesson\", \"help\", \"appreciate\", \"cause\", \"term\", \"future\", \"continue\", \"happy\", \"understand\", \"good\", \"really\", \"class\", \"like\", \"also\", \"get\", \"easy\", \"endeavor\", \"luck\", \"find\", \"anything\", \"genshin\", \"able\", \"still\", \"advance\", \"since\", \"valentine\", \"day\", \"technique\", \"much\", \"think\", \"lesson\", \"help\", \"cause\", \"future\", \"continue\", \"get\", \"easy\", \"endeavor\", \"luck\", \"find\", \"anything\", \"genshin\", \"able\", \"ill\", \"suggestion\", \"thing\", \"however\", \"ddd\", \"kinda\", \"next\", \"wanna\", \"engagement\", \"follow\", \"btw\", \"throughout\", \"dead\", \"like\", \"people\", \"probably\", \"force\", \"understand\", \"good\", \"really\", \"also\", \"think\", \"difficult\", \"class\", \"give\", \"make\", \"thank\", \"ask\", \"feel\", \"student\", \"could\", \"start\", \"approachable\", \"sir\", \"hope\", \"course\", \"teach\", \"term\", \"machine\", \"learn\", \"time\", \"lot\", \"know\", \"appreciate\", \"happy\", \"still\", \"advance\", \"since\", \"valentine\", \"day\", \"technique\", \"situation\", \"wonderful\", \"hihi\", \"many\", \"code\", \"understanding\", \"happen\", \"notebook\", \"first\", \"even\", \"past\", \"rest\", \"po\", \"though\", \"patience\", \"much\", \"term\", \"prof\", \"scenario\", \"real\", \"world\", \"consult\", \"hard\", \"know\", \"learn\", \"machine\", \"sir\", \"thank\", \"teach\", \"course\", \"time\", \"kind\", \"python\", \"feedback\", \"learning\", \"class\", \"lot\", \"hope\", \"make\", \"really\", \"good\", \"understand\"], \"Freq\": [3.0, 3.0, 4.0, 2.0, 13.0, 2.0, 2.0, 3.0, 7.0, 7.0, 7.0, 10.0, 4.0, 5.0, 2.0, 2.0, 2.0, 2.0, 2.0, 2.0, 2.0, 2.0, 2.0, 2.0, 2.0, 2.0, 2.0, 2.0, 4.0, 3.0, 3.0552453994750977, 3.0467891693115234, 2.3756814002990723, 2.3712997436523438, 2.3680012226104736, 1.6985832452774048, 1.6949117183685303, 1.6945469379425049, 1.6941211223602295, 1.6938267946243286, 1.6894524097442627, 1.6877532005310059, 1.6870020627975464, 1.0196632146835327, 1.0195618867874146, 1.0194873809814453, 1.0194646120071411, 1.0193915367126465, 1.0193593502044678, 1.0193531513214111, 1.0193349123001099, 1.0193127393722534, 1.0192867517471313, 1.0192712545394897, 1.0192410945892334, 1.0192174911499023, 3.0575063228607178, 1.0191617012023926, 1.019127368927002, 1.0190528631210327, 5.081503868103027, 5.0772528648376465, 5.072832107543945, 3.734757423400879, 2.378221273422241, 2.3726062774658203, 6.4649248123168945, 2.367961883544922, 3.7318148612976074, 9.155077934265137, 1.6995199918746948, 1.699177622795105, 1.6990644931793213, 1.6975494623184204, 1.6959410905838013, 1.6931463479995728, 7.09099006652832, 2.374330520629883, 3.0185089111328125, 3.051213264465332, 3.0514326095581055, 2.3551597595214844, 2.382134199142456, 1.7035630941390991, 1.701720118522644, 1.6993703842163086, 3.9100334644317627, 3.1981585025787354, 2.488147497177124, 2.4877865314483643, 2.487632989883423, 2.4872913360595703, 2.4868199825286865, 2.4857046604156494, 1.7781718969345093, 1.7780001163482666, 1.777756929397583, 1.7774789333343506, 1.7772748470306396, 1.777173399925232, 1.777021050453186, 1.776920199394226, 1.776434302330017, 1.7762149572372437, 1.7761125564575195, 1.7756235599517822, 1.775068759918213, 1.7742189168930054, 1.7732568979263306, 3.9100182056427, 10.331600189208984, 3.2232468128204346, 1.067491054534912, 1.0674805641174316, 1.0674399137496948, 1.0674376487731934, 3.2019171714782715, 4.628126621246338, 6.04914665222168, 5.365538597106934, 13.222718238830566, 15.333745956420898, 6.060817241668701, 4.6713690757751465, 3.2000675201416016, 2.502070188522339, 2.4969332218170166, 2.4912075996398926, 2.501514196395874, 3.912172555923462, 2.4901599884033203, 2.4981353282928467, 2.501251697540283, 2.521601915359497, 2.5169756412506104, 2.5125272274017334], \"Total\": [3.0, 3.0, 4.0, 2.0, 13.0, 2.0, 2.0, 3.0, 7.0, 7.0, 7.0, 10.0, 4.0, 5.0, 2.0, 2.0, 2.0, 2.0, 2.0, 2.0, 2.0, 2.0, 2.0, 2.0, 2.0, 2.0, 2.0, 2.0, 4.0, 3.0, 3.4171957969665527, 3.4175872802734375, 2.736933469772339, 2.737136125564575, 2.7372887134552, 2.0565567016601562, 2.0567266941070557, 2.0567431449890137, 2.0567634105682373, 2.056776762008667, 2.056979179382324, 2.0570576190948486, 2.0570926666259766, 1.376265525817871, 1.376270055770874, 1.376273512840271, 1.376274585723877, 1.3762779235839844, 1.376279592514038, 1.3762797117233276, 1.376280665397644, 1.37628173828125, 1.3762825727462769, 1.3762835264205933, 1.3762849569320679, 1.3762857913970947, 4.128891468048096, 1.3762885332107544, 1.376290202140808, 1.376293420791626, 7.59403133392334, 7.594228744506836, 7.594433784484863, 5.521095275878906, 3.448615312576294, 3.4488766193389893, 10.377097129821777, 3.4490928649902344, 6.233066558837891, 24.48882293701172, 2.768312931060791, 2.76832914352417, 2.768333911895752, 2.768404006958008, 2.768479108810425, 2.7686092853546143, 20.313709259033203, 4.872466087341309, 7.689877986907959, 9.112030029296875, 13.38303279876709, 7.720698356628418, 8.431281089782715, 4.90363073348999, 4.191880226135254, 6.3274970054626465, 4.254951000213623, 3.5431137084960938, 2.8313591480255127, 2.8313426971435547, 2.83133602142334, 2.8313205242156982, 2.8313000202178955, 2.8312501907348633, 2.1196062564849854, 2.119598627090454, 2.1195876598358154, 2.119575262069702, 2.1195662021636963, 2.1195619106292725, 2.1195549964904785, 2.1195504665374756, 2.1195287704467773, 2.119518995285034, 2.1195147037506104, 2.119492530822754, 2.119467258453369, 2.11942982673645, 2.119386672973633, 4.935152053833008, 13.38303279876709, 4.224427223205566, 1.407823085784912, 1.4078224897384644, 1.407820701599121, 1.4078205823898315, 4.223482608795166, 6.3274970054626465, 8.431281089782715, 7.720698356628418, 20.313709259033203, 24.48882293701172, 9.112030029296875, 7.689877986907959, 4.90363073348999, 3.5121774673461914, 3.5119500160217285, 3.5116963386535645, 4.192384719848633, 10.377097129821777, 4.191880226135254, 4.872466087341309, 6.233066558837891, 7.594433784484863, 7.594228744506836, 7.59403133392334], \"Category\": [\"Default\", \"Default\", \"Default\", \"Default\", \"Default\", \"Default\", \"Default\", \"Default\", \"Default\", \"Default\", \"Default\", \"Default\", \"Default\", \"Default\", \"Default\", \"Default\", \"Default\", \"Default\", \"Default\", \"Default\", \"Default\", \"Default\", \"Default\", \"Default\", \"Default\", \"Default\", \"Default\", \"Default\", \"Default\", \"Default\", \"Topic1\", \"Topic1\", \"Topic1\", \"Topic1\", \"Topic1\", \"Topic1\", \"Topic1\", \"Topic1\", \"Topic1\", \"Topic1\", \"Topic1\", \"Topic1\", \"Topic1\", \"Topic1\", \"Topic1\", \"Topic1\", \"Topic1\", \"Topic1\", \"Topic1\", \"Topic1\", \"Topic1\", \"Topic1\", \"Topic1\", \"Topic1\", \"Topic1\", \"Topic1\", \"Topic1\", \"Topic1\", \"Topic1\", \"Topic1\", \"Topic1\", \"Topic1\", \"Topic1\", \"Topic1\", \"Topic1\", \"Topic1\", \"Topic1\", \"Topic1\", \"Topic1\", \"Topic1\", \"Topic1\", \"Topic1\", \"Topic1\", \"Topic1\", \"Topic1\", \"Topic1\", \"Topic1\", \"Topic1\", \"Topic1\", \"Topic1\", \"Topic1\", \"Topic1\", \"Topic1\", \"Topic1\", \"Topic1\", \"Topic1\", \"Topic2\", \"Topic2\", \"Topic2\", \"Topic2\", \"Topic2\", \"Topic2\", \"Topic2\", \"Topic2\", \"Topic2\", \"Topic2\", \"Topic2\", \"Topic2\", \"Topic2\", \"Topic2\", \"Topic2\", \"Topic2\", \"Topic2\", \"Topic2\", \"Topic2\", \"Topic2\", \"Topic2\", \"Topic2\", \"Topic2\", \"Topic2\", \"Topic2\", \"Topic2\", \"Topic2\", \"Topic2\", \"Topic2\", \"Topic2\", \"Topic2\", \"Topic2\", \"Topic2\", \"Topic2\", \"Topic2\", \"Topic2\", \"Topic2\", \"Topic2\", \"Topic2\", \"Topic2\", \"Topic2\", \"Topic2\", \"Topic2\", \"Topic2\", \"Topic2\", \"Topic2\", \"Topic2\", \"Topic2\", \"Topic2\", \"Topic2\"], \"logprob\": [30.0, 29.0, 28.0, 27.0, 26.0, 25.0, 24.0, 23.0, 22.0, 21.0, 20.0, 19.0, 18.0, 17.0, 16.0, 15.0, 14.0, 13.0, 12.0, 11.0, 10.0, 9.0, 8.0, 7.0, 6.0, 5.0, 4.0, 3.0, 2.0, 1.0, -4.467700004577637, -4.4704999923706055, -4.719299793243408, -4.721099853515625, -4.722499847412109, -5.054800033569336, -5.0569000244140625, -5.057199954986572, -5.057400226593018, -5.057600021362305, -5.060200214385986, -5.061200141906738, -5.061600208282471, -5.565100193023682, -5.565199851989746, -5.565299987792969, -5.565299987792969, -5.565400123596191, -5.565400123596191, -5.565400123596191, -5.565400123596191, -5.565400123596191, -5.565499782562256, -5.565499782562256, -5.565499782562256, -5.565499782562256, -4.4670000076293945, -5.5655999183654785, -5.5655999183654785, -5.565700054168701, -3.9590001106262207, -3.9598000049591064, -3.960700035095215, -4.266900062561035, -4.718200206756592, -4.720600128173828, -3.7181999683380127, -4.722499847412109, -4.2677001953125, -3.370300054550171, -5.054200172424316, -5.0543999671936035, -5.054500102996826, -5.0553998947143555, -5.056300163269043, -5.058000087738037, -3.625699996948242, -4.719900131225586, -4.479800224304199, -4.468999862670898, -4.468999862670898, -4.728000164031982, -4.716599941253662, -5.051799774169922, -5.0528998374938965, -5.054299831390381, -4.391300201416016, -4.592299938201904, -4.843299865722656, -4.843400001525879, -4.843500137329102, -4.843599796295166, -4.843800067901611, -4.844299793243408, -5.179299831390381, -5.179299831390381, -5.179500102996826, -5.179599761962891, -5.179800033569336, -5.179800033569336, -5.179900169372559, -5.179999828338623, -5.180200099945068, -5.1803998947143555, -5.1803998947143555, -5.180699825286865, -5.181000232696533, -5.18149995803833, -5.182000160217285, -4.391300201416016, -3.419600009918213, -4.584400177001953, -5.689499855041504, -5.689499855041504, -5.689599990844727, -5.689599990844727, -4.591100215911865, -4.222700119018555, -3.954900026321411, -4.07480001449585, -3.1728999614715576, -3.0248000621795654, -3.953000068664551, -4.213399887084961, -4.591700077056885, -4.837699890136719, -4.839799880981445, -4.842100143432617, -4.837900161743164, -4.390699863433838, -4.84250020980835, -4.839300155639648, -4.8379998207092285, -4.829899787902832, -4.8317999839782715, -4.833499908447266], \"loglift\": [30.0, 29.0, 28.0, 27.0, 26.0, 25.0, 24.0, 23.0, 22.0, 21.0, 20.0, 19.0, 18.0, 17.0, 16.0, 15.0, 14.0, 13.0, 12.0, 11.0, 10.0, 9.0, 8.0, 7.0, 6.0, 5.0, 4.0, 3.0, 2.0, 1.0, 0.6699000000953674, 0.6671000123023987, 0.6402999758720398, 0.6384000182151794, 0.6370000243186951, 0.5906999707221985, 0.5884000062942505, 0.5881999731063843, 0.5878999829292297, 0.5878000259399414, 0.585099995136261, 0.5839999914169312, 0.5835999846458435, 0.4819999933242798, 0.48190000653266907, 0.48179998993873596, 0.48179998993873596, 0.48170000314712524, 0.48170000314712524, 0.48170000314712524, 0.48170000314712524, 0.48159998655319214, 0.48159998655319214, 0.48159998655319214, 0.48159998655319214, 0.4814999997615814, 0.4814999997615814, 0.4814999997615814, 0.4814999997615814, 0.4814000129699707, 0.3801000118255615, 0.37929999828338623, 0.3783999979496002, 0.39100000262260437, 0.41029998660087585, 0.40779998898506165, 0.30869999527931213, 0.4058000147342682, 0.2689000070095062, -0.20200000703334808, 0.2939999997615814, 0.2937999963760376, 0.2937000095844269, 0.29280000925064087, 0.29179999232292175, 0.29010000824928284, -0.27059999108314514, 0.06300000101327896, -0.15320000052452087, -0.31220000982284546, -0.6965000033378601, -0.40540000796318054, -0.4821000099182129, -0.2754000127315521, -0.11959999799728394, -0.5327000021934509, 0.5271000266075134, 0.5091999769210815, 0.48240000009536743, 0.4823000133037567, 0.4821999967098236, 0.4821000099182129, 0.48190000653266907, 0.4814999997615814, 0.4359999895095825, 0.4359000027179718, 0.4357999861240387, 0.43560001254081726, 0.43549999594688416, 0.43540000915527344, 0.43540000915527344, 0.43529999256134033, 0.4350000023841858, 0.4348999857902527, 0.4348999857902527, 0.43459999561309814, 0.4343000054359436, 0.43380001187324524, 0.4332999885082245, 0.37880000472068787, 0.3528999984264374, 0.3411000072956085, 0.33489999175071716, 0.33489999175071716, 0.33489999175071716, 0.33489999175071716, 0.33469998836517334, 0.2989000082015991, 0.27959999442100525, 0.24770000576972961, 0.18230000138282776, 0.14350000023841858, 0.20389999449253082, 0.11320000141859055, 0.18479999899864197, 0.27250000834465027, 0.2705000042915344, 0.26829999685287476, 0.09529999643564224, -0.36390000581741333, 0.09080000221729279, -0.05640000104904175, -0.30140000581741333, -0.4909000098705292, -0.4927000105381012, -0.4943999946117401]}, \"token.table\": {\"Topic\": [1, 2, 1, 2, 1, 2, 1, 2, 1, 2, 1, 1, 1, 2, 2, 2, 1, 1, 2, 1, 2, 2, 1, 1, 1, 2, 1, 1, 1, 2, 1, 2, 1, 2, 1, 2, 1, 1, 1, 1, 1, 1, 2, 1, 2, 2, 2, 1, 2, 1, 2, 1, 2, 1, 1, 1, 2, 1, 1, 2, 1, 2, 1, 2, 1, 1, 2, 1, 2, 1, 1, 2, 1, 2, 2, 1, 2, 1, 2, 2, 2, 1, 2, 1, 1, 2, 1, 2, 2, 1, 2, 2, 2, 2, 1, 2, 2, 1, 2, 2, 1, 2, 1, 1, 2, 2, 1, 2, 1, 2, 1, 1, 2, 2, 1, 1, 2, 1, 2, 2, 2, 1, 2, 2], \"Freq\": [0.9722459316253662, 0.7063786387443542, 0.7244939208030701, 0.36224696040153503, 0.9722995758056641, 0.9400813579559326, 0.7223843336105347, 0.36119216680526733, 0.7224617004394531, 0.36123085021972656, 0.7265944480895996, 0.7307448387145996, 0.5781964063644409, 0.38546425104141235, 0.9435893297195435, 0.7103177905082703, 0.730650007724762, 0.7224379181861877, 0.36121895909309387, 0.3901232182979584, 0.6502053737640381, 0.706389307975769, 0.7265974283218384, 0.7265932559967041, 0.5798989534378052, 0.2899494767189026, 0.9724189639091492, 0.9724111557006836, 0.726595401763916, 0.9436103105545044, 0.2847626507282257, 0.5695253014564514, 0.7224574685096741, 0.36122873425483704, 0.9723953008651733, 0.9436059594154358, 0.7265949845314026, 0.7265892624855042, 0.7306907176971436, 0.9722625017166138, 0.9724993109703064, 0.5798625946044922, 0.2899312973022461, 0.6583946943283081, 0.39503681659698486, 0.9435942769050598, 0.8467128872871399, 0.23677141964435577, 0.7103142738342285, 0.8778122663497925, 0.9435797333717346, 0.41046977043151855, 0.41046977043151855, 0.7265992164611816, 0.7266039848327637, 0.2847236394882202, 0.8541709780693054, 0.7265965342521667, 0.3160807490348816, 0.7902019023895264, 0.23721186816692352, 0.7116356492042542, 0.47705546021461487, 0.7155832052230835, 0.8779128193855286, 0.7265872955322266, 0.2421957552433014, 0.47711285948753357, 0.47711285948753357, 0.9724015593528748, 0.25904393196105957, 0.6476098299026489, 0.6417387127876282, 0.48130401968955994, 0.9435852766036987, 0.2026280015707016, 0.8105120062828064, 0.726596474647522, 0.9435963034629822, 0.9436122179031372, 0.9436692595481873, 0.7265918254852295, 0.9436333775520325, 0.7265909314155579, 0.23671847581863403, 0.7101554274559021, 0.2847420871257782, 0.5694841742515564, 0.7103168368339539, 0.658376932144165, 0.39502614736557007, 0.9436221122741699, 0.71031653881073, 0.706380307674408, 0.3445948660373688, 0.6399618983268738, 0.9435714483261108, 0.7224183082580566, 0.3612091541290283, 0.7063745260238647, 0.7224562168121338, 0.3612281084060669, 0.7266016006469727, 0.3292350769042969, 0.6584701538085938, 0.7064017057418823, 0.2241644412279129, 0.7472147941589355, 0.36751461029052734, 0.6125243306159973, 0.7265997529029846, 0.5799428820610046, 0.2899714410305023, 0.9436500072479248, 0.7265937328338623, 0.40786105394363403, 0.6117916107177734, 0.6584118008613586, 0.3950470983982086, 0.9435912370681763, 0.7063841819763184, 0.7265959978103638, 0.943574845790863, 0.7103177309036255], \"Term\": [\"able\", \"advance\", \"also\", \"also\", \"anything\", \"appreciate\", \"approachable\", \"approachable\", \"ask\", \"ask\", \"btw\", \"cause\", \"class\", \"class\", \"code\", \"consult\", \"continue\", \"could\", \"could\", \"course\", \"course\", \"day\", \"ddd\", \"dead\", \"difficult\", \"difficult\", \"easy\", \"endeavor\", \"engagement\", \"even\", \"feedback\", \"feedback\", \"feel\", \"feel\", \"find\", \"first\", \"follow\", \"force\", \"future\", \"genshin\", \"get\", \"give\", \"give\", \"good\", \"good\", \"happen\", \"happy\", \"hard\", \"hard\", \"help\", \"hihi\", \"hope\", \"hope\", \"however\", \"ill\", \"kind\", \"kind\", \"kinda\", \"know\", \"know\", \"learn\", \"learn\", \"learning\", \"learning\", \"lesson\", \"like\", \"like\", \"lot\", \"lot\", \"luck\", \"machine\", \"machine\", \"make\", \"make\", \"many\", \"much\", \"much\", \"next\", \"notebook\", \"past\", \"patience\", \"people\", \"po\", \"probably\", \"prof\", \"prof\", \"python\", \"python\", \"real\", \"really\", \"really\", \"rest\", \"scenario\", \"since\", \"sir\", \"sir\", \"situation\", \"start\", \"start\", \"still\", \"student\", \"student\", \"suggestion\", \"teach\", \"teach\", \"technique\", \"term\", \"term\", \"thank\", \"thank\", \"thing\", \"think\", \"think\", \"though\", \"throughout\", \"time\", \"time\", \"understand\", \"understand\", \"understanding\", \"valentine\", \"wanna\", \"wonderful\", \"world\"]}, \"R\": 30, \"lambda.step\": 0.01, \"plot.opts\": {\"xlab\": \"PC1\", \"ylab\": \"PC2\"}, \"topic.order\": [1, 2]};\n",
       "\n",
       "function LDAvis_load_lib(url, callback){\n",
       "  var s = document.createElement('script');\n",
       "  s.src = url;\n",
       "  s.async = true;\n",
       "  s.onreadystatechange = s.onload = callback;\n",
       "  s.onerror = function(){console.warn(\"failed to load library \" + url);};\n",
       "  document.getElementsByTagName(\"head\")[0].appendChild(s);\n",
       "}\n",
       "\n",
       "if(typeof(LDAvis) !== \"undefined\"){\n",
       "   // already loaded: just create the visualization\n",
       "   !function(LDAvis){\n",
       "       new LDAvis(\"#\" + \"ldavis_el1165227288258377687819554113\", ldavis_el1165227288258377687819554113_data);\n",
       "   }(LDAvis);\n",
       "}else if(typeof define === \"function\" && define.amd){\n",
       "   // require.js is available: use it to load d3/LDAvis\n",
       "   require.config({paths: {d3: \"https://cdnjs.cloudflare.com/ajax/libs/d3/3.5.5/d3.min\"}});\n",
       "   require([\"d3\"], function(d3){\n",
       "      window.d3 = d3;\n",
       "      LDAvis_load_lib(\"https://cdn.rawgit.com/bmabey/pyLDAvis/files/ldavis.v1.0.0.js\", function(){\n",
       "        new LDAvis(\"#\" + \"ldavis_el1165227288258377687819554113\", ldavis_el1165227288258377687819554113_data);\n",
       "      });\n",
       "    });\n",
       "}else{\n",
       "    // require.js not available: dynamically load d3 & LDAvis\n",
       "    LDAvis_load_lib(\"https://cdnjs.cloudflare.com/ajax/libs/d3/3.5.5/d3.min.js\", function(){\n",
       "         LDAvis_load_lib(\"https://cdn.rawgit.com/bmabey/pyLDAvis/files/ldavis.v1.0.0.js\", function(){\n",
       "                 new LDAvis(\"#\" + \"ldavis_el1165227288258377687819554113\", ldavis_el1165227288258377687819554113_data);\n",
       "            })\n",
       "         });\n",
       "}\n",
       "</script>"
      ],
      "text/plain": [
       "PreparedData(topic_coordinates=               x           y  topics  cluster       Freq\n",
       "topic                                                   \n",
       "0     -60.312317  141.369629       1        1  45.753593\n",
       "1      60.312561 -141.369141       2        1  54.246407, topic_info=           Term       Freq      Total Category  logprob  loglift\n",
       "170      lesson   3.000000   3.000000  Default  30.0000  30.0000\n",
       "147        help   3.000000   3.000000  Default  29.0000  29.0000\n",
       "18   appreciate   4.000000   4.000000  Default  28.0000  28.0000\n",
       "158       cause   2.000000   2.000000  Default  27.0000  27.0000\n",
       "1          term  13.000000  13.000000  Default  26.0000  26.0000\n",
       "..          ...        ...        ...      ...      ...      ...\n",
       "11         hope   2.498135   4.872466   Topic2  -4.8393  -0.0564\n",
       "46         make   2.501252   6.233067   Topic2  -4.8380  -0.3014\n",
       "51       really   2.521602   7.594434   Topic2  -4.8299  -0.4909\n",
       "10         good   2.516976   7.594229   Topic2  -4.8318  -0.4927\n",
       "60   understand   2.512527   7.594031   Topic2  -4.8335  -0.4944\n",
       "\n",
       "[136 rows x 6 columns], token_table=      Topic      Freq           Term\n",
       "term                                \n",
       "32        1  0.972246           able\n",
       "63        2  0.706379        advance\n",
       "80        1  0.724494           also\n",
       "80        2  0.362247           also\n",
       "34        1  0.972300       anything\n",
       "...     ...       ...            ...\n",
       "225       2  0.943591  understanding\n",
       "76        2  0.706384      valentine\n",
       "179       1  0.726596          wanna\n",
       "77        2  0.943575      wonderful\n",
       "30        2  0.710318          world\n",
       "\n",
       "[124 rows x 3 columns], R=30, lambda_step=0.01, plot_opts={'xlab': 'PC1', 'ylab': 'PC2'}, topic_order=[1, 2])"
      ]
     },
     "metadata": {},
     "output_type": "display_data"
    }
   ],
   "source": [
    "optimal_k = 2\n",
    "lda_model = build_optimal_lda(optimal_k, comments_tokenized, id2word, bow)"
   ]
  },
  {
   "cell_type": "code",
   "execution_count": 60,
   "metadata": {},
   "outputs": [
    {
     "name": "stdout",
     "output_type": "stream",
     "text": [
      "\n",
      "----------\n",
      "TOPIC 1.0\n",
      "Keywords: ['thank, sir, class, understand, good, really, also, make, like, lesson']\n",
      "\n",
      "Text 16: Hello sir! I wanna start by saying thank you for this term and sorry the class was kinda dead and we had a hard time understanding things <:D I think that we learned a lot and the people who needed this class for thesis got what they came for cause we did, and I'm grateful for that, however, it was difficult to follow a lot of the lessons. I really think that if there was more class engagement, the lessons would be easier to get? Cause like you know, how other students understand the lessons is probably also how I'll understand it. Thank you so much btw for helping me throughout the term and listening to suggestions! I really hope that the next classes you teach will go better. Thank you again sir! Good luck :DDD\n",
      "Text 4: Thank you sir for teaching us the entire term! Thanks for being accommodating to us and willing to take it slow for us to slowly understand the topics. At the start I really didn't understand anything at all but now, through the projects I worked on, I was able to somewhat understand more about machine learning and how it is to be implemented. Aside from that, thank you din for being kind and open to us especially when we just talk about random stuff may it be about genshin or anything else. This really made you more approachable. Good luck in your future endeavors sir!\n",
      "Text 17: Hi sir, I really enjoyed the course and learning about machine learning. Although, I did find it difficult due to the lack of python experience, but you actually gave us a crash course which made it easier for us to continue the course. Thanks for that because that really helped me in the succeeding lessons. Thanks for everything sir!! (PS. Sorry I wasn't able to attend the final class, my partner and I were dying from CMPILER cause the deadline was on the same night.).\n",
      "Text 14: Thank you for teaching us sir. I think that machine learning is a difficult concept and you tried your best to teach us. Thank you for also giving constant feedback that will help us improve ourselves. I also want to thank you for being approachable type of teacher that do not make us fear to approach or talk to you. I feel like that really lessen the stress of the subject and it also help us be more confident in ourselves. I hope the best for your future endeavors! \n",
      "Text 23: TBH sir, I feel like you could be more authoritative in class. Like you could force us to speak up by making us recite just to make the class more interactive. Also, some of the times, we do not know what questions to ask which is why we don't ask them immediately so apologies for that. Overall, I found the class very informative and a good foundation to understanding more about Data Science.\n",
      "\n",
      "----------\n",
      "TOPIC 2.0\n",
      "Keywords: ['thank, sir, term, teach, learn, machine, course, know, class, appreciate']\n",
      "\n",
      "Text 19: Thank you sir for the term, you were very understanding of our situation knowing that we were currently taking thesis and Cmpiler, and you adjusted the workload to our situation, I really appreciate that. I also appreciate how your notebooks were all prepared and organized so we'd only need to go through them to understand how a certain machine learning algorithm, model, technique is implemented and how it works. You did not make us have a difficult time just enough to make us learn, and you were very generous in the grading. Thank you sir for the wonderful term. Advanced Happy Valentine's Day as well. \n",
      "P.S. I won first place in a Kahoot game before, hihi, plis gib 5 in class participation so I can reach 2.5. hihi <3\n",
      "Text 8: Hi, Sir!! Thank you very much for being our prof for the past term and for teaching us a lot of new concepts and techniques within machine learning. It's sad to know that the term is quickly ending but I just want to say that I'm very grateful for the past few months and for the considerations you've given to me and the rest of the class. I really appreciate that you're constantly asking for feedback, since as a student, it's hard when it feels like a prof isn't listening in to your struggles. I do hope that we meet again soon and I also hope we weren't much of a headache for you, Sir. Thank you again and wishing you the best in the rest of your teaching career. :>>\n",
      "Text 21: Thank you Sir for being very understanding and open to feedback. I still remember at the start of this course when most of us didn't know much of what's happening in class. We had a hard time understanding the python notebooks at first, but you listened to our feedback and did your best in trying to explain what's happening in the code. I still think that machine learning can be very confusing at times, but I am happy that I learned a lot from this course. \n",
      "Text 9: Even though this term has been hell, it was fun. Machlrn was a learning curve since I knew nothing about machine learning and python, but it was worth learning. It became the subject that was kind of the lightest load of the term. I hope that we talk and play again sometime! Thank you sir for this term. \n",
      "Text 5: Thank you sir for the wonderful term. Sorry if I didn't participate during classes that much :( ML is a lot to take in :( But thank you for being a kind prof and for properly teaching this course. Advanced happy valentine's day to you, too!! :D Stay safe po :)\n"
     ]
    }
   ],
   "source": [
    "df_representative_comments = get_most_representative_documents(comments, comments_tokenized, lda_model, bow)"
   ]
  },
  {
   "cell_type": "markdown",
   "metadata": {},
   "source": [
    "There seems to be some clustering in the `final message` responses if we don't simply look at the top keywords determined by the model.\n",
    "\n",
    "Topic 1 is about:\n",
    "- students being grateful despite the difficult topics we have tackled\n",
    "- students do not know what to ask  \n",
    "- instructor is accomodating and approachable\n",
    "- students wishing the instructor well on his future endeavors \n",
    "- instructor should be more authoritative\n",
    "\n",
    "Topic 2 is about:  \n",
    "- instructor is responsive to students' concerns/feedback\n",
    "- students learning a lot\n",
    "- notebooks are well prepared\n",
    "- Valentine's day\n",
    "\n",
    "As expected, there are overlaps between the two, but we can see some differences in a few comments."
   ]
  },
  {
   "cell_type": "markdown",
   "metadata": {},
   "source": [
    "### Favorite Messages\n",
    "\n",
    "To end, I would like to showcase here my favorite comments:"
   ]
  },
  {
   "cell_type": "code",
   "execution_count": 61,
   "metadata": {},
   "outputs": [
    {
     "data": {
      "text/plain": [
       "[\"Probably the fact that it cleared things up about what machine learning really is and how it's not such a simple and narrow topic, but a broad and complex one at that.\",\n",
       " \"I think the most valuable aspect of the course was that it was able to cement a solid foundation of machine learning. Given how big the field is and how we're moving ever-closer to applying machine learning in many different fields, I think the foundations given by the course will definitely be useful and will be a huge skill set in my professional career. Another thing I found very valuable as well was that the course was able to give importance to machine learning and explain different machine learning concepts that seem very daunting and complicated at first. And although this was only an introductory course, the topics and lessons I learned over the term was definitely plenty and has further piqued my interest in the topic.\",\n",
       " 'Learning when or when not to use machine learning. ',\n",
       " 'The collab notebooks served as very useful learning and study material. I also found the exercises to encourage students to self study and try to understand the lessons better.',\n",
       " 'The most useful would be the notebooks given in class. It can be a good reference in creating a pipeline for future ML-related projects.',\n",
       " 'The lectures with coding examples helped a lot with seeing how to actually apply the techniques. It was also a good experience to be forced to try and implement the techniques without help from libraries to understand how they work and appreciate them even more. ',\n",
       " 'During the projects, standard techniques used in the field are taught as supplement and response to the the students’ performance']"
      ]
     },
     "execution_count": 61,
     "metadata": {},
     "output_type": "execute_result"
    }
   ],
   "source": [
    "df_comments['useful_aspects'][[1,9,10,13,14,16,21]].tolist()"
   ]
  },
  {
   "cell_type": "markdown",
   "metadata": {},
   "source": [
    "Regarding the notebooks, it actually took me more than 40 hours to develop each of them, at least for the first few topics as I had to make sure all the maths, algorithms, and codes are correct and consistent, hence the quality :)"
   ]
  },
  {
   "cell_type": "code",
   "execution_count": 62,
   "metadata": {},
   "outputs": [
    {
     "data": {
      "text/plain": [
       "['A heads up on what previous lessons could be applied to the subject (e.g. statistics, derivatives) and optional practice material to help the students refresh their skills.',\n",
       " \"If I were to name a few things that can be improve in the course, it'll probably be the complexity of some of the lessons. Maybe it was because I had no formal background in linear algebra, but there were some lessons where I would get a bit lost into the explanations of some of the formulas different machine learning techniques would use. In the future, maybe it might be better to start of with an a top-down or a layman's explanation of those formulas or techniques to give a better grasp on what's supposed to be happening before giving a more in-depth explanation.\",\n",
       " \"Face-to-face classes could've been better :(\",\n",
       " 'At the beginning of the course, I had a hard time applying the concept to the actual code and   I was lost on how to begin coding the activity. I wish that there is a bridge on how we will be able to connect the concept to be able to code it. The KNN seatwork was a good exercise for me to practice implementing the lesson in a very easy use case. This helped me absorbed the lesson better. I wish that there would be more of that.',\n",
       " 'More Kahoot like a summary activity for the discussions :)',\n",
       " \"Definitely would've been better if it was face-to-face\"]"
      ]
     },
     "execution_count": 62,
     "metadata": {},
     "output_type": "execute_result"
    }
   ],
   "source": [
    "df_comments['wishlist'][[2,9,14,15,20,27]].tolist()"
   ]
  },
  {
   "cell_type": "markdown",
   "metadata": {},
   "source": [
    "Yes, it would have been a lot better if it's face-to-face since we can be more interactive and I have more dimensions to utilize to effectively teach."
   ]
  },
  {
   "cell_type": "code",
   "execution_count": 63,
   "metadata": {},
   "outputs": [
    {
     "data": {
      "text/plain": [
       "[\"Thank you sir for teaching us the entire term! Thanks for being accommodating to us and willing to take it slow for us to slowly understand the topics. At the start I really didn't understand anything at all but now, through the projects I worked on, I was able to somewhat understand more about machine learning and how it is to be implemented. Aside from that, thank you din for being kind and open to us especially when we just talk about random stuff may it be about genshin or anything else. This really made you more approachable. Good luck in your future endeavors sir!\",\n",
       " \"Hi, Sir!! Thank you very much for being our prof for the past term and for teaching us a lot of new concepts and techniques within machine learning. It's sad to know that the term is quickly ending but I just want to say that I'm very grateful for the past few months and for the considerations you've given to me and the rest of the class. I really appreciate that you're constantly asking for feedback, since as a student, it's hard when it feels like a prof isn't listening in to your struggles. I do hope that we meet again soon and I also hope we weren't much of a headache for you, Sir. Thank you again and wishing you the best in the rest of your teaching career. :>>\",\n",
       " 'Sir you are very kind. Many challenges have come to our lives since the pandemic because of your kindness, sir, I was motivated to finish tasks and assignment in your course even though I was having a hard time to code in python.',\n",
       " 'Thank you for teaching us sir. I think that machine learning is a difficult concept and you tried your best to teach us. Thank you for also giving constant feedback that will help us improve ourselves. I also want to thank you for being approachable type of teacher that do not make us fear to approach or talk to you. I feel like that really lessen the stress of the subject and it also help us be more confident in ourselves. I hope the best for your future endeavors! ',\n",
       " 'This course was one of the brighter spots/better parts of this otherwise hellish term ',\n",
       " \"Thank you sir for the term, you were very understanding of our situation knowing that we were currently taking thesis and Cmpiler, and you adjusted the workload to our situation, I really appreciate that. I also appreciate how your notebooks were all prepared and organized so we'd only need to go through them to understand how a certain machine learning algorithm, model, technique is implemented and how it works. You did not make us have a difficult time just enough to make us learn, and you were very generous in the grading. Thank you sir for the wonderful term. Advanced Happy Valentine's Day as well. \\nP.S. I won first place in a Kahoot game before, hihi, plis gib 5 in class participation so I can reach 2.5. hihi <3\",\n",
       " \"Thank you Sir for being very understanding and open to feedback. I still remember at the start of this course when most of us didn't know much of what's happening in class. We had a hard time understanding the python notebooks at first, but you listened to our feedback and did your best in trying to explain what's happening in the code. I still think that machine learning can be very confusing at times, but I am happy that I learned a lot from this course. \"]"
      ]
     },
     "execution_count": 63,
     "metadata": {},
     "output_type": "execute_result"
    }
   ],
   "source": [
    "df_comments['final_message'][[4,9,11,15,19,20,22]].tolist()"
   ]
  },
  {
   "cell_type": "markdown",
   "metadata": {},
   "source": [
    "### Conclusions\n",
    "\n",
    "Due to the small sample size and few token counts for most of the responses, I did not expect to get good clusters. Another reason might be due to the overall similarity of the students' feedback. For instance, the students being grateful for the many things they have learned and the learning curve for this course are very common responses. This is far from being a comprehensive study, but this is a fun way of analyzing the students' feedback ."
   ]
  },
  {
   "cell_type": "code",
   "execution_count": null,
   "metadata": {},
   "outputs": [],
   "source": []
  }
 ],
 "metadata": {
  "kernelspec": {
   "display_name": "Python 3",
   "language": "python",
   "name": "python3"
  },
  "language_info": {
   "codemirror_mode": {
    "name": "ipython",
    "version": 3
   },
   "file_extension": ".py",
   "mimetype": "text/x-python",
   "name": "python",
   "nbconvert_exporter": "python",
   "pygments_lexer": "ipython3",
   "version": "3.7.6"
  }
 },
 "nbformat": 4,
 "nbformat_minor": 4
}
