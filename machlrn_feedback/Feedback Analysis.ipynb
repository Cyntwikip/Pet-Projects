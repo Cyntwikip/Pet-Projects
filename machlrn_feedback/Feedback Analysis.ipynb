{
 "cells": [
  {
   "cell_type": "markdown",
   "metadata": {},
   "source": [
    "## Machine Learning Course Feedback Analysis\n",
    "\n",
    "*Prepared by:*  \n",
    "**Jude Michael Teves**  \n",
    "Faculty, Software Technology Department  \n",
    "College of Computer Studies - De La Salle University"
   ]
  },
  {
   "cell_type": "markdown",
   "metadata": {},
   "source": [
    "The term has just ended and I just got feedback from my students in the Machine Learning course I'm teaching. It was definitely a challenging course to teach as the field of Machine Learning since it is rapidly evolving and it has many prerequisites such as calculus, linear algebra, statistics, and programming, among others. In addition, I attempted to teach this course without skipping the nitty-gritty mathematics and actual implementation of some of the core algorithms we use today. Practical aspects and advanced techniques in Machine Learning  were taught as a response to how they conducted their homework and projects as a 1-term course would not be enough to discuss the intricacies of many of the techniques that we use. I believe it is one way of differentiating this with most resources nowadays so that the students won't think this is something they could have simply 'Googled'. Anyway, I think this a good time to reflect on what happened throughout this course, and what better way to do this than using Machine Learning on the feedback I have received? Machine Learning-ception XD."
   ]
  },
  {
   "cell_type": "markdown",
   "metadata": {},
   "source": [
    "## Preliminaries"
   ]
  },
  {
   "cell_type": "markdown",
   "metadata": {},
   "source": [
    "### Import Packages\n",
    "\n",
    "<!-- Version requirements:\n",
    "- seaborn >= 0.11 -->"
   ]
  },
  {
   "cell_type": "code",
   "execution_count": 73,
   "metadata": {},
   "outputs": [],
   "source": [
    "import numpy as np\n",
    "import pandas as pd \n",
    "import matplotlib.pyplot as plt \n",
    "\n",
    "import seaborn as sns\n",
    "\n",
    "from itertools import chain\n",
    "\n",
    "%matplotlib inline\n",
    "\n",
    "sns.set_style('darkgrid')"
   ]
  },
  {
   "cell_type": "code",
   "execution_count": 74,
   "metadata": {},
   "outputs": [
    {
     "name": "stdout",
     "output_type": "stream",
     "text": [
      "0.10.0\n"
     ]
    }
   ],
   "source": [
    "print(sns.__version__)"
   ]
  },
  {
   "cell_type": "code",
   "execution_count": 5,
   "metadata": {},
   "outputs": [],
   "source": [
    "FILENAME = \"Course Evaluation.csv\""
   ]
  },
  {
   "cell_type": "markdown",
   "metadata": {},
   "source": [
    "### Read Dataset\n",
    "\n",
    "We rename the columns first as they are too long and convert the ratings that are currently in text form into 1-5 scale for easing processing later. Note that for the following columns: 'course_rating', 'course_learning', 'instructor_knowledge', 'skill_start', 'skill_end', 'effort', and 'learning_contribution', the ratings are as follows:\n",
    "- Excellent - 5\n",
    "- Very good - 4\n",
    "- Satisfactory - 3\n",
    "- Fair - 2\n",
    "- Poor - 1\n",
    "\n",
    "And for the following columns: 'effective_lecturer', 'clear_presentations', 'stimulated_interest', 'effective_time', 'helpful', 'useful_feedback', 'clear_objectives', 'organized_content', 'appropriate_workload', and 'allow_participation', the ratings are as follows:\n",
    "- Strongly agree - 5\n",
    "- Agree - 4\n",
    "- Neutral - 3\n",
    "- Disagree - 2\n",
    "- Strongly Disagree - 1\n",
    "\n",
    "Both are actually rating systems found in Google Form's evaluation template, which I simply copied and modified by a bit for this evaluation."
   ]
  },
  {
   "cell_type": "code",
   "execution_count": 55,
   "metadata": {},
   "outputs": [
    {
     "data": {
      "text/html": [
       "<div>\n",
       "<style scoped>\n",
       "    .dataframe tbody tr th:only-of-type {\n",
       "        vertical-align: middle;\n",
       "    }\n",
       "\n",
       "    .dataframe tbody tr th {\n",
       "        vertical-align: top;\n",
       "    }\n",
       "\n",
       "    .dataframe thead th {\n",
       "        text-align: right;\n",
       "    }\n",
       "</style>\n",
       "<table border=\"1\" class=\"dataframe\">\n",
       "  <thead>\n",
       "    <tr style=\"text-align: right;\">\n",
       "      <th></th>\n",
       "      <th>timestamp</th>\n",
       "      <th>course_rating</th>\n",
       "      <th>course_learning</th>\n",
       "      <th>instructor_knowledge</th>\n",
       "      <th>skill_start</th>\n",
       "      <th>skill_end</th>\n",
       "      <th>effort</th>\n",
       "      <th>learning_contribution</th>\n",
       "      <th>effective_lecturer</th>\n",
       "      <th>clear_presentations</th>\n",
       "      <th>...</th>\n",
       "      <th>effective_time</th>\n",
       "      <th>helpful</th>\n",
       "      <th>useful_feedback</th>\n",
       "      <th>clear_objectives</th>\n",
       "      <th>organized_content</th>\n",
       "      <th>appropriate_workload</th>\n",
       "      <th>allow_participation</th>\n",
       "      <th>useful_aspects</th>\n",
       "      <th>How would you improve this course (Wishlist)?</th>\n",
       "      <th>final_message</th>\n",
       "    </tr>\n",
       "  </thead>\n",
       "  <tbody>\n",
       "    <tr>\n",
       "      <th>0</th>\n",
       "      <td>2021/02/09 7:26:23 PM GMT+8</td>\n",
       "      <td>5</td>\n",
       "      <td>4</td>\n",
       "      <td>5</td>\n",
       "      <td>1</td>\n",
       "      <td>4</td>\n",
       "      <td>3</td>\n",
       "      <td>4</td>\n",
       "      <td>5</td>\n",
       "      <td>5</td>\n",
       "      <td>...</td>\n",
       "      <td>4</td>\n",
       "      <td>5</td>\n",
       "      <td>5</td>\n",
       "      <td>4</td>\n",
       "      <td>4</td>\n",
       "      <td>5</td>\n",
       "      <td>4</td>\n",
       "      <td>Learning about machine learning such as the pr...</td>\n",
       "      <td>None</td>\n",
       "      <td>Thank you for the term sir!</td>\n",
       "    </tr>\n",
       "    <tr>\n",
       "      <th>1</th>\n",
       "      <td>2021/02/09 7:26:30 PM GMT+8</td>\n",
       "      <td>4</td>\n",
       "      <td>4</td>\n",
       "      <td>4</td>\n",
       "      <td>2</td>\n",
       "      <td>3</td>\n",
       "      <td>3</td>\n",
       "      <td>4</td>\n",
       "      <td>5</td>\n",
       "      <td>4</td>\n",
       "      <td>...</td>\n",
       "      <td>5</td>\n",
       "      <td>5</td>\n",
       "      <td>5</td>\n",
       "      <td>4</td>\n",
       "      <td>4</td>\n",
       "      <td>5</td>\n",
       "      <td>5</td>\n",
       "      <td>Probably the fact that it cleared things up ab...</td>\n",
       "      <td>Probably have more time dedicated to activitie...</td>\n",
       "      <td>Thank you sir for being patient with us and do...</td>\n",
       "    </tr>\n",
       "    <tr>\n",
       "      <th>2</th>\n",
       "      <td>2021/02/09 7:28:02 PM GMT+8</td>\n",
       "      <td>4</td>\n",
       "      <td>5</td>\n",
       "      <td>5</td>\n",
       "      <td>2</td>\n",
       "      <td>3</td>\n",
       "      <td>2</td>\n",
       "      <td>3</td>\n",
       "      <td>4</td>\n",
       "      <td>5</td>\n",
       "      <td>...</td>\n",
       "      <td>3</td>\n",
       "      <td>5</td>\n",
       "      <td>5</td>\n",
       "      <td>5</td>\n",
       "      <td>5</td>\n",
       "      <td>4</td>\n",
       "      <td>5</td>\n",
       "      <td>It was really helpful to dive into the objecti...</td>\n",
       "      <td>A heads up on what previous lessons could be a...</td>\n",
       "      <td>Sir would there be any way for us to contact y...</td>\n",
       "    </tr>\n",
       "    <tr>\n",
       "      <th>3</th>\n",
       "      <td>2021/02/09 7:28:56 PM GMT+8</td>\n",
       "      <td>4</td>\n",
       "      <td>4</td>\n",
       "      <td>4</td>\n",
       "      <td>2</td>\n",
       "      <td>3</td>\n",
       "      <td>3</td>\n",
       "      <td>4</td>\n",
       "      <td>4</td>\n",
       "      <td>4</td>\n",
       "      <td>...</td>\n",
       "      <td>4</td>\n",
       "      <td>4</td>\n",
       "      <td>4</td>\n",
       "      <td>4</td>\n",
       "      <td>4</td>\n",
       "      <td>4</td>\n",
       "      <td>4</td>\n",
       "      <td>home works</td>\n",
       "      <td>NaN</td>\n",
       "      <td>thank you for the term</td>\n",
       "    </tr>\n",
       "    <tr>\n",
       "      <th>4</th>\n",
       "      <td>2021/02/09 7:29:42 PM GMT+8</td>\n",
       "      <td>4</td>\n",
       "      <td>5</td>\n",
       "      <td>4</td>\n",
       "      <td>1</td>\n",
       "      <td>3</td>\n",
       "      <td>4</td>\n",
       "      <td>4</td>\n",
       "      <td>4</td>\n",
       "      <td>4</td>\n",
       "      <td>...</td>\n",
       "      <td>4</td>\n",
       "      <td>5</td>\n",
       "      <td>4</td>\n",
       "      <td>4</td>\n",
       "      <td>3</td>\n",
       "      <td>4</td>\n",
       "      <td>4</td>\n",
       "      <td>Learning on how the machine learning pipeline ...</td>\n",
       "      <td>NaN</td>\n",
       "      <td>Thank you sir for teaching us the entire term!...</td>\n",
       "    </tr>\n",
       "  </tbody>\n",
       "</table>\n",
       "<p>5 rows × 21 columns</p>\n",
       "</div>"
      ],
      "text/plain": [
       "                     timestamp  course_rating  course_learning  \\\n",
       "0  2021/02/09 7:26:23 PM GMT+8              5                4   \n",
       "1  2021/02/09 7:26:30 PM GMT+8              4                4   \n",
       "2  2021/02/09 7:28:02 PM GMT+8              4                5   \n",
       "3  2021/02/09 7:28:56 PM GMT+8              4                4   \n",
       "4  2021/02/09 7:29:42 PM GMT+8              4                5   \n",
       "\n",
       "   instructor_knowledge  skill_start  skill_end  effort  \\\n",
       "0                     5            1          4       3   \n",
       "1                     4            2          3       3   \n",
       "2                     5            2          3       2   \n",
       "3                     4            2          3       3   \n",
       "4                     4            1          3       4   \n",
       "\n",
       "   learning_contribution  effective_lecturer  clear_presentations  ...  \\\n",
       "0                      4                   5                    5  ...   \n",
       "1                      4                   5                    4  ...   \n",
       "2                      3                   4                    5  ...   \n",
       "3                      4                   4                    4  ...   \n",
       "4                      4                   4                    4  ...   \n",
       "\n",
       "   effective_time  helpful  useful_feedback  clear_objectives  \\\n",
       "0               4        5                5                 4   \n",
       "1               5        5                5                 4   \n",
       "2               3        5                5                 5   \n",
       "3               4        4                4                 4   \n",
       "4               4        5                4                 4   \n",
       "\n",
       "   organized_content  appropriate_workload  allow_participation  \\\n",
       "0                  4                     5                    4   \n",
       "1                  4                     5                    5   \n",
       "2                  5                     4                    5   \n",
       "3                  4                     4                    4   \n",
       "4                  3                     4                    4   \n",
       "\n",
       "                                      useful_aspects  \\\n",
       "0  Learning about machine learning such as the pr...   \n",
       "1  Probably the fact that it cleared things up ab...   \n",
       "2  It was really helpful to dive into the objecti...   \n",
       "3                                         home works   \n",
       "4  Learning on how the machine learning pipeline ...   \n",
       "\n",
       "      How would you improve this course (Wishlist)?   \\\n",
       "0                                               None   \n",
       "1  Probably have more time dedicated to activitie...   \n",
       "2  A heads up on what previous lessons could be a...   \n",
       "3                                                NaN   \n",
       "4                                                NaN   \n",
       "\n",
       "                                       final_message  \n",
       "0                        Thank you for the term sir!  \n",
       "1  Thank you sir for being patient with us and do...  \n",
       "2  Sir would there be any way for us to contact y...  \n",
       "3                             thank you for the term  \n",
       "4  Thank you sir for teaching us the entire term!...  \n",
       "\n",
       "[5 rows x 21 columns]"
      ]
     },
     "execution_count": 55,
     "metadata": {},
     "output_type": "execute_result"
    }
   ],
   "source": [
    "df = pd.read_csv(FILENAME)\n",
    "# df.columns = ['timestamp', 'course_rating', 'course_learning', 'instructor_knowledge', 'skill_start', 'skill_end', 'effort', 'learning_contribution',\n",
    "#               'effective_lecturer', 'clear_presentations', 'stimulated_interest', 'effective_time', 'helpful', 'useful_feedback', 'clear_objectives', \n",
    "#                 'organized_content', 'appropriate_workload', 'allow_participation', 'useful_aspects', 'wishlist', 'final_message']\n",
    "\n",
    "df.rename(columns = {\"Timestamp\": \"timestamp\", \n",
    "           \"How would you rate the course?\": \"course_rating\",\n",
    "           \"Did you learn many things in this course?\": \"course_learning\",\n",
    "           \"Rate the instructor's knowledge in this field\": \"instructor_knowledge\",\n",
    "           \"Contribution to learning [Level of skill/knowledge at start of course]\": \"skill_start\",\n",
    "           \"Contribution to learning [Level of skill/knowledge at end of course]\": \"skill_end\",\n",
    "           \"Contribution to learning [Level of skill/knowledge required to complete the course]\": \"effort\",\n",
    "           \"Contribution to learning [Contribution of course to your skill/knowledge]\": \"learning_contribution\",\n",
    "           \"Skill and responsiveness of the instructor [Instructor was an effective lecturer/demonstrator]\": \"effective_lecturer\",\n",
    "           \"Skill and responsiveness of the instructor [Presentations were clear and organized]\": \"clear_presentations\",\n",
    "           \"Skill and responsiveness of the instructor [Instructor stimulated student interest]\": \"stimulated_interest\",\n",
    "           \"Skill and responsiveness of the instructor [Instructor effectively used time during class periods]\": \"effective_time\",\n",
    "           \"Skill and responsiveness of the instructor [Instructor was available and helpful]\": \"helpful\",\n",
    "           \"Skill and responsiveness of the instructor [Grading was prompt and had useful feedback]\": \"useful_feedback\",\n",
    "           \"Course content [Learning objectives were clear]\": \"clear_objectives\",\n",
    "           \"Course content [Course content was organized and well planned]\": \"organized_content\",\n",
    "           \"Course content [Course workload was appropriate]\": \"appropriate_workload\",\n",
    "           \"Course content [Course organized to allow all students to participate fully]\": \"allow_participation\",\n",
    "           \"What aspects of this course were most useful or valuable?\" :\"useful_aspects\",\n",
    "           \"How would you improve this course (Wishlist)?\": \"wishlist\",\n",
    "           \"Any final message to me?\": \"final_message\"}, inplace=True)\n",
    "\n",
    "cols = ['course_rating', 'course_learning', 'instructor_knowledge', 'skill_start', 'skill_end', 'effort', 'learning_contribution']\n",
    "df[cols] = df[cols].replace({'Excellent': 5,\n",
    "                             'Very good': 4,\n",
    "                             'Satisfactory': 3,\n",
    "                             'Fair': 2,\n",
    "                             'Poor': 1})\n",
    "\n",
    "cols = ['effective_lecturer', 'clear_presentations', 'stimulated_interest', 'effective_time', 'helpful', 'useful_feedback', \n",
    "        'clear_objectives', 'organized_content', 'appropriate_workload', 'allow_participation']\n",
    "df[cols] = df[cols].replace({'Strongly agree': 5,\n",
    "                             'Agree': 4,\n",
    "                             'Neutral': 3,\n",
    "                             'Disagree': 2,\n",
    "                             'Strongly disagree': 1})\n",
    "\n",
    "df.head()"
   ]
  },
  {
   "cell_type": "markdown",
   "metadata": {},
   "source": [
    "## Exploratory Data Analysis"
   ]
  },
  {
   "cell_type": "markdown",
   "metadata": {},
   "source": [
    "### High-level course ratings, Instructor knowledge, and Learning contribution ratings"
   ]
  },
  {
   "cell_type": "markdown",
   "metadata": {},
   "source": [
    "Here we show some descriptive statistics on those columns."
   ]
  },
  {
   "cell_type": "code",
   "execution_count": 56,
   "metadata": {},
   "outputs": [
    {
     "data": {
      "text/html": [
       "<div>\n",
       "<style scoped>\n",
       "    .dataframe tbody tr th:only-of-type {\n",
       "        vertical-align: middle;\n",
       "    }\n",
       "\n",
       "    .dataframe tbody tr th {\n",
       "        vertical-align: top;\n",
       "    }\n",
       "\n",
       "    .dataframe thead th {\n",
       "        text-align: right;\n",
       "    }\n",
       "</style>\n",
       "<table border=\"1\" class=\"dataframe\">\n",
       "  <thead>\n",
       "    <tr style=\"text-align: right;\">\n",
       "      <th></th>\n",
       "      <th>course_rating</th>\n",
       "      <th>course_learning</th>\n",
       "      <th>instructor_knowledge</th>\n",
       "    </tr>\n",
       "  </thead>\n",
       "  <tbody>\n",
       "    <tr>\n",
       "      <th>count</th>\n",
       "      <td>28.000000</td>\n",
       "      <td>28.000000</td>\n",
       "      <td>28.000000</td>\n",
       "    </tr>\n",
       "    <tr>\n",
       "      <th>mean</th>\n",
       "      <td>4.285714</td>\n",
       "      <td>4.571429</td>\n",
       "      <td>4.857143</td>\n",
       "    </tr>\n",
       "    <tr>\n",
       "      <th>std</th>\n",
       "      <td>0.534522</td>\n",
       "      <td>0.503953</td>\n",
       "      <td>0.356348</td>\n",
       "    </tr>\n",
       "  </tbody>\n",
       "</table>\n",
       "</div>"
      ],
      "text/plain": [
       "       course_rating  course_learning  instructor_knowledge\n",
       "count      28.000000        28.000000             28.000000\n",
       "mean        4.285714         4.571429              4.857143\n",
       "std         0.534522         0.503953              0.356348"
      ]
     },
     "execution_count": 56,
     "metadata": {},
     "output_type": "execute_result"
    }
   ],
   "source": [
    "cols = ['course_rating', 'course_learning', 'instructor_knowledge']\n",
    "df[cols].describe().loc[['count', 'mean', 'std']]"
   ]
  },
  {
   "cell_type": "code",
   "execution_count": 57,
   "metadata": {},
   "outputs": [
    {
     "data": {
      "text/html": [
       "<div>\n",
       "<style scoped>\n",
       "    .dataframe tbody tr th:only-of-type {\n",
       "        vertical-align: middle;\n",
       "    }\n",
       "\n",
       "    .dataframe tbody tr th {\n",
       "        vertical-align: top;\n",
       "    }\n",
       "\n",
       "    .dataframe thead th {\n",
       "        text-align: right;\n",
       "    }\n",
       "</style>\n",
       "<table border=\"1\" class=\"dataframe\">\n",
       "  <thead>\n",
       "    <tr style=\"text-align: right;\">\n",
       "      <th></th>\n",
       "      <th>skill_start</th>\n",
       "      <th>skill_end</th>\n",
       "      <th>effort</th>\n",
       "      <th>learning_contribution</th>\n",
       "    </tr>\n",
       "  </thead>\n",
       "  <tbody>\n",
       "    <tr>\n",
       "      <th>count</th>\n",
       "      <td>28.000000</td>\n",
       "      <td>28.000000</td>\n",
       "      <td>28.000000</td>\n",
       "      <td>28.000000</td>\n",
       "    </tr>\n",
       "    <tr>\n",
       "      <th>mean</th>\n",
       "      <td>2.285714</td>\n",
       "      <td>3.714286</td>\n",
       "      <td>3.714286</td>\n",
       "      <td>4.142857</td>\n",
       "    </tr>\n",
       "    <tr>\n",
       "      <th>std</th>\n",
       "      <td>1.272418</td>\n",
       "      <td>0.854493</td>\n",
       "      <td>0.762896</td>\n",
       "      <td>0.755929</td>\n",
       "    </tr>\n",
       "  </tbody>\n",
       "</table>\n",
       "</div>"
      ],
      "text/plain": [
       "       skill_start  skill_end     effort  learning_contribution\n",
       "count    28.000000  28.000000  28.000000              28.000000\n",
       "mean      2.285714   3.714286   3.714286               4.142857\n",
       "std       1.272418   0.854493   0.762896               0.755929"
      ]
     },
     "execution_count": 57,
     "metadata": {},
     "output_type": "execute_result"
    }
   ],
   "source": [
    "cols = ['skill_start', 'skill_end', 'effort', 'learning_contribution']\n",
    "df[cols].describe().loc[['count', 'mean', 'std']]"
   ]
  },
  {
   "cell_type": "code",
   "execution_count": 126,
   "metadata": {},
   "outputs": [
    {
     "data": {
      "image/png": "[encoded data removed]",
      "text/plain": [
       "<Figure size 800x600 with 4 Axes>"
      ]
     },
     "metadata": {},
     "output_type": "display_data"
    }
   ],
   "source": [
    "nrows, ncols = (2, 2)\n",
    "fig, ax = plt.subplots(nrows, ncols, figsize=(8, 6), dpi=100)\n",
    "\n",
    "cols = ['course_rating', 'course_learning', 'instructor_knowledge', 'learning_contribution']\n",
    "\n",
    "for curr_ax, col in zip(list(chain(*ax)), cols):\n",
    "    sns.distplot(df[col], kde=False, ax=curr_ax)\n",
    "    curr_ax.set_xlim(1, 5)\n",
    "    curr_ax.set_ylabel('count')\n",
    "    curr_ax.set_title(f\"Average rating: {df[col].mean():.2f}\")\n",
    "\n",
    "figure_title = 'Machine Learning Course Rating\\n(5 - Excellent, 4 - Very good, 3 - Satisfactory, 2 - Fair, 1 - Poor)'\n",
    "plt.suptitle(figure_title, y=1.06)\n",
    "plt.tight_layout()\n",
    "plt.show()\n"
   ]
  },
  {
   "cell_type": "markdown",
   "metadata": {},
   "source": [
    "As can be seen in the graphs above, students generally have great feedback for this course. The highest here is the `instructor_knowledge` feature."
   ]
  },
  {
   "cell_type": "markdown",
   "metadata": {},
   "source": [
    "### Perceived improvement in skill throughout the term\n",
    "\n",
    "In hindsight, I realized that the default questions I got from Google Forms for `Contribution to learning [Level of skill/knowledge at start of course` and `Contribution to learning [Level of skill/knowledge at end of course]` are ambiguous. Some might interpret the former to be the students' skill level prior to starting the course, some might interpret it as the learnings that they got from me in the first few sessions of this course. I was initially thinking of the former. I realized the ambiguity when I saw some feedback having `Excellent` marks on both items. To give context, the class has little to no ML background prior to this course. Thus, the results of statistical test below will be a more conservative estimate of the perceived improvement of the students.\n",
    "\n",
    "Let's first look at the change in average perceived skill."
   ]
  },
  {
   "cell_type": "code",
   "execution_count": 127,
   "metadata": {},
   "outputs": [
    {
     "data": {
      "text/html": [
       "<div>\n",
       "<style scoped>\n",
       "    .dataframe tbody tr th:only-of-type {\n",
       "        vertical-align: middle;\n",
       "    }\n",
       "\n",
       "    .dataframe tbody tr th {\n",
       "        vertical-align: top;\n",
       "    }\n",
       "\n",
       "    .dataframe thead th {\n",
       "        text-align: right;\n",
       "    }\n",
       "</style>\n",
       "<table border=\"1\" class=\"dataframe\">\n",
       "  <thead>\n",
       "    <tr style=\"text-align: right;\">\n",
       "      <th></th>\n",
       "      <th>skill_start</th>\n",
       "      <th>skill_end</th>\n",
       "    </tr>\n",
       "  </thead>\n",
       "  <tbody>\n",
       "    <tr>\n",
       "      <th>count</th>\n",
       "      <td>28.000000</td>\n",
       "      <td>28.000000</td>\n",
       "    </tr>\n",
       "    <tr>\n",
       "      <th>mean</th>\n",
       "      <td>2.285714</td>\n",
       "      <td>3.714286</td>\n",
       "    </tr>\n",
       "    <tr>\n",
       "      <th>std</th>\n",
       "      <td>1.272418</td>\n",
       "      <td>0.854493</td>\n",
       "    </tr>\n",
       "  </tbody>\n",
       "</table>\n",
       "</div>"
      ],
      "text/plain": [
       "       skill_start  skill_end\n",
       "count    28.000000  28.000000\n",
       "mean      2.285714   3.714286\n",
       "std       1.272418   0.854493"
      ]
     },
     "execution_count": 127,
     "metadata": {},
     "output_type": "execute_result"
    }
   ],
   "source": [
    "cols = ['skill_start', 'skill_end']\n",
    "df[cols].describe().loc[['count', 'mean', 'std']]"
   ]
  },
  {
   "cell_type": "markdown",
   "metadata": {},
   "source": [
    "Note that the rating system for the features of interest here are the following:\n",
    "- Excellent - 5\n",
    "- Very good - 4\n",
    "- Satisfactory - 3\n",
    "- Fair - 2\n",
    "- Poor - 1\n",
    "\n",
    "It seems like there is a noticeable increase in skill, but let's compare if they are truly statistically significant. We will be using Wilcoxon signed-ranked test as it is non-parametric, which is suited for ordinal data, and because our data comes from the same group. Our hypothesis is that there is an increase in skill. Let's set our alpha value to 0.05 ($\\alpha = 0.05$). We then reject the null hypothesis (no change) if the p-value we get is lower than that."
   ]
  },
  {
   "cell_type": "code",
   "execution_count": 128,
   "metadata": {},
   "outputs": [
    {
     "data": {
      "text/plain": [
       "WilcoxonResult(statistic=6.0, pvalue=1.6267401626169193e-05)"
      ]
     },
     "execution_count": 128,
     "metadata": {},
     "output_type": "execute_result"
    }
   ],
   "source": [
    "from scipy.stats import wilcoxon\n",
    "\n",
    "wilcoxon(df['skill_start'], df['skill_end'])"
   ]
  },
  {
   "cell_type": "code",
   "execution_count": 129,
   "metadata": {},
   "outputs": [
    {
     "name": "stdout",
     "output_type": "stream",
     "text": [
      "Alternative hypothesis: There is a noticeable change in the distribution.\n"
     ]
    }
   ],
   "source": [
    "alpha = 0.05\n",
    "test_statistic, p = wilcoxon(df['skill_start'], df['skill_end'])\n",
    "\n",
    "if p > alpha:\n",
    "    print(\"Null hypothesis: No change in the distribution.\")\n",
    "else:\n",
    "    print(\"Alternative hypothesis: There is a noticeable change in the distribution.\")"
   ]
  },
  {
   "cell_type": "markdown",
   "metadata": {},
   "source": [
    "### Instructor-specific ratings\n",
    "\n",
    "For the following features, we use a different ranking system compared to the ones before.\n",
    "- Strongly agree - 5\n",
    "- Agree - 4\n",
    "- Neutral - 3\n",
    "- Disagree - 2\n",
    "- Strongly Disagree - 1\n"
   ]
  },
  {
   "cell_type": "code",
   "execution_count": 130,
   "metadata": {},
   "outputs": [
    {
     "data": {
      "text/html": [
       "<div>\n",
       "<style scoped>\n",
       "    .dataframe tbody tr th:only-of-type {\n",
       "        vertical-align: middle;\n",
       "    }\n",
       "\n",
       "    .dataframe tbody tr th {\n",
       "        vertical-align: top;\n",
       "    }\n",
       "\n",
       "    .dataframe thead th {\n",
       "        text-align: right;\n",
       "    }\n",
       "</style>\n",
       "<table border=\"1\" class=\"dataframe\">\n",
       "  <thead>\n",
       "    <tr style=\"text-align: right;\">\n",
       "      <th></th>\n",
       "      <th>effective_lecturer</th>\n",
       "      <th>clear_presentations</th>\n",
       "      <th>stimulated_interest</th>\n",
       "      <th>effective_time</th>\n",
       "      <th>helpful</th>\n",
       "      <th>useful_feedback</th>\n",
       "      <th>clear_objectives</th>\n",
       "      <th>organized_content</th>\n",
       "      <th>appropriate_workload</th>\n",
       "      <th>allow_participation</th>\n",
       "    </tr>\n",
       "  </thead>\n",
       "  <tbody>\n",
       "    <tr>\n",
       "      <th>count</th>\n",
       "      <td>28.000000</td>\n",
       "      <td>28.000000</td>\n",
       "      <td>28.000000</td>\n",
       "      <td>28.000000</td>\n",
       "      <td>28.000000</td>\n",
       "      <td>28.000000</td>\n",
       "      <td>28.000000</td>\n",
       "      <td>28.000000</td>\n",
       "      <td>28.000000</td>\n",
       "      <td>28.000000</td>\n",
       "    </tr>\n",
       "    <tr>\n",
       "      <th>mean</th>\n",
       "      <td>4.357143</td>\n",
       "      <td>4.321429</td>\n",
       "      <td>4.107143</td>\n",
       "      <td>4.428571</td>\n",
       "      <td>4.857143</td>\n",
       "      <td>4.607143</td>\n",
       "      <td>4.392857</td>\n",
       "      <td>4.428571</td>\n",
       "      <td>4.607143</td>\n",
       "      <td>4.428571</td>\n",
       "    </tr>\n",
       "    <tr>\n",
       "      <th>std</th>\n",
       "      <td>0.678467</td>\n",
       "      <td>0.669636</td>\n",
       "      <td>0.831745</td>\n",
       "      <td>0.690066</td>\n",
       "      <td>0.356348</td>\n",
       "      <td>0.566947</td>\n",
       "      <td>0.685257</td>\n",
       "      <td>0.572750</td>\n",
       "      <td>0.497347</td>\n",
       "      <td>0.634126</td>\n",
       "    </tr>\n",
       "  </tbody>\n",
       "</table>\n",
       "</div>"
      ],
      "text/plain": [
       "       effective_lecturer  clear_presentations  stimulated_interest  \\\n",
       "count           28.000000            28.000000            28.000000   \n",
       "mean             4.357143             4.321429             4.107143   \n",
       "std              0.678467             0.669636             0.831745   \n",
       "\n",
       "       effective_time    helpful  useful_feedback  clear_objectives  \\\n",
       "count       28.000000  28.000000        28.000000         28.000000   \n",
       "mean         4.428571   4.857143         4.607143          4.392857   \n",
       "std          0.690066   0.356348         0.566947          0.685257   \n",
       "\n",
       "       organized_content  appropriate_workload  allow_participation  \n",
       "count          28.000000             28.000000            28.000000  \n",
       "mean            4.428571              4.607143             4.428571  \n",
       "std             0.572750              0.497347             0.634126  "
      ]
     },
     "execution_count": 130,
     "metadata": {},
     "output_type": "execute_result"
    }
   ],
   "source": [
    "cols = ['effective_lecturer', 'clear_presentations', 'stimulated_interest', 'effective_time', 'helpful', 'useful_feedback', \n",
    "        'clear_objectives', 'organized_content', 'appropriate_workload', 'allow_participation']\n",
    "df[cols].describe().loc[['count', 'mean', 'std']]"
   ]
  },
  {
   "cell_type": "code",
   "execution_count": 131,
   "metadata": {},
   "outputs": [
    {
     "data": {
      "image/png": "[encoded data removed]",
      "text/plain": [
       "<Figure size 1600x600 with 10 Axes>"
      ]
     },
     "metadata": {},
     "output_type": "display_data"
    }
   ],
   "source": [
    "nrows, ncols = (2, 5)\n",
    "fig, ax = plt.subplots(nrows, ncols, figsize=(16, 6), dpi=100)\n",
    "\n",
    "cols = ['effective_lecturer', 'clear_presentations', 'stimulated_interest', 'effective_time', 'helpful', 'useful_feedback', \n",
    "        'clear_objectives', 'organized_content', 'appropriate_workload', 'allow_participation']\n",
    "\n",
    "for curr_ax, col in zip(list(chain(*ax)), cols):\n",
    "    sns.distplot(df[col], kde=False, ax=curr_ax)\n",
    "    curr_ax.set_xlim(1, 5)\n",
    "    curr_ax.set_ylabel('count')\n",
    "    curr_ax.set_title(f\"Average rating: {df[col].mean():.2f}\")\n",
    "\n",
    "figure_title = 'Machine Learning Instructor Rating\\n(Strongly agree - 5, Agree - 4, Neutral - 3, Disagree - 2, Strongly Disagree - 1)'\n",
    "plt.suptitle(figure_title, y=1.06)\n",
    "plt.tight_layout()\n",
    "plt.show()"
   ]
  },
  {
   "cell_type": "markdown",
   "metadata": {},
   "source": [
    "Similar with the other ratings above, the students have good ratings here. The highest here are `helpful`, `useful_feedback`, and `appropriate_workload` features."
   ]
  },
  {
   "cell_type": "markdown",
   "metadata": {},
   "source": [
    "## Topic Modeling on the students' comments"
   ]
  },
  {
   "cell_type": "code",
   "execution_count": null,
   "metadata": {},
   "outputs": [],
   "source": []
  }
 ],
 "metadata": {
  "kernelspec": {
   "display_name": "Python 3",
   "language": "python",
   "name": "python3"
  },
  "language_info": {
   "codemirror_mode": {
    "name": "ipython",
    "version": 3
   },
   "file_extension": ".py",
   "mimetype": "text/x-python",
   "name": "python",
   "nbconvert_exporter": "python",
   "pygments_lexer": "ipython3",
   "version": "3.7.6"
  }
 },
 "nbformat": 4,
 "nbformat_minor": 4
}
