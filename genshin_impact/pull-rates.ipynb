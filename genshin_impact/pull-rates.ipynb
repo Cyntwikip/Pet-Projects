{
 "cells": [
  {
   "cell_type": "code",
   "execution_count": 1,
   "metadata": {},
   "outputs": [],
   "source": [
    "import numpy as np\n",
    "import pandas as pd\n",
    "import matplotlib.pyplot as plt\n",
    "import seaborn as sns\n",
    "\n",
    "from scipy import stats\n",
    "\n",
    "import re, random\n",
    "\n",
    "sns.set_style('darkgrid')"
   ]
  },
  {
   "cell_type": "code",
   "execution_count": 25,
   "metadata": {},
   "outputs": [],
   "source": [
    "# Permanent Banner\n",
    "\n",
    "permanent_str = ''\n",
    "permanent_str += ''' 10(C), 3(W), 6(W), 10(C), 1(C), 3(W), 6(W), 9(C), 3(W), 10(W), ''' # Jeff \n",
    "permanent_str += ''' 4(W), 10(W), 5(C), 10(C), 4(C), 1(W), ''' # Jeff\n",
    "permanent_str += ''' 3C, 9W, 10C, 9W, 4C, 9W, 10C, 9W, 10W, 6C, 2W, ''' # Kristen\n",
    "permanent_str += ''' 10C, 2W, 10W, 9C, 7C, 2W, ''' # Kristen\n",
    "permanent_str += ''' 4(C), 5(C), 2(W), 9(C), 10(W), 9(C), 10(W), ''' # Jeff\n",
    "\n",
    "\n",
    "character_str = ''\n",
    "character_str += ''' 6(W), 9(C), 10(W), 1(C), 4(C), 7(C), 6(C), 9(W), 8(C), 9(C), 6(C), 4(W), 4(C), 8(C), 9(W), 1(C), 8(C), 9(W), 10(C), 9(W), 9(C), 4(C), ''' # Jeff \n",
    "character_str += ''' 10(C), 9(C), 10(W), 9(C), 5(C), 10(C), 9(W), 9(C), 3(W), 4(C), 5(C), 9(C), 9(C), 10(W), 10(C), 9(W), 10(C), 6(C), 3(C), 3(C), ''' # Jeff\n",
    "character_str += ''' 2W, 8W, 10W, 2C, 10C, 9C, 10C, 1C, 9W, 8C, 10W, 9C, 7C, 3C, 10C, 4C, 9C, 5C, 2C, 3C, 10W, 9C, 9W, 10C, 9C, 10C, 9C, 2C, 7C, 10C, 9C, 10C, 1C, 9W, 9C, 1C, 9W, 3C, 4W, 3C, 1C, 9C, 1C, 10W, 6C, ''' # Kristen\n",
    "character_str += ''' 10C, 9C, 6C, 9C, 9W, 9C, 9C, 10W, 3C, 6C, 1W, 2C, 6W, 1C, ''' # Kristen\n",
    "character_str += ''' 10(W), 9(C), 4(C), 2(C), 2(C), 6(C), 7(C), 9(W), 10(C), 6(C), 9(C), 1(C), 10(C), 4(C), 5(W), 10(C), 10(W), 9(C), 10(W), 10(C), 5(W), 9(C), 9(C), 1(C), 9(C), 10(C), 9(W), 10(C), 3(C),  8(W), ''' # Jeff\n",
    "character_str += ''' 4C, 9C, 6W, 8C, 1C, 8C, 8C, 4C, 9C, 2C, 4C, 4C, 7C, 7W, 6C, 1C, ''' # Raph\n",
    "character_str += ''' 9C, 8W, 9C, 2C, 6C, 9C, 9C, 1C, 9W, 10C, 5C, 4W, 9C ''' # Oonre\n",
    "character_str += ''' 4(C), 9(C), 10(C), 9(W), 9(C), 3(W), 9(C), 4(C), 5(C), 4(W), 10(C), 3(C), 6(C), 10(C), 9(C), 2(C), 4(W), 10(C), 3(C), 6(C), 10(C), 10(C), 8(C), 2(C), 2(W), 10(C), 9(C), ''' # Jeff\n",
    "character_str += ''' 9C, 9C, 10W, 6C, 2W, 9C, 1C, 9C, 10C, 9C, 7W, 9C,  ''' # Pat\n",
    "\n"
   ]
  },
  {
   "cell_type": "code",
   "execution_count": 48,
   "metadata": {},
   "outputs": [],
   "source": [
    "# Jude\n",
    "temp = '''\n",
    "Slingshot\n",
    "Cool Steel\n",
    "Ferrous Shadow\n",
    "Ferrous Shadow\n",
    "Raven Bow\n",
    "Magic Guide\n",
    "Slingshot\n",
    "Debate Club\n",
    "Thrilling Tales of Dragon Slayers\n",
    "Fischl (4-Star)\n",
    "Slingshot\n",
    "Black Tassel\n",
    "Emerald Orb\n",
    "Slingshot\n",
    "Bloodtainted Greatsword\n",
    "Harbinger of Dawn\n",
    "Thrilling Tales of Dragon Slayers\n",
    "Slingshot\n",
    "Barbara (4-Star)\n",
    "Emerald Orb\n",
    "Emerald Orb\n",
    "Bloodtainted Greatsword\n",
    "Skyrider Sword\n",
    "Debate Club\n",
    "Raven Bow\n",
    "Magic Guide\n",
    "Skyrider Sword\n",
    "Favonius Sword (4-Star)\n",
    "Debate Club\n",
    "Venti (5-Star)\n",
    "Bloodtainted Greatsword\n",
    "Sharpshooter's Oath\n",
    "Cool Steel\n",
    "Magic Guide\n",
    "Debate Club\n",
    "Raven Bow\n",
    "Harbinger of Dawn\n",
    "Barbara (4-Star)\n",
    "Emerald Orb\n",
    "Ferrous Shadow\n",
    "Emerald Orb\n",
    "Cool Steel\n",
    "Slingshot\n",
    "Thrilling Tales of Dragon Slayers\n",
    "Magic Guide\n",
    "Slingshot\n",
    "Fischl (4-Star)\n",
    "Black Tassel\n",
    "Ferrous Shadow\n",
    "Bloodtainted Greatsword\n",
    "Magic Guide\n",
    "Debate Club\n",
    "Raven Bow\n",
    "Thrilling Tales of Dragon Slayers\n",
    "Ferrous Shadow\n",
    "Skyrider Sword\n",
    "Favonius Lance (4-Star)\n",
    "Raven Bow\n",
    "Ferrous Shadow\n",
    "Skyrider Sword\n",
    "Skyrider Sword\n",
    "Ferrous Shadow\n",
    "Cool Steel\n",
    "Slingshot\n",
    "Sharpshooter's Oath\n",
    "Xiangling (4-Star)\n",
    "Magic Guide\n",
    "Raven Bow\n",
    "Sharpshooter's Oath\n",
    "Magic Guide\n",
    "Ferrous Shadow\n",
    "Debate Club\n",
    "Harbinger of Dawn\n",
    "Sharpshooter's Oath\n",
    "Harbinger of Dawn\n",
    "Xingqiu (4-Star)\n",
    "Raven Bow\n",
    "Black Tassel\n",
    "Sharpshooter's Oath\n",
    "Slingshot\n",
    "Raven Bow\n",
    "Ferrous Shadow\n",
    "Sharpshooter's Oath\n",
    "Sharpshooter's Oath\n",
    "Xingqiu (4-Star)\n",
    "Debate Club\n",
    "Sharpshooter's Oath\n",
    "Black Tassel\n",
    "Raven Bow\n",
    "Sharpshooter's Oath\n",
    "Skyrider Sword\n",
    "Emerald Orb\n",
    "Magic Guide\n",
    "Favonius Codex (4-Star)\n",
    "Skyrider Sword\n",
    "Thrilling Tales of Dragon Slayers\n",
    "Sharpshooter's Oath\n",
    "Cool Steel\n",
    "Bloodtainted Greatsword\n",
    "Raven Bow\n",
    "Noelle (4-Star)\n",
    "Slingshot\n",
    "Thrilling Tales of Dragon Slayers\n",
    "Klee (5-Star)\n",
    "Cool Steel\n",
    "Cool Steel\n",
    "Thrilling Tales of Dragon Slayers\n",
    "Sharpshooter's Oath\n",
    "Ferrous Shadow\n",
    "Bloodtainted Greatsword\n",
    "Noelle (4-Star)\n",
    "Sharpshooter's Oath\n",
    "Bloodtainted Greatsword\n",
    "Harbinger of Dawn\n",
    "Slingshot\n",
    "Bloodtainted Greatsword\n",
    "Ferrous Shadow\n",
    "Slingshot\n",
    "Magic Guide\n",
    "Dragon's Bane (4-Star)\n",
    "Ferrous Shadow\n",
    "Skyrider Sword\n",
    "Skyrider Sword\n",
    "Emerald Orb\n",
    "Black Tassel\n",
    "Raven Bow\n",
    "Harbinger of Dawn\n",
    "Cool Steel\n",
    "Black Tassel\n",
    "Ningguang (4-Star)\n",
    "Cool Steel\n",
    "Debate Club\n",
    "Slingshot\n",
    "Magic Guide\n",
    "Black Tassel\n",
    "Harbinger of Dawn\n",
    "Cool Steel\n",
    "Beidou (4-Star)\n",
    "Cool Steel\n",
    "Black Tassel\n",
    "Debate Club\n",
    "Emerald Orb\n",
    "Emerald Orb\n",
    "Debate Club\n",
    "Debate Club\n",
    "Bloodtainted Greatsword\n",
    "The Bell (4-Star)\n",
    "Ferrous Shadow\n",
    "Ferrous Shadow\n",
    "Skyrider Sword\n",
    "Cool Steel\n",
    "Emerald Orb\n",
    "Ferrous Shadow\n",
    "Magic Guide\n",
    "Thrilling Tales of Dragon Slayers\n",
    "Sharpshooter's Oath\n",
    "Beidou (4-Star)\n",
    "Cool Steel\n",
    "Bloodtainted Greatsword\n",
    "Sharpshooter's Oath\n",
    "Tartaglia (5-Star)\n",
    "Harbinger of Dawn\n",
    "Bloodtainted Greatsword\n",
    "Thrilling Tales of Dragon Slayers\n",
    "'''\n",
    "\n",
    "temp = [i for i in temp.split('\\n') if i]\n",
    "\n",
    "counter = 0\n",
    "for s in temp:\n",
    "    counter += 1\n",
    "    res = re.findall(r'.*-Star', s)\n",
    "    if res:\n",
    "        character_str += f' {counter}U,'\n",
    "        counter=0"
   ]
  },
  {
   "cell_type": "code",
   "execution_count": 49,
   "metadata": {},
   "outputs": [
    {
     "data": {
      "text/plain": [
       "' 6(W), 9(C), 10(W), 1(C), 4(C), 7(C), 6(C), 9(W), 8(C), 9(C), 6(C), 4(W), 4(C), 8(C), 9(W), 1(C), 8(C), 9(W), 10(C), 9(W), 9(C), 4(C),  10(C), 9(C), 10(W), 9(C), 5(C), 10(C), 9(W), 9(C), 3(W), 4(C), 5(C), 9(C), 9(C), 10(W), 10(C), 9(W), 10(C), 6(C), 3(C), 3(C),  2W, 8W, 10W, 2C, 10C, 9C, 10C, 1C, 9W, 8C, 10W, 9C, 7C, 3C, 10C, 4C, 9C, 5C, 2C, 3C, 10W, 9C, 9W, 10C, 9C, 10C, 9C, 2C, 7C, 10C, 9C, 10C, 1C, 9W, 9C, 1C, 9W, 3C, 4W, 3C, 1C, 9C, 1C, 10W, 6C,  10C, 9C, 6C, 9C, 9W, 9C, 9C, 10W, 3C, 6C, 1W, 2C, 6W, 1C,  10(W), 9(C), 4(C), 2(C), 2(C), 6(C), 7(C), 9(W), 10(C), 6(C), 9(C), 1(C), 10(C), 4(C), 5(W), 10(C), 10(W), 9(C), 10(W), 10(C), 5(W), 9(C), 9(C), 1(C), 9(C), 10(C), 9(W), 10(C), 3(C),  8(W),  4C, 9C, 6W, 8C, 1C, 8C, 8C, 4C, 9C, 2C, 4C, 4C, 7C, 7W, 6C, 1C,  9C, 8W, 9C, 2C, 6C, 9C, 9C, 1C, 9W, 10C, 5C, 4W, 9C  4(C), 9(C), 10(C), 9(W), 9(C), 3(W), 9(C), 4(C), 5(C), 4(W), 10(C), 3(C), 6(C), 10(C), 9(C), 2(C), 4(W), 10(C), 3(C), 6(C), 10(C), 10(C), 8(C), 2(C), 2(W), 10(C), 9(C),  9C, 9C, 10W, 6C, 2W, 9C, 1C, 9C, 10C, 9C, 7W, 9C,   10U, 8U, 9U, 2U, 8U, 9U, 10U, 9U, 10U, 9U, 9U, 7U, 3U, 7U, 9U, 10U, 9U, 9U, 2U, 8U, 9U, 10U, 9U, 10U, 9U, 9U, 7U, 3U, 7U, 9U, 10U, 8U, 9U, 10U, 4U,'"
      ]
     },
     "execution_count": 49,
     "metadata": {},
     "output_type": "execute_result"
    }
   ],
   "source": [
    "character_str"
   ]
  },
  {
   "cell_type": "code",
   "execution_count": 50,
   "metadata": {},
   "outputs": [
    {
     "data": {
      "text/html": [
       "<div>\n",
       "<style scoped>\n",
       "    .dataframe tbody tr th:only-of-type {\n",
       "        vertical-align: middle;\n",
       "    }\n",
       "\n",
       "    .dataframe tbody tr th {\n",
       "        vertical-align: top;\n",
       "    }\n",
       "\n",
       "    .dataframe thead th {\n",
       "        text-align: right;\n",
       "    }\n",
       "</style>\n",
       "<table border=\"1\" class=\"dataframe\">\n",
       "  <thead>\n",
       "    <tr style=\"text-align: right;\">\n",
       "      <th></th>\n",
       "      <th>pulls</th>\n",
       "      <th>type</th>\n",
       "    </tr>\n",
       "  </thead>\n",
       "  <tbody>\n",
       "    <tr>\n",
       "      <th>0</th>\n",
       "      <td>6</td>\n",
       "      <td>W</td>\n",
       "    </tr>\n",
       "    <tr>\n",
       "      <th>1</th>\n",
       "      <td>9</td>\n",
       "      <td>C</td>\n",
       "    </tr>\n",
       "    <tr>\n",
       "      <th>2</th>\n",
       "      <td>10</td>\n",
       "      <td>W</td>\n",
       "    </tr>\n",
       "    <tr>\n",
       "      <th>3</th>\n",
       "      <td>1</td>\n",
       "      <td>C</td>\n",
       "    </tr>\n",
       "    <tr>\n",
       "      <th>4</th>\n",
       "      <td>4</td>\n",
       "      <td>C</td>\n",
       "    </tr>\n",
       "  </tbody>\n",
       "</table>\n",
       "</div>"
      ],
      "text/plain": [
       "   pulls type\n",
       "0      6    W\n",
       "1      9    C\n",
       "2     10    W\n",
       "3      1    C\n",
       "4      4    C"
      ]
     },
     "execution_count": 50,
     "metadata": {},
     "output_type": "execute_result"
    }
   ],
   "source": [
    "parser = r'(?P<pulls>\\d{1,2}).*?(?P<type>[WCU]).*?,'\n",
    "\n",
    "df_permanent = pd.DataFrame(re.findall(parser, permanent_str), columns=['pulls', 'type'])\n",
    "\n",
    "df_character = pd.DataFrame(re.findall(parser, character_str), columns=['pulls', 'type'])\n",
    "df_character['pulls'] = df_character['pulls'].astype(int)\n",
    "df_character.head()"
   ]
  },
  {
   "cell_type": "code",
   "execution_count": 51,
   "metadata": {},
   "outputs": [
    {
     "data": {
      "text/plain": [
       "(233, 2)"
      ]
     },
     "execution_count": 51,
     "metadata": {},
     "output_type": "execute_result"
    }
   ],
   "source": [
    "df_character.shape"
   ]
  },
  {
   "cell_type": "code",
   "execution_count": 52,
   "metadata": {},
   "outputs": [
    {
     "data": {
      "text/plain": [
       "C    150\n",
       "W     48\n",
       "U     35\n",
       "Name: type, dtype: int64"
      ]
     },
     "execution_count": 52,
     "metadata": {},
     "output_type": "execute_result"
    }
   ],
   "source": [
    "df_character['type'].value_counts()"
   ]
  },
  {
   "cell_type": "code",
   "execution_count": 53,
   "metadata": {},
   "outputs": [
    {
     "name": "stdout",
     "output_type": "stream",
     "text": [
      "Average 4* Pull Rate: 14.27%\n"
     ]
    }
   ],
   "source": [
    "char_actual_avg_rate = df_character['pulls'].shape[0]/df_character['pulls'].sum()\n",
    "\n",
    "print(f'Average 4* Pull Rate: {char_actual_avg_rate:.2%}')"
   ]
  },
  {
   "cell_type": "code",
   "execution_count": 54,
   "metadata": {},
   "outputs": [
    {
     "data": {
      "image/png": "[encoded data removed]",
      "text/plain": [
       "<Figure size 600x400 with 1 Axes>"
      ]
     },
     "metadata": {},
     "output_type": "display_data"
    }
   ],
   "source": [
    "plt.figure(figsize=(6,4), dpi=100)\n",
    "dist_character = df_character['pulls'].value_counts().sort_index()\n",
    "plt.bar(dist_character.index, dist_character)\n",
    "plt.xlabel('# of pulls')\n",
    "plt.ylabel('counts')\n",
    "plt.title('4-Star Pull Rate Distribution')\n",
    "plt.show()"
   ]
  },
  {
   "cell_type": "markdown",
   "metadata": {},
   "source": [
    "## Simulation"
   ]
  },
  {
   "cell_type": "code",
   "execution_count": 55,
   "metadata": {},
   "outputs": [],
   "source": [
    "# n = int(1e5)\n",
    "# char_banner_rate = 0.051\n",
    "\n",
    "# random.seed(42)\n",
    "\n",
    "# pity_counter = 0\n",
    "# four_star_counter = {}\n",
    "\n",
    "# for _ in range(n):\n",
    "#     pity_counter += 1\n",
    "    \n",
    "#     if pity_counter != 10:\n",
    "#         is_4_star = random.random() < char_banner_rate\n",
    "#         if not is_4_star:\n",
    "#             continue # go to next iteration\n",
    "    \n",
    "#     # initialize if count does not exist\n",
    "#     if pity_counter not in four_star_counter:\n",
    "#         four_star_counter[pity_counter] = 0\n",
    "    \n",
    "#     four_star_counter[pity_counter] += 1\n",
    "#     pity_counter = 0"
   ]
  },
  {
   "cell_type": "code",
   "execution_count": 56,
   "metadata": {},
   "outputs": [],
   "source": [
    "# df_character_simulation = pd.DataFrame(four_star_counter.items(), columns=['pulls', 'counts'])\n",
    "# df_character_simulation = df_character_simulation.sort_values('pulls')\n",
    "\n",
    "\n",
    "# plt.figure(figsize=(6,4), dpi=100)\n",
    "# plt.bar(df_character_simulation['pulls'], df_character_simulation['counts'])\n",
    "# plt.xlabel('# of pulls')\n",
    "# plt.ylabel('counts')\n",
    "# plt.title('4-Star Pull Rate Distribution')\n",
    "# plt.show()"
   ]
  },
  {
   "cell_type": "code",
   "execution_count": 57,
   "metadata": {},
   "outputs": [],
   "source": [
    "n = int(1e7)\n",
    "char_banner_rate = 0.051\n",
    "\n",
    "random.seed(42)\n",
    "\n",
    "pity_counter = 0\n",
    "four_star_counter = []\n",
    "\n",
    "for _ in range(n):\n",
    "    pity_counter += 1\n",
    "#     is_4_star = random.random() < char_banner_rate\n",
    "    \n",
    "    if pity_counter != 10:\n",
    "        is_4_star = random.random() < char_banner_rate\n",
    "        if not is_4_star:\n",
    "            continue # go to next iteration\n",
    "    \n",
    "    four_star_counter.append(pity_counter)\n",
    "    pity_counter = 0"
   ]
  },
  {
   "cell_type": "code",
   "execution_count": 58,
   "metadata": {},
   "outputs": [
    {
     "data": {
      "image/png": "[encoded data removed]",
      "text/plain": [
       "<Figure size 600x400 with 1 Axes>"
      ]
     },
     "metadata": {},
     "output_type": "display_data"
    }
   ],
   "source": [
    "from collections import Counter\n",
    "\n",
    "df_character_simulation = pd.DataFrame(Counter(four_star_counter).most_common(), columns=['pulls', 'counts'])\n",
    "df_character_simulation = df_character_simulation.sort_values('pulls')\n",
    "\n",
    "\n",
    "plt.figure(figsize=(6,4), dpi=100)\n",
    "plt.bar(df_character_simulation['pulls'], df_character_simulation['counts'])\n",
    "plt.xlabel('# of pulls')\n",
    "plt.ylabel('counts')\n",
    "plt.title('4-Star Pull Rate Distribution')\n",
    "plt.show()"
   ]
  },
  {
   "cell_type": "code",
   "execution_count": 59,
   "metadata": {},
   "outputs": [
    {
     "name": "stdout",
     "output_type": "stream",
     "text": [
      "4* Pulls: 1251549\n",
      "Average 4* Pull Rate: 12.52%\n"
     ]
    }
   ],
   "source": [
    "char_4_star_pulls = df_character_simulation['counts'].sum()\n",
    "print('4* Pulls:', char_4_star_pulls)\n",
    "char_sim_avg_rate = char_4_star_pulls / n\n",
    "print(f'Average 4* Pull Rate: {char_sim_avg_rate:.2%}')"
   ]
  },
  {
   "cell_type": "markdown",
   "metadata": {},
   "source": [
    "## Graph Comparison"
   ]
  },
  {
   "cell_type": "code",
   "execution_count": 60,
   "metadata": {},
   "outputs": [
    {
     "data": {
      "text/plain": [
       "array([0.06437768, 0.12875536, 0.1888412 , 0.26609442, 0.29613734,\n",
       "       0.36480687, 0.41201717, 0.47639485, 0.79399142, 1.        ])"
      ]
     },
     "execution_count": 60,
     "metadata": {},
     "output_type": "execute_result"
    }
   ],
   "source": [
    "true_cum_dist = dist_character.cumsum()/dist_character.sum()\n",
    "true_cum_dist.values"
   ]
  },
  {
   "cell_type": "code",
   "execution_count": 61,
   "metadata": {},
   "outputs": [
    {
     "data": {
      "text/plain": [
       "array([0.05115501, 0.09940162, 0.14535667, 0.18921353, 0.23046321,\n",
       "       0.26984401, 0.30688211, 0.34202576, 0.3755642 , 1.        ])"
      ]
     },
     "execution_count": 61,
     "metadata": {},
     "output_type": "execute_result"
    }
   ],
   "source": [
    "dist_character_sim = df_character_simulation.set_index('pulls')['counts']\n",
    "theoretical_cum_dist = dist_character_sim.cumsum()/dist_character_sim.sum()\n",
    "theoretical_cum_dist.values"
   ]
  },
  {
   "cell_type": "code",
   "execution_count": 62,
   "metadata": {},
   "outputs": [
    {
     "data": {
      "text/plain": [
       "1633"
      ]
     },
     "execution_count": 62,
     "metadata": {},
     "output_type": "execute_result"
    }
   ],
   "source": [
    "df_character['pulls'].sum()"
   ]
  },
  {
   "cell_type": "code",
   "execution_count": 63,
   "metadata": {},
   "outputs": [
    {
     "data": {
      "image/png": "[encoded data removed]",
      "text/plain": [
       "<Figure size 960x480 with 1 Axes>"
      ]
     },
     "metadata": {},
     "output_type": "display_data"
    }
   ],
   "source": [
    "\n",
    "plt.figure(figsize=(8, 4), dpi=120)\n",
    "plt.plot(true_cum_dist, label=f'Actual -- {df_character.shape[0]} Four/Five-Star Pulls ({df_character.pulls.sum()} Total Pulls)')\n",
    "plt.plot(theoretical_cum_dist, label = f'Theoretical (Simulation) \\n{char_4_star_pulls} Four/Five-Star Pulls ({n} Total Pulls)', c='red')\n",
    "plt.xticks(range(1,11))\n",
    "plt.xlabel('Number of Pulls')\n",
    "plt.ylabel('Cumulative Probability')\n",
    "plt.title('Genshin Impact Character Banner:\\nChances of pulling at least a 4-Star Character/Weapon')\n",
    "plt.legend()\n",
    "\n",
    "t = plt.text(1,0.65, f'Monte Carlo Simulation based on \\n{char_banner_rate:.2%} pull rate according to Mihoyo', c='white')\n",
    "t.set_bbox(dict(facecolor='red', alpha=0.4, edgecolor='red'))\n",
    "\n",
    "t = plt.text(5,0.05, f'Distributions are statistically significant.\\np-value << 0.05 using Kolmogrov-Smirnov test.', c='white')\n",
    "t.set_bbox(dict(facecolor='blue', alpha=0.4, edgecolor='blue'))\n",
    "\n",
    "s = f'''Actual avg 4* pull rate: {char_actual_avg_rate:.2%}\n",
    "Simulated avg 4* pull rate: {char_sim_avg_rate:.2%}\n",
    "GI Wiki avg 4* pull rate: 13%'''\n",
    "t = plt.text(1,0.35, s, c='white')\n",
    "t.set_bbox(dict(facecolor='blue', alpha=0.4, edgecolor='blue'))\n",
    "\n",
    "t = plt.text(7,0.65, f'Soft pity \\nat 8-9 pulls', c='white')\n",
    "t.set_bbox(dict(facecolor='orange', alpha=0.7, edgecolor='orange'))\n",
    "\n",
    "plt.show()"
   ]
  },
  {
   "cell_type": "code",
   "execution_count": null,
   "metadata": {},
   "outputs": [],
   "source": []
  },
  {
   "cell_type": "markdown",
   "metadata": {},
   "source": [
    "## Statistical Testing"
   ]
  },
  {
   "cell_type": "code",
   "execution_count": 64,
   "metadata": {},
   "outputs": [],
   "source": [
    "# dist_character"
   ]
  },
  {
   "cell_type": "code",
   "execution_count": 65,
   "metadata": {},
   "outputs": [],
   "source": [
    "# dist_character_sim = df_character_simulation.set_index('pulls')\n",
    "# dist_character_sim"
   ]
  },
  {
   "cell_type": "markdown",
   "metadata": {},
   "source": [
    "Inspect the values of empirical data and simulation"
   ]
  },
  {
   "cell_type": "code",
   "execution_count": 66,
   "metadata": {},
   "outputs": [
    {
     "data": {
      "text/plain": [
       "array([ 6,  9, 10,  1,  4])"
      ]
     },
     "execution_count": 66,
     "metadata": {},
     "output_type": "execute_result"
    }
   ],
   "source": [
    "df_character['pulls'].values[:5] # empirical data"
   ]
  },
  {
   "cell_type": "code",
   "execution_count": 67,
   "metadata": {},
   "outputs": [
    {
     "data": {
      "text/plain": [
       "[2, 8, 3, 7, 10]"
      ]
     },
     "execution_count": 67,
     "metadata": {},
     "output_type": "execute_result"
    }
   ],
   "source": [
    "four_star_counter[:5] # simulation"
   ]
  },
  {
   "cell_type": "markdown",
   "metadata": {},
   "source": [
    "Is the empirical data normally distributed?"
   ]
  },
  {
   "cell_type": "code",
   "execution_count": 68,
   "metadata": {},
   "outputs": [
    {
     "data": {
      "text/plain": [
       "KstestResult(statistic=0.9128721856483873, pvalue=2.3235965623590625e-247)"
      ]
     },
     "execution_count": 68,
     "metadata": {},
     "output_type": "execute_result"
    }
   ],
   "source": [
    "stats.kstest(df_character['pulls'], 'norm')"
   ]
  },
  {
   "cell_type": "markdown",
   "metadata": {},
   "source": [
    "No. too low p-value.\n",
    "\n",
    "Are the two distributions statistically the same?"
   ]
  },
  {
   "cell_type": "code",
   "execution_count": 69,
   "metadata": {},
   "outputs": [
    {
     "data": {
      "text/plain": [
       "Ks_2sampResult(statistic=0.41842721546669664, pvalue=7.489446676928945e-36)"
      ]
     },
     "execution_count": 69,
     "metadata": {},
     "output_type": "execute_result"
    }
   ],
   "source": [
    "stats.ks_2samp(df_character['pulls'], four_star_counter)"
   ]
  },
  {
   "cell_type": "markdown",
   "metadata": {},
   "source": [
    "No."
   ]
  },
  {
   "cell_type": "code",
   "execution_count": null,
   "metadata": {},
   "outputs": [],
   "source": []
  },
  {
   "cell_type": "markdown",
   "metadata": {},
   "source": [
    "Sanity check"
   ]
  },
  {
   "cell_type": "code",
   "execution_count": 446,
   "metadata": {},
   "outputs": [
    {
     "data": {
      "text/plain": [
       "KstestResult(statistic=0.05708720934598899, pvalue=0.9003457694502532)"
      ]
     },
     "execution_count": 446,
     "metadata": {},
     "output_type": "execute_result"
    },
    {
     "data": {
      "image/png": "[encoded data removed]",
      "text/plain": [
       "<Figure size 432x288 with 1 Axes>"
      ]
     },
     "metadata": {},
     "output_type": "display_data"
    }
   ],
   "source": [
    "# np.random.seed()\n",
    "mu, sigma = 0, 1 # mean and standard deviation\n",
    "s = np.random.normal(mu, sigma, 100)\n",
    "\n",
    "plt.hist(s)\n",
    "stats.kstest(s, 'norm')"
   ]
  },
  {
   "cell_type": "code",
   "execution_count": null,
   "metadata": {},
   "outputs": [],
   "source": []
  },
  {
   "cell_type": "code",
   "execution_count": null,
   "metadata": {},
   "outputs": [],
   "source": []
  },
  {
   "cell_type": "code",
   "execution_count": null,
   "metadata": {},
   "outputs": [],
   "source": []
  },
  {
   "cell_type": "code",
   "execution_count": null,
   "metadata": {},
   "outputs": [],
   "source": []
  },
  {
   "cell_type": "code",
   "execution_count": null,
   "metadata": {},
   "outputs": [],
   "source": []
  },
  {
   "cell_type": "code",
   "execution_count": null,
   "metadata": {},
   "outputs": [],
   "source": []
  },
  {
   "cell_type": "code",
   "execution_count": null,
   "metadata": {},
   "outputs": [],
   "source": []
  },
  {
   "cell_type": "code",
   "execution_count": null,
   "metadata": {},
   "outputs": [],
   "source": []
  },
  {
   "cell_type": "code",
   "execution_count": 222,
   "metadata": {},
   "outputs": [
    {
     "data": {
      "text/plain": [
       "Ks_2sampResult(statistic=0.0, pvalue=1.0)"
      ]
     },
     "execution_count": 222,
     "metadata": {},
     "output_type": "execute_result"
    }
   ],
   "source": [
    "stats.ks_2samp(df_character['pulls'], df_character['pulls'])"
   ]
  },
  {
   "cell_type": "code",
   "execution_count": 223,
   "metadata": {},
   "outputs": [
    {
     "data": {
      "text/plain": [
       "(131, 2)"
      ]
     },
     "execution_count": 223,
     "metadata": {},
     "output_type": "execute_result"
    }
   ],
   "source": [
    "df_character.shape"
   ]
  },
  {
   "cell_type": "code",
   "execution_count": 221,
   "metadata": {},
   "outputs": [
    {
     "data": {
      "text/plain": [
       "Ks_2sampResult(statistic=0.3053435114503817, pvalue=8.554676906301644e-06)"
      ]
     },
     "execution_count": 221,
     "metadata": {},
     "output_type": "execute_result"
    }
   ],
   "source": [
    "stats.ks_2samp(df_character['pulls']+1e-4, df_character['pulls'])"
   ]
  },
  {
   "cell_type": "code",
   "execution_count": 203,
   "metadata": {},
   "outputs": [
    {
     "data": {
      "text/plain": [
       "Ks_2sampResult(statistic=0.3053435114503817, pvalue=8.554676906301644e-06)"
      ]
     },
     "execution_count": 203,
     "metadata": {},
     "output_type": "execute_result"
    }
   ],
   "source": [
    "stats.ks_2samp(df_character['pulls']+np.random.random(df_character.shape[0])*0.001, df_character['pulls'])"
   ]
  },
  {
   "cell_type": "code",
   "execution_count": 194,
   "metadata": {},
   "outputs": [
    {
     "data": {
      "text/plain": [
       "Ks_2sampResult(statistic=0.3974964575400815, pvalue=3.232571813282138e-18)"
      ]
     },
     "execution_count": 194,
     "metadata": {},
     "output_type": "execute_result"
    }
   ],
   "source": [
    "stats.ks_2samp(df_character['pulls']+np.random.random(df_character.shape[0]), four_star_counter)"
   ]
  }
 ],
 "metadata": {
  "kernelspec": {
   "display_name": "Python 3",
   "language": "python",
   "name": "python3"
  },
  "language_info": {
   "codemirror_mode": {
    "name": "ipython",
    "version": 3
   },
   "file_extension": ".py",
   "mimetype": "text/x-python",
   "name": "python",
   "nbconvert_exporter": "python",
   "pygments_lexer": "ipython3",
   "version": "3.7.3"
  }
 },
 "nbformat": 4,
 "nbformat_minor": 4
}
